{
 "cells": [
  {
   "cell_type": "code",
   "execution_count": 4,
   "metadata": {
    "execution": {
     "iopub.execute_input": "2020-12-06T01:03:42.861022Z",
     "iopub.status.busy": "2020-12-06T01:03:42.860873Z",
     "iopub.status.idle": "2020-12-06T01:03:42.869306Z",
     "shell.execute_reply": "2020-12-06T01:03:42.868512Z",
     "shell.execute_reply.started": "2020-12-06T01:03:42.861006Z"
    }
   },
   "outputs": [],
   "source": [
    "import cv2   \n",
    "# Read the image\n",
    "img = cv2.imread('../images/confirmados_Departamento_residencia_ANO.jpg')\n",
    "print(img.shape)"
   ]
  },
  {
   "cell_type": "code",
   "execution_count": 4,
   "metadata": {
    "execution": {
     "iopub.execute_input": "2020-12-06T01:03:42.861022Z",
     "iopub.status.busy": "2020-12-06T01:03:42.860873Z",
     "iopub.status.idle": "2020-12-06T01:03:42.869306Z",
     "shell.execute_reply": "2020-12-06T01:03:42.868512Z",
     "shell.execute_reply.started": "2020-12-06T01:03:42.861006Z"
    }
   },
   "outputs": [
    {
     "ename": "ModuleNotFoundError",
     "evalue": "No module named 'cv2'",
     "output_type": "error",
     "traceback": [
      "\u001b[0;31m---------------------------------------------------------------------------\u001b[0m",
      "\u001b[0;31mModuleNotFoundError\u001b[0m                       Traceback (most recent call last)",
      "\u001b[0;32m<ipython-input-4-73db482f162d>\u001b[0m in \u001b[0;36m<module>\u001b[0;34m\u001b[0m\n\u001b[1;32m      1\u001b[0m \u001b[0;36m0\u001b[0m\u001b[0;34m\u001b[0m\u001b[0;34m\u001b[0m\u001b[0m\n\u001b[1;32m      2\u001b[0m \u001b[0;34m\u001b[0m\u001b[0m\n\u001b[0;32m----> 3\u001b[0;31m \u001b[0;32mimport\u001b[0m \u001b[0mcv2\u001b[0m\u001b[0;34m\u001b[0m\u001b[0;34m\u001b[0m\u001b[0m\n\u001b[0m\u001b[1;32m      4\u001b[0m \u001b[0;31m# Read the image\u001b[0m\u001b[0;34m\u001b[0m\u001b[0;34m\u001b[0m\u001b[0;34m\u001b[0m\u001b[0m\n\u001b[1;32m      5\u001b[0m \u001b[0mimg\u001b[0m \u001b[0;34m=\u001b[0m \u001b[0mcv2\u001b[0m\u001b[0;34m.\u001b[0m\u001b[0mimread\u001b[0m\u001b[0;34m(\u001b[0m\u001b[0;34m'../images/confirmados_Departamento_residencia_ANO.jpg'\u001b[0m\u001b[0;34m)\u001b[0m\u001b[0;34m\u001b[0m\u001b[0;34m\u001b[0m\u001b[0m\n",
      "\u001b[0;31mModuleNotFoundError\u001b[0m: No module named 'cv2'"
     ]
    }
   ],
   "source": [
    "height = img.shape[0]\n",
    "width = img.shape[1]\n",
    "\n",
    "# Cut the image in half\n",
    "width_cutoff = width // 2\n",
    "s1 = img[:, :width_cutoff]\n",
    "s2 = img[:, width_cutoff:]\n",
    "\n",
    "cv2.imwrite(\"file path where to be saved\", s1)\n",
    "cv2.imwrite(\"file path where to be saved\", s2)"
   ]
  },
  {
   "cell_type": "code",
   "execution_count": null,
   "metadata": {},
   "outputs": [],
   "source": []
  }
 ],
 "metadata": {
  "kernelspec": {
   "display_name": "Python 3",
   "language": "python",
   "name": "python3"
  },
  "language_info": {
   "codemirror_mode": {
    "name": "ipython",
    "version": 3
   },
   "file_extension": ".py",
   "mimetype": "text/x-python",
   "name": "python",
   "nbconvert_exporter": "python",
   "pygments_lexer": "ipython3",
   "version": "3.8.5"
  }
 },
 "nbformat": 4,
 "nbformat_minor": 4
}
