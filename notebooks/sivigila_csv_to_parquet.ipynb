{
 "cells": [
  {
   "cell_type": "code",
   "execution_count": 1,
   "metadata": {
    "execution": {
     "iopub.execute_input": "2020-12-03T04:38:07.390381Z",
     "iopub.status.busy": "2020-12-03T04:38:07.390159Z",
     "iopub.status.idle": "2020-12-03T04:38:07.393952Z",
     "shell.execute_reply": "2020-12-03T04:38:07.393188Z",
     "shell.execute_reply.started": "2020-12-03T04:38:07.390334Z"
    }
   },
   "outputs": [],
   "source": [
    "# Este notebook debe ejecutarse en la carpeta que contenga las 3 carpetas de sivigila"
   ]
  },
  {
   "cell_type": "code",
   "execution_count": 2,
   "metadata": {
    "execution": {
     "iopub.execute_input": "2020-12-03T04:38:07.394930Z",
     "iopub.status.busy": "2020-12-03T04:38:07.394800Z",
     "iopub.status.idle": "2020-12-03T04:38:07.566034Z",
     "shell.execute_reply": "2020-12-03T04:38:07.565165Z",
     "shell.execute_reply.started": "2020-12-03T04:38:07.394915Z"
    }
   },
   "outputs": [],
   "source": [
    "import pandas as pd\n",
    "import os"
   ]
  },
  {
   "cell_type": "code",
   "execution_count": 3,
   "metadata": {
    "execution": {
     "iopub.execute_input": "2020-12-03T04:38:07.567508Z",
     "iopub.status.busy": "2020-12-03T04:38:07.567365Z",
     "iopub.status.idle": "2020-12-03T04:38:07.570530Z",
     "shell.execute_reply": "2020-12-03T04:38:07.569774Z",
     "shell.execute_reply.started": "2020-12-03T04:38:07.567491Z"
    }
   },
   "outputs": [],
   "source": [
    "# GUARDAMOS LOS NOMBRES DE LOS ARCHIVOS"
   ]
  },
  {
   "cell_type": "code",
   "execution_count": 4,
   "metadata": {
    "execution": {
     "iopub.execute_input": "2020-12-03T04:38:07.571614Z",
     "iopub.status.busy": "2020-12-03T04:38:07.571475Z",
     "iopub.status.idle": "2020-12-03T04:38:07.587588Z",
     "shell.execute_reply": "2020-12-03T04:38:07.586815Z",
     "shell.execute_reply.started": "2020-12-03T04:38:07.571598Z"
    }
   },
   "outputs": [],
   "source": [
    "files_2016 = os.listdir('./SIVIGILA_2016')\n",
    "files_2017 =os.listdir('./SIVIGILA_2017')\n",
    "files_2018 =os.listdir('./SIVIGILA_2018')"
   ]
  },
  {
   "cell_type": "code",
   "execution_count": 5,
   "metadata": {
    "execution": {
     "iopub.execute_input": "2020-12-03T04:38:07.588545Z",
     "iopub.status.busy": "2020-12-03T04:38:07.588370Z",
     "iopub.status.idle": "2020-12-03T04:38:07.594147Z",
     "shell.execute_reply": "2020-12-03T04:38:07.593430Z",
     "shell.execute_reply.started": "2020-12-03T04:38:07.588509Z"
    }
   },
   "outputs": [],
   "source": [
    "# CREAMOS LAS NUEVAS CARPETAS"
   ]
  },
  {
   "cell_type": "code",
   "execution_count": 6,
   "metadata": {
    "execution": {
     "iopub.execute_input": "2020-12-03T04:38:07.594993Z",
     "iopub.status.busy": "2020-12-03T04:38:07.594866Z",
     "iopub.status.idle": "2020-12-03T04:38:07.608103Z",
     "shell.execute_reply": "2020-12-03T04:38:07.607334Z",
     "shell.execute_reply.started": "2020-12-03T04:38:07.594977Z"
    }
   },
   "outputs": [
    {
     "name": "stdout",
     "output_type": "stream",
     "text": [
      "Ya existe el directorio ./SIVIGILA_2016_PARQUET\n",
      "Ya existe el directorio ./SIVIGILA_2017_PARQUET\n",
      "Ya existe el directorio ./SIVIGILA_2018_PARQUET\n"
     ]
    }
   ],
   "source": [
    "new_dir=['./SIVIGILA_2016_PARQUET',\n",
    "        './SIVIGILA_2017_PARQUET',\n",
    "        './SIVIGILA_2018_PARQUET']\n",
    "for i in new_dir:\n",
    "    try:\n",
    "        os.mkdir(i)\n",
    "    except:\n",
    "        print(f'Ya existe el directorio {i}')"
   ]
  },
  {
   "cell_type": "code",
   "execution_count": 7,
   "metadata": {
    "execution": {
     "iopub.execute_input": "2020-12-03T04:38:07.608926Z",
     "iopub.status.busy": "2020-12-03T04:38:07.608805Z",
     "iopub.status.idle": "2020-12-03T04:38:07.616876Z",
     "shell.execute_reply": "2020-12-03T04:38:07.616150Z",
     "shell.execute_reply.started": "2020-12-03T04:38:07.608911Z"
    }
   },
   "outputs": [],
   "source": [
    "# GUARDAMOS LOS NOMBRES SIN EL .CSV"
   ]
  },
  {
   "cell_type": "code",
   "execution_count": 8,
   "metadata": {
    "execution": {
     "iopub.execute_input": "2020-12-03T04:38:07.617977Z",
     "iopub.status.busy": "2020-12-03T04:38:07.617811Z",
     "iopub.status.idle": "2020-12-03T04:38:07.629058Z",
     "shell.execute_reply": "2020-12-03T04:38:07.628410Z",
     "shell.execute_reply.started": "2020-12-03T04:38:07.617955Z"
    }
   },
   "outputs": [],
   "source": [
    "files_2016_names=[x.split('.')[0] for x in files_2016]\n",
    "files_2017_names=[x.split('.')[0] for x in files_2017]\n",
    "files_2018_names=[x.split('.')[0] for x in files_2018]"
   ]
  },
  {
   "cell_type": "code",
   "execution_count": 9,
   "metadata": {
    "execution": {
     "iopub.execute_input": "2020-12-03T04:38:07.630464Z",
     "iopub.status.busy": "2020-12-03T04:38:07.630332Z",
     "iopub.status.idle": "2020-12-03T04:38:08.838651Z",
     "shell.execute_reply": "2020-12-03T04:38:08.837830Z",
     "shell.execute_reply.started": "2020-12-03T04:38:07.630449Z"
    }
   },
   "outputs": [],
   "source": [
    "# LEEMOS LOS CSV Y GUARDAMOS LOS DATAFRAME EN UNA LISTA\n",
    "li_2016 = []\n",
    "for filename in files_2016:\n",
    "    li_2016.append(pd.read_csv(f'./SIVIGILA_2016/{filename}', encoding='latin1', low_memory= False))"
   ]
  },
  {
   "cell_type": "code",
   "execution_count": 10,
   "metadata": {
    "execution": {
     "iopub.execute_input": "2020-12-03T04:38:08.839673Z",
     "iopub.status.busy": "2020-12-03T04:38:08.839540Z",
     "iopub.status.idle": "2020-12-03T04:38:09.330857Z",
     "shell.execute_reply": "2020-12-03T04:38:09.330201Z",
     "shell.execute_reply.started": "2020-12-03T04:38:08.839657Z"
    }
   },
   "outputs": [],
   "source": [
    "li_2017 = []\n",
    "for filename in files_2017:\n",
    "    li_2017.append(pd.read_csv(f'./SIVIGILA_2017/{filename}', encoding='latin1', low_memory= False))"
   ]
  },
  {
   "cell_type": "code",
   "execution_count": 11,
   "metadata": {
    "execution": {
     "iopub.execute_input": "2020-12-03T04:38:09.331653Z",
     "iopub.status.busy": "2020-12-03T04:38:09.331522Z",
     "iopub.status.idle": "2020-12-03T04:38:09.760622Z",
     "shell.execute_reply": "2020-12-03T04:38:09.759800Z",
     "shell.execute_reply.started": "2020-12-03T04:38:09.331638Z"
    }
   },
   "outputs": [],
   "source": [
    "li_2018= []\n",
    "for filename in files_2018:\n",
    "    li_2018.append(pd.read_csv(f'./SIVIGILA_2018/{filename}', encoding='latin1', low_memory= False))"
   ]
  },
  {
   "cell_type": "code",
   "execution_count": 12,
   "metadata": {
    "execution": {
     "iopub.execute_input": "2020-12-03T04:38:09.761540Z",
     "iopub.status.busy": "2020-12-03T04:38:09.761399Z",
     "iopub.status.idle": "2020-12-03T04:38:09.764479Z",
     "shell.execute_reply": "2020-12-03T04:38:09.763718Z",
     "shell.execute_reply.started": "2020-12-03T04:38:09.761523Z"
    }
   },
   "outputs": [],
   "source": [
    "# GUARDAMOS EN FORMATO PARQUET"
   ]
  },
  {
   "cell_type": "code",
   "execution_count": 13,
   "metadata": {
    "execution": {
     "iopub.execute_input": "2020-12-03T04:38:09.765504Z",
     "iopub.status.busy": "2020-12-03T04:38:09.765339Z",
     "iopub.status.idle": "2020-12-03T04:38:10.511317Z",
     "shell.execute_reply": "2020-12-03T04:38:10.510638Z",
     "shell.execute_reply.started": "2020-12-03T04:38:09.765470Z"
    }
   },
   "outputs": [],
   "source": [
    "for i, df_2016 in enumerate(li_2016):\n",
    "    df_2016.to_parquet(f'./SIVIGILA_2016_PARQUET/{files_2016_names[i]}.parquet')"
   ]
  },
  {
   "cell_type": "code",
   "execution_count": 14,
   "metadata": {
    "execution": {
     "iopub.execute_input": "2020-12-03T04:38:10.512415Z",
     "iopub.status.busy": "2020-12-03T04:38:10.512280Z",
     "iopub.status.idle": "2020-12-03T04:38:10.943723Z",
     "shell.execute_reply": "2020-12-03T04:38:10.942643Z",
     "shell.execute_reply.started": "2020-12-03T04:38:10.512399Z"
    }
   },
   "outputs": [],
   "source": [
    "for i, df_2017 in enumerate(li_2017):\n",
    "    df_2017.to_parquet(f'./SIVIGILA_2017_PARQUET/{files_2017_names[i]}.parquet')"
   ]
  },
  {
   "cell_type": "code",
   "execution_count": 15,
   "metadata": {
    "execution": {
     "iopub.execute_input": "2020-12-03T04:38:10.945064Z",
     "iopub.status.busy": "2020-12-03T04:38:10.944847Z",
     "iopub.status.idle": "2020-12-03T04:38:11.282749Z",
     "shell.execute_reply": "2020-12-03T04:38:11.282114Z",
     "shell.execute_reply.started": "2020-12-03T04:38:10.945041Z"
    }
   },
   "outputs": [],
   "source": [
    "for i, df_2018 in enumerate(li_2018):\n",
    "    df_2018.to_parquet(f'./SIVIGILA_2018_PARQUET/{files_2018_names[i]}.parquet')"
   ]
  },
  {
   "cell_type": "code",
   "execution_count": null,
   "metadata": {},
   "outputs": [],
   "source": []
  }
 ],
 "metadata": {
  "kernelspec": {
   "display_name": "Python 3",
   "language": "python",
   "name": "python3"
  },
  "language_info": {
   "codemirror_mode": {
    "name": "ipython",
    "version": 3
   },
   "file_extension": ".py",
   "mimetype": "text/x-python",
   "name": "python",
   "nbconvert_exporter": "python",
   "pygments_lexer": "ipython3",
   "version": "3.8.5"
  }
 },
 "nbformat": 4,
 "nbformat_minor": 4
}
