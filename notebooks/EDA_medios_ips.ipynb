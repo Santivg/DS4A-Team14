{
 "cells": [
  {
   "cell_type": "code",
   "execution_count": 1,
   "metadata": {
    "execution": {
     "iopub.execute_input": "2020-12-04T18:17:11.155220Z",
     "iopub.status.busy": "2020-12-04T18:17:11.154957Z",
     "iopub.status.idle": "2020-12-04T18:17:11.297047Z",
     "shell.execute_reply": "2020-12-04T18:17:11.296447Z",
     "shell.execute_reply.started": "2020-12-04T18:17:11.155182Z"
    }
   },
   "outputs": [],
   "source": [
    "import pandas as pd\n",
    "import numpy as np\n",
    "pd.set_option('display.max_rows', 40)\n",
    "pd.set_option('display.max_columns', 999)"
   ]
  },
  {
   "cell_type": "code",
   "execution_count": 2,
   "metadata": {
    "execution": {
     "iopub.execute_input": "2020-12-04T18:17:11.300188Z",
     "iopub.status.busy": "2020-12-04T18:17:11.300056Z",
     "iopub.status.idle": "2020-12-04T18:17:11.303057Z",
     "shell.execute_reply": "2020-12-04T18:17:11.302339Z",
     "shell.execute_reply.started": "2020-12-04T18:17:11.300172Z"
    }
   },
   "outputs": [],
   "source": [
    "dir_data= '../parquet_datasets'"
   ]
  },
  {
   "cell_type": "code",
   "execution_count": 3,
   "metadata": {
    "execution": {
     "iopub.execute_input": "2020-12-04T18:17:11.304004Z",
     "iopub.status.busy": "2020-12-04T18:17:11.303890Z",
     "iopub.status.idle": "2020-12-04T18:17:11.728414Z",
     "shell.execute_reply": "2020-12-04T18:17:11.727827Z",
     "shell.execute_reply.started": "2020-12-04T18:17:11.303989Z"
    }
   },
   "outputs": [],
   "source": [
    "medicos_ips=pd.read_parquet(f'{dir_data}/medicos_ips_servicios_corregido.parquet')"
   ]
  },
  {
   "cell_type": "code",
   "execution_count": 4,
   "metadata": {
    "execution": {
     "iopub.execute_input": "2020-12-04T18:17:11.729166Z",
     "iopub.status.busy": "2020-12-04T18:17:11.729050Z",
     "iopub.status.idle": "2020-12-04T18:17:11.758320Z",
     "shell.execute_reply": "2020-12-04T18:17:11.757576Z",
     "shell.execute_reply.started": "2020-12-04T18:17:11.729152Z"
    }
   },
   "outputs": [
    {
     "data": {
      "text/html": [
       "<div>\n",
       "<style scoped>\n",
       "    .dataframe tbody tr th:only-of-type {\n",
       "        vertical-align: middle;\n",
       "    }\n",
       "\n",
       "    .dataframe tbody tr th {\n",
       "        vertical-align: top;\n",
       "    }\n",
       "\n",
       "    .dataframe thead th {\n",
       "        text-align: right;\n",
       "    }\n",
       "</style>\n",
       "<table border=\"1\" class=\"dataframe\">\n",
       "  <thead>\n",
       "    <tr style=\"text-align: right;\">\n",
       "      <th></th>\n",
       "      <th>depa_nombre</th>\n",
       "      <th>muni_nombre</th>\n",
       "      <th>habi_codigo_habilitacion</th>\n",
       "      <th>numero_sede</th>\n",
       "      <th>sede_nombre</th>\n",
       "      <th>direccion</th>\n",
       "      <th>telefono</th>\n",
       "      <th>email</th>\n",
       "      <th>nits_nit</th>\n",
       "      <th>dv</th>\n",
       "      <th>clase_persona</th>\n",
       "      <th>naju_codigo</th>\n",
       "      <th>naju_nombre</th>\n",
       "      <th>clpr_codigo</th>\n",
       "      <th>clpr_nombre</th>\n",
       "      <th>ese</th>\n",
       "      <th>nivel</th>\n",
       "      <th>caracter</th>\n",
       "      <th>habilitado</th>\n",
       "      <th>grse_codigo</th>\n",
       "      <th>grse_nombre</th>\n",
       "      <th>serv_codigo</th>\n",
       "      <th>serv_nombre</th>\n",
       "      <th>ambulatorio</th>\n",
       "      <th>hospitalario</th>\n",
       "      <th>unidad_movil</th>\n",
       "      <th>domiciliario</th>\n",
       "      <th>otras_extramural</th>\n",
       "      <th>centro_referencia</th>\n",
       "      <th>institucion_remisora</th>\n",
       "      <th>complejidad_baja</th>\n",
       "      <th>complejidad_media</th>\n",
       "      <th>complejidad_alta</th>\n",
       "      <th>fecha_apertura</th>\n",
       "      <th>fecha_cierre</th>\n",
       "      <th>numero_distintivo</th>\n",
       "      <th>numero_sede_principal</th>\n",
       "      <th>observaciones_serv_Res3100_2019</th>\n",
       "      <th>fecha_corte_REPS</th>\n",
       "      <th>nombre_prestador</th>\n",
       "      <th>Unnamed: 41</th>\n",
       "    </tr>\n",
       "  </thead>\n",
       "  <tbody>\n",
       "    <tr>\n",
       "      <th>0</th>\n",
       "      <td>Antioquia</td>\n",
       "      <td>MEDELLÍN</td>\n",
       "      <td>500100003</td>\n",
       "      <td>1</td>\n",
       "      <td>BERNARDO  AGUDELO JARAMILLO</td>\n",
       "      <td>CL 19A N° 44- 25 Cons 2301</td>\n",
       "      <td>3665349</td>\n",
       "      <td>bernardo.agudelo@gmail.com</td>\n",
       "      <td>71578430</td>\n",
       "      <td>0</td>\n",
       "      <td>NATURAL</td>\n",
       "      <td>1</td>\n",
       "      <td>Privada</td>\n",
       "      <td>2</td>\n",
       "      <td>Profesional Independiente</td>\n",
       "      <td></td>\n",
       "      <td></td>\n",
       "      <td>None</td>\n",
       "      <td>SI</td>\n",
       "      <td>3</td>\n",
       "      <td>Consulta Externa</td>\n",
       "      <td>320</td>\n",
       "      <td>320 -GINECOBSTETRICIA</td>\n",
       "      <td>SI</td>\n",
       "      <td>NO</td>\n",
       "      <td>NO</td>\n",
       "      <td>NO</td>\n",
       "      <td>NO</td>\n",
       "      <td>NO</td>\n",
       "      <td>NO</td>\n",
       "      <td>NO</td>\n",
       "      <td>SI</td>\n",
       "      <td>NO</td>\n",
       "      <td>20110727</td>\n",
       "      <td>nan</td>\n",
       "      <td>DHS018733</td>\n",
       "      <td>01</td>\n",
       "      <td>None</td>\n",
       "      <td>Fecha corte REPS: Nov 28 2020 10:17PM</td>\n",
       "      <td>BERNARDO  AGUDELO JARAMILLO</td>\n",
       "      <td>None</td>\n",
       "    </tr>\n",
       "    <tr>\n",
       "      <th>1</th>\n",
       "      <td>Antioquia</td>\n",
       "      <td>MEDELLÍN</td>\n",
       "      <td>500100008</td>\n",
       "      <td>1</td>\n",
       "      <td>ANA CARMENZA POSADA ISAZA</td>\n",
       "      <td>CL  2 SUR # 46 - 55 CS 253 FASE II CLINICA LAS...</td>\n",
       "      <td>2687270</td>\n",
       "      <td>consultorioacposada@une.net.co</td>\n",
       "      <td>32530725</td>\n",
       "      <td>0</td>\n",
       "      <td>NATURAL</td>\n",
       "      <td>1</td>\n",
       "      <td>Privada</td>\n",
       "      <td>2</td>\n",
       "      <td>Profesional Independiente</td>\n",
       "      <td></td>\n",
       "      <td></td>\n",
       "      <td>None</td>\n",
       "      <td>SI</td>\n",
       "      <td>3</td>\n",
       "      <td>Consulta Externa</td>\n",
       "      <td>328</td>\n",
       "      <td>328 -MEDICINA GENERAL</td>\n",
       "      <td>SI</td>\n",
       "      <td>NO</td>\n",
       "      <td>NO</td>\n",
       "      <td>NO</td>\n",
       "      <td>NO</td>\n",
       "      <td>NO</td>\n",
       "      <td>NO</td>\n",
       "      <td>SI</td>\n",
       "      <td>NO</td>\n",
       "      <td>NO</td>\n",
       "      <td>20121121</td>\n",
       "      <td>nan</td>\n",
       "      <td>DHS069909</td>\n",
       "      <td>01</td>\n",
       "      <td>None</td>\n",
       "      <td>Fecha corte REPS: Nov 28 2020 10:17PM</td>\n",
       "      <td>ANA CARMENZA POSADA ISAZA</td>\n",
       "      <td>None</td>\n",
       "    </tr>\n",
       "    <tr>\n",
       "      <th>2</th>\n",
       "      <td>Antioquia</td>\n",
       "      <td>MEDELLÍN</td>\n",
       "      <td>500100010</td>\n",
       "      <td>1</td>\n",
       "      <td>JUAN CAMILO RESTREPO SALCEDO</td>\n",
       "      <td>DIAG 75B # 2A - 80 CONS 809</td>\n",
       "      <td>None</td>\n",
       "      <td>None</td>\n",
       "      <td>70569409</td>\n",
       "      <td>6</td>\n",
       "      <td>NATURAL</td>\n",
       "      <td>1</td>\n",
       "      <td>Privada</td>\n",
       "      <td>2</td>\n",
       "      <td>Profesional Independiente</td>\n",
       "      <td>NO</td>\n",
       "      <td></td>\n",
       "      <td>None</td>\n",
       "      <td>SI</td>\n",
       "      <td>3</td>\n",
       "      <td>Consulta Externa</td>\n",
       "      <td>342</td>\n",
       "      <td>342 -PEDIATRÍA</td>\n",
       "      <td>SI</td>\n",
       "      <td>NO</td>\n",
       "      <td>NO</td>\n",
       "      <td>NO</td>\n",
       "      <td>NO</td>\n",
       "      <td>NO</td>\n",
       "      <td>NO</td>\n",
       "      <td>NO</td>\n",
       "      <td>SI</td>\n",
       "      <td>NO</td>\n",
       "      <td>20030218</td>\n",
       "      <td>nan</td>\n",
       "      <td>DHS075097</td>\n",
       "      <td>01</td>\n",
       "      <td>None</td>\n",
       "      <td>Fecha corte REPS: Nov 28 2020 10:17PM</td>\n",
       "      <td>JUAN CAMILO RESTREPO SALCEDO</td>\n",
       "      <td>None</td>\n",
       "    </tr>\n",
       "    <tr>\n",
       "      <th>3</th>\n",
       "      <td>Antioquia</td>\n",
       "      <td>MEDELLÍN</td>\n",
       "      <td>500100012</td>\n",
       "      <td>1</td>\n",
       "      <td>INSTITUTO DEL CORAZON</td>\n",
       "      <td>CIRCULAR 73 N° 39-37</td>\n",
       "      <td>3207242</td>\n",
       "      <td>calidad@institutodelcorazon.org.co</td>\n",
       "      <td>800107179</td>\n",
       "      <td>2</td>\n",
       "      <td>JURIDICO</td>\n",
       "      <td>1</td>\n",
       "      <td>Privada</td>\n",
       "      <td>1</td>\n",
       "      <td>Instituciones - IPS</td>\n",
       "      <td>NO</td>\n",
       "      <td></td>\n",
       "      <td>None</td>\n",
       "      <td>SI</td>\n",
       "      <td>7</td>\n",
       "      <td>Apoyo Diagnóstico y Complementación Terapéutica</td>\n",
       "      <td>701</td>\n",
       "      <td>701 -DIAGNÓSTICO CARDIOVASCULAR</td>\n",
       "      <td>SI</td>\n",
       "      <td>NO</td>\n",
       "      <td>NO</td>\n",
       "      <td>NO</td>\n",
       "      <td>NO</td>\n",
       "      <td>SI</td>\n",
       "      <td>NO</td>\n",
       "      <td>NO</td>\n",
       "      <td>NO</td>\n",
       "      <td>SI</td>\n",
       "      <td>20030219</td>\n",
       "      <td>nan</td>\n",
       "      <td>DHS140830</td>\n",
       "      <td>01</td>\n",
       "      <td>None</td>\n",
       "      <td>Fecha corte REPS: Nov 28 2020 10:17PM</td>\n",
       "      <td>INSTITUTO DEL CORAZON S.A.S</td>\n",
       "      <td>None</td>\n",
       "    </tr>\n",
       "    <tr>\n",
       "      <th>4</th>\n",
       "      <td>Antioquia</td>\n",
       "      <td>MEDELLÍN</td>\n",
       "      <td>500100012</td>\n",
       "      <td>1</td>\n",
       "      <td>INSTITUTO DEL CORAZON</td>\n",
       "      <td>CIRCULAR 73 N° 39-37</td>\n",
       "      <td>3207242</td>\n",
       "      <td>calidad@institutodelcorazon.org.co</td>\n",
       "      <td>800107179</td>\n",
       "      <td>2</td>\n",
       "      <td>JURIDICO</td>\n",
       "      <td>1</td>\n",
       "      <td>Privada</td>\n",
       "      <td>1</td>\n",
       "      <td>Instituciones - IPS</td>\n",
       "      <td>NO</td>\n",
       "      <td></td>\n",
       "      <td>None</td>\n",
       "      <td>SI</td>\n",
       "      <td>7</td>\n",
       "      <td>Apoyo Diagnóstico y Complementación Terapéutica</td>\n",
       "      <td>729</td>\n",
       "      <td>729 -TERAPIA RESPIRATORIA</td>\n",
       "      <td>SI</td>\n",
       "      <td>NO</td>\n",
       "      <td>NO</td>\n",
       "      <td>SI</td>\n",
       "      <td>NO</td>\n",
       "      <td>NO</td>\n",
       "      <td>NO</td>\n",
       "      <td>SI</td>\n",
       "      <td>NO</td>\n",
       "      <td>NO</td>\n",
       "      <td>20130905</td>\n",
       "      <td>nan</td>\n",
       "      <td>DHS140832</td>\n",
       "      <td>01</td>\n",
       "      <td>None</td>\n",
       "      <td>Fecha corte REPS: Nov 28 2020 10:17PM</td>\n",
       "      <td>INSTITUTO DEL CORAZON S.A.S</td>\n",
       "      <td>None</td>\n",
       "    </tr>\n",
       "  </tbody>\n",
       "</table>\n",
       "</div>"
      ],
      "text/plain": [
       "  depa_nombre muni_nombre  habi_codigo_habilitacion  numero_sede  \\\n",
       "0   Antioquia    MEDELLÍN                 500100003            1   \n",
       "1   Antioquia    MEDELLÍN                 500100008            1   \n",
       "2   Antioquia    MEDELLÍN                 500100010            1   \n",
       "3   Antioquia    MEDELLÍN                 500100012            1   \n",
       "4   Antioquia    MEDELLÍN                 500100012            1   \n",
       "\n",
       "                    sede_nombre  \\\n",
       "0   BERNARDO  AGUDELO JARAMILLO   \n",
       "1     ANA CARMENZA POSADA ISAZA   \n",
       "2  JUAN CAMILO RESTREPO SALCEDO   \n",
       "3        INSTITUTO DEL CORAZON    \n",
       "4        INSTITUTO DEL CORAZON    \n",
       "\n",
       "                                           direccion telefono  \\\n",
       "0                         CL 19A N° 44- 25 Cons 2301  3665349   \n",
       "1  CL  2 SUR # 46 - 55 CS 253 FASE II CLINICA LAS...  2687270   \n",
       "2                        DIAG 75B # 2A - 80 CONS 809     None   \n",
       "3                               CIRCULAR 73 N° 39-37  3207242   \n",
       "4                               CIRCULAR 73 N° 39-37  3207242   \n",
       "\n",
       "                                email   nits_nit dv clase_persona naju_codigo  \\\n",
       "0          bernardo.agudelo@gmail.com   71578430  0       NATURAL           1   \n",
       "1      consultorioacposada@une.net.co   32530725  0       NATURAL           1   \n",
       "2                                None   70569409  6       NATURAL           1   \n",
       "3  calidad@institutodelcorazon.org.co  800107179  2      JURIDICO           1   \n",
       "4  calidad@institutodelcorazon.org.co  800107179  2      JURIDICO           1   \n",
       "\n",
       "  naju_nombre clpr_codigo                clpr_nombre ese nivel caracter  \\\n",
       "0     Privada           2  Profesional Independiente               None   \n",
       "1     Privada           2  Profesional Independiente               None   \n",
       "2     Privada           2  Profesional Independiente  NO           None   \n",
       "3     Privada           1        Instituciones - IPS  NO           None   \n",
       "4     Privada           1        Instituciones - IPS  NO           None   \n",
       "\n",
       "  habilitado grse_codigo                                      grse_nombre  \\\n",
       "0         SI           3                                 Consulta Externa   \n",
       "1         SI           3                                 Consulta Externa   \n",
       "2         SI           3                                 Consulta Externa   \n",
       "3         SI           7  Apoyo Diagnóstico y Complementación Terapéutica   \n",
       "4         SI           7  Apoyo Diagnóstico y Complementación Terapéutica   \n",
       "\n",
       "  serv_codigo                      serv_nombre ambulatorio hospitalario  \\\n",
       "0         320            320 -GINECOBSTETRICIA          SI           NO   \n",
       "1         328            328 -MEDICINA GENERAL          SI           NO   \n",
       "2         342                   342 -PEDIATRÍA          SI           NO   \n",
       "3         701  701 -DIAGNÓSTICO CARDIOVASCULAR          SI           NO   \n",
       "4         729        729 -TERAPIA RESPIRATORIA          SI           NO   \n",
       "\n",
       "  unidad_movil domiciliario otras_extramural centro_referencia  \\\n",
       "0           NO           NO               NO                NO   \n",
       "1           NO           NO               NO                NO   \n",
       "2           NO           NO               NO                NO   \n",
       "3           NO           NO               NO                SI   \n",
       "4           NO           SI               NO                NO   \n",
       "\n",
       "  institucion_remisora complejidad_baja complejidad_media complejidad_alta  \\\n",
       "0                   NO               NO                SI               NO   \n",
       "1                   NO               SI                NO               NO   \n",
       "2                   NO               NO                SI               NO   \n",
       "3                   NO               NO                NO               SI   \n",
       "4                   NO               SI                NO               NO   \n",
       "\n",
       "  fecha_apertura fecha_cierre numero_distintivo numero_sede_principal  \\\n",
       "0       20110727          nan         DHS018733                    01   \n",
       "1       20121121          nan         DHS069909                    01   \n",
       "2       20030218          nan         DHS075097                    01   \n",
       "3       20030219          nan         DHS140830                    01   \n",
       "4       20130905          nan         DHS140832                    01   \n",
       "\n",
       "  observaciones_serv_Res3100_2019                       fecha_corte_REPS  \\\n",
       "0                            None  Fecha corte REPS: Nov 28 2020 10:17PM   \n",
       "1                            None  Fecha corte REPS: Nov 28 2020 10:17PM   \n",
       "2                            None  Fecha corte REPS: Nov 28 2020 10:17PM   \n",
       "3                            None  Fecha corte REPS: Nov 28 2020 10:17PM   \n",
       "4                            None  Fecha corte REPS: Nov 28 2020 10:17PM   \n",
       "\n",
       "               nombre_prestador Unnamed: 41  \n",
       "0   BERNARDO  AGUDELO JARAMILLO        None  \n",
       "1     ANA CARMENZA POSADA ISAZA        None  \n",
       "2  JUAN CAMILO RESTREPO SALCEDO        None  \n",
       "3   INSTITUTO DEL CORAZON S.A.S        None  \n",
       "4   INSTITUTO DEL CORAZON S.A.S        None  "
      ]
     },
     "execution_count": 4,
     "metadata": {},
     "output_type": "execute_result"
    }
   ],
   "source": [
    "medicos_ips.head()"
   ]
  },
  {
   "cell_type": "code",
   "execution_count": 5,
   "metadata": {
    "execution": {
     "iopub.execute_input": "2020-12-04T18:17:11.759316Z",
     "iopub.status.busy": "2020-12-04T18:17:11.759170Z",
     "iopub.status.idle": "2020-12-04T18:17:11.791157Z",
     "shell.execute_reply": "2020-12-04T18:17:11.790525Z",
     "shell.execute_reply.started": "2020-12-04T18:17:11.759300Z"
    }
   },
   "outputs": [
    {
     "data": {
      "text/plain": [
       "Index(['depa_nombre', 'muni_nombre', 'habi_codigo_habilitacion', 'numero_sede',\n",
       "       'sede_nombre', 'direccion', 'telefono', 'email', 'nits_nit', 'dv',\n",
       "       'clase_persona', 'naju_codigo', 'naju_nombre', 'clpr_codigo',\n",
       "       'clpr_nombre', 'ese', 'nivel', 'caracter', 'habilitado', 'grse_codigo',\n",
       "       'grse_nombre', 'serv_codigo', 'serv_nombre', 'ambulatorio',\n",
       "       'hospitalario', 'unidad_movil', 'domiciliario', 'otras_extramural',\n",
       "       'centro_referencia', 'institucion_remisora', 'complejidad_baja',\n",
       "       'complejidad_media', 'complejidad_alta', 'fecha_apertura',\n",
       "       'fecha_cierre', 'numero_distintivo', 'numero_sede_principal',\n",
       "       'observaciones_serv_Res3100_2019', 'fecha_corte_REPS',\n",
       "       'nombre_prestador', 'Unnamed: 41'],\n",
       "      dtype='object')"
      ]
     },
     "execution_count": 5,
     "metadata": {},
     "output_type": "execute_result"
    }
   ],
   "source": [
    "medicos_ips.columns"
   ]
  },
  {
   "cell_type": "code",
   "execution_count": 6,
   "metadata": {
    "execution": {
     "iopub.execute_input": "2020-12-04T18:17:11.791923Z",
     "iopub.status.busy": "2020-12-04T18:17:11.791762Z",
     "iopub.status.idle": "2020-12-04T18:17:11.827243Z",
     "shell.execute_reply": "2020-12-04T18:17:11.826530Z",
     "shell.execute_reply.started": "2020-12-04T18:17:11.791907Z"
    }
   },
   "outputs": [
    {
     "data": {
      "text/plain": [
       "array(['Antioquia', 'Atlántico', 'Bogotá D.C', 'Bolívar', 'Boyacá',\n",
       "       'Caldas', 'Caquetá', 'Cauca', 'Cesar', 'Córdoba', 'Cundinamarca',\n",
       "       'Chocó', 'Huila', 'La Guajira', 'Magdalena', 'Meta', 'Nariño',\n",
       "       'Norte de Santander', 'Quindío', 'Risaralda', 'Santander', 'Sucre',\n",
       "       'Tolima', 'Valle del cauca', 'Arauca', 'Casanare', 'Putumayo',\n",
       "       'San Andrés y Providencia', 'Amazonas', 'Guainía', 'Guaviare',\n",
       "       'Vaupés', 'Vichada'], dtype=object)"
      ]
     },
     "execution_count": 6,
     "metadata": {},
     "output_type": "execute_result"
    }
   ],
   "source": [
    "medicos_ips['depa_nombre'].unique()"
   ]
  },
  {
   "cell_type": "code",
   "execution_count": 7,
   "metadata": {
    "execution": {
     "iopub.execute_input": "2020-12-04T18:17:11.828154Z",
     "iopub.status.busy": "2020-12-04T18:17:11.828015Z",
     "iopub.status.idle": "2020-12-04T18:17:11.846672Z",
     "shell.execute_reply": "2020-12-04T18:17:11.845952Z",
     "shell.execute_reply.started": "2020-12-04T18:17:11.828138Z"
    }
   },
   "outputs": [],
   "source": [
    "# for i in medicos_ips['muni_nombre'].unique():\n",
    "#     print(i)"
   ]
  },
  {
   "cell_type": "code",
   "execution_count": 8,
   "metadata": {
    "execution": {
     "iopub.execute_input": "2020-12-04T18:17:11.848157Z",
     "iopub.status.busy": "2020-12-04T18:17:11.848031Z",
     "iopub.status.idle": "2020-12-04T18:17:12.012605Z",
     "shell.execute_reply": "2020-12-04T18:17:12.012015Z",
     "shell.execute_reply.started": "2020-12-04T18:17:11.848142Z"
    }
   },
   "outputs": [],
   "source": [
    "list_unique=[]\n",
    "for i in medicos_ips.iloc[:,10:23].columns:\n",
    "    list_unique.append([i, medicos_ips[i].unique()])"
   ]
  },
  {
   "cell_type": "markdown",
   "metadata": {
    "execution": {
     "iopub.execute_input": "2020-12-03T17:05:57.386875Z",
     "iopub.status.busy": "2020-12-03T17:05:57.386733Z",
     "iopub.status.idle": "2020-12-03T17:05:57.422632Z",
     "shell.execute_reply": "2020-12-03T17:05:57.422088Z",
     "shell.execute_reply.started": "2020-12-03T17:05:57.386860Z"
    }
   },
   "source": [
    "**Toca corregir las columnas que se vallan a usar ya que muchas de las columnas tienen datos erroneos**"
   ]
  },
  {
   "cell_type": "code",
   "execution_count": 9,
   "metadata": {
    "execution": {
     "iopub.execute_input": "2020-12-04T18:17:12.013424Z",
     "iopub.status.busy": "2020-12-04T18:17:12.013309Z",
     "iopub.status.idle": "2020-12-04T18:17:12.017752Z",
     "shell.execute_reply": "2020-12-04T18:17:12.017177Z",
     "shell.execute_reply.started": "2020-12-04T18:17:12.013409Z"
    }
   },
   "outputs": [
    {
     "data": {
      "text/plain": [
       "[['naju_codigo',\n",
       "  array(['1', '4', 'JURIDICO', '3', '890985417', '1.0', '3.0', '4.0',\n",
       "         '809011703', 'NATURAL', '7', '9'], dtype=object)],\n",
       " ['naju_nombre',\n",
       "  array(['Privada', 'Pública', '4', 'Mixta', '1', '3', 'JURIDICO'],\n",
       "        dtype=object)],\n",
       " ['clpr_codigo',\n",
       "  array(['2', '1', '4', 'Pública', 'Privada', '3', 'JURIDICO', '1.0', '2.0',\n",
       "         '4.0', '3.0'], dtype=object)],\n",
       " ['clpr_nombre',\n",
       "  array(['Profesional Independiente', 'Instituciones - IPS',\n",
       "         'Objeto Social Diferente a la Prestación de Servicios de Salud',\n",
       "         '1', 'Transporte Especial de Pacientes', 'Privada', '4', '2'],\n",
       "        dtype=object)],\n",
       " ['ese',\n",
       "  array(['  ', 'NO', 'SI', 'Instituciones - IPS', 'Privada', '1',\n",
       "         'Objeto Social Diferente a la Prestación de Servicios de Salud',\n",
       "         'Profesional Independiente'], dtype=object)],\n",
       " ['nivel',\n",
       "  array([' ', '3', '2', 'SI', '1', 'NO', '4', '  ', 'Instituciones - IPS'],\n",
       "        dtype=object)],\n",
       " ['caracter',\n",
       "  array([None, 'MUNICIPAL', '2', 'DEPARTAMENTAL', 'NACIONAL', ' ',\n",
       "         'Objeto Social Diferente a la Prestación de Servicios de Salud',\n",
       "         'DISTRITAL', 'Instituciones - IPS', '1', 'NO', 'INDIGENA', '3',\n",
       "         '  '], dtype=object)],\n",
       " ['habilitado',\n",
       "  array(['SI', 'MUNICIPAL', None, '  ', 'DEPARTAMENTAL', 'NO', ' '],\n",
       "        dtype=object)]]"
      ]
     },
     "execution_count": 9,
     "metadata": {},
     "output_type": "execute_result"
    }
   ],
   "source": [
    "list_unique[1:9]"
   ]
  },
  {
   "cell_type": "code",
   "execution_count": 10,
   "metadata": {
    "execution": {
     "iopub.execute_input": "2020-12-04T18:17:12.018461Z",
     "iopub.status.busy": "2020-12-04T18:17:12.018344Z",
     "iopub.status.idle": "2020-12-04T18:17:12.066712Z",
     "shell.execute_reply": "2020-12-04T18:17:12.066033Z",
     "shell.execute_reply.started": "2020-12-04T18:17:12.018446Z"
    }
   },
   "outputs": [
    {
     "data": {
      "text/html": [
       "<div>\n",
       "<style scoped>\n",
       "    .dataframe tbody tr th:only-of-type {\n",
       "        vertical-align: middle;\n",
       "    }\n",
       "\n",
       "    .dataframe tbody tr th {\n",
       "        vertical-align: top;\n",
       "    }\n",
       "\n",
       "    .dataframe thead th {\n",
       "        text-align: right;\n",
       "    }\n",
       "</style>\n",
       "<table border=\"1\" class=\"dataframe\">\n",
       "  <thead>\n",
       "    <tr style=\"text-align: right;\">\n",
       "      <th></th>\n",
       "      <th>clase_persona</th>\n",
       "      <th>naju_codigo</th>\n",
       "      <th>naju_nombre</th>\n",
       "      <th>clpr_codigo</th>\n",
       "      <th>clpr_nombre</th>\n",
       "      <th>ese</th>\n",
       "      <th>nivel</th>\n",
       "      <th>caracter</th>\n",
       "    </tr>\n",
       "  </thead>\n",
       "  <tbody>\n",
       "    <tr>\n",
       "      <th>3170</th>\n",
       "      <td>1</td>\n",
       "      <td>JURIDICO</td>\n",
       "      <td>4</td>\n",
       "      <td>Pública</td>\n",
       "      <td>1</td>\n",
       "      <td>Instituciones - IPS</td>\n",
       "      <td>SI</td>\n",
       "      <td>2</td>\n",
       "    </tr>\n",
       "    <tr>\n",
       "      <th>10523</th>\n",
       "      <td>2</td>\n",
       "      <td>JURIDICO</td>\n",
       "      <td>1</td>\n",
       "      <td>Privada</td>\n",
       "      <td>1</td>\n",
       "      <td>Instituciones - IPS</td>\n",
       "      <td>NO</td>\n",
       "      <td></td>\n",
       "    </tr>\n",
       "    <tr>\n",
       "      <th>15644</th>\n",
       "      <td>veronica.saldarriaga@uam.edu.co</td>\n",
       "      <td>890985417</td>\n",
       "      <td>3</td>\n",
       "      <td>JURIDICO</td>\n",
       "      <td>1</td>\n",
       "      <td>Privada</td>\n",
       "      <td>4</td>\n",
       "      <td>Objeto Social Diferente a la Prestación de Ser...</td>\n",
       "    </tr>\n",
       "    <tr>\n",
       "      <th>15645</th>\n",
       "      <td>veronica.saldarriaga@uam.edu.co</td>\n",
       "      <td>890985417</td>\n",
       "      <td>3</td>\n",
       "      <td>JURIDICO</td>\n",
       "      <td>1</td>\n",
       "      <td>Privada</td>\n",
       "      <td>4</td>\n",
       "      <td>Objeto Social Diferente a la Prestación de Ser...</td>\n",
       "    </tr>\n",
       "    <tr>\n",
       "      <th>15646</th>\n",
       "      <td>veronica.saldarriaga@uam.edu.co</td>\n",
       "      <td>890985417</td>\n",
       "      <td>3</td>\n",
       "      <td>JURIDICO</td>\n",
       "      <td>1</td>\n",
       "      <td>Privada</td>\n",
       "      <td>4</td>\n",
       "      <td>Objeto Social Diferente a la Prestación de Ser...</td>\n",
       "    </tr>\n",
       "    <tr>\n",
       "      <th>...</th>\n",
       "      <td>...</td>\n",
       "      <td>...</td>\n",
       "      <td>...</td>\n",
       "      <td>...</td>\n",
       "      <td>...</td>\n",
       "      <td>...</td>\n",
       "      <td>...</td>\n",
       "      <td>...</td>\n",
       "    </tr>\n",
       "    <tr>\n",
       "      <th>268931</th>\n",
       "      <td>9</td>\n",
       "      <td>JURIDICO</td>\n",
       "      <td>1</td>\n",
       "      <td>Privada</td>\n",
       "      <td>1</td>\n",
       "      <td>Instituciones - IPS</td>\n",
       "      <td></td>\n",
       "      <td></td>\n",
       "    </tr>\n",
       "    <tr>\n",
       "      <th>268932</th>\n",
       "      <td>9</td>\n",
       "      <td>JURIDICO</td>\n",
       "      <td>1</td>\n",
       "      <td>Privada</td>\n",
       "      <td>1</td>\n",
       "      <td>Instituciones - IPS</td>\n",
       "      <td></td>\n",
       "      <td></td>\n",
       "    </tr>\n",
       "    <tr>\n",
       "      <th>268933</th>\n",
       "      <td>9</td>\n",
       "      <td>JURIDICO</td>\n",
       "      <td>1</td>\n",
       "      <td>Privada</td>\n",
       "      <td>1</td>\n",
       "      <td>Instituciones - IPS</td>\n",
       "      <td></td>\n",
       "      <td></td>\n",
       "    </tr>\n",
       "    <tr>\n",
       "      <th>274221</th>\n",
       "      <td>6</td>\n",
       "      <td>NATURAL</td>\n",
       "      <td>1</td>\n",
       "      <td>Privada</td>\n",
       "      <td>2</td>\n",
       "      <td>Profesional Independiente</td>\n",
       "      <td></td>\n",
       "      <td></td>\n",
       "    </tr>\n",
       "    <tr>\n",
       "      <th>274222</th>\n",
       "      <td>6</td>\n",
       "      <td>NATURAL</td>\n",
       "      <td>1</td>\n",
       "      <td>Privada</td>\n",
       "      <td>2</td>\n",
       "      <td>Profesional Independiente</td>\n",
       "      <td></td>\n",
       "      <td></td>\n",
       "    </tr>\n",
       "  </tbody>\n",
       "</table>\n",
       "<p>622 rows × 8 columns</p>\n",
       "</div>"
      ],
      "text/plain": [
       "                           clase_persona naju_codigo naju_nombre clpr_codigo  \\\n",
       "3170                                   1    JURIDICO           4     Pública   \n",
       "10523                                  2    JURIDICO           1     Privada   \n",
       "15644    veronica.saldarriaga@uam.edu.co   890985417           3    JURIDICO   \n",
       "15645    veronica.saldarriaga@uam.edu.co   890985417           3    JURIDICO   \n",
       "15646    veronica.saldarriaga@uam.edu.co   890985417           3    JURIDICO   \n",
       "...                                  ...         ...         ...         ...   \n",
       "268931                                 9    JURIDICO           1     Privada   \n",
       "268932                                 9    JURIDICO           1     Privada   \n",
       "268933                                 9    JURIDICO           1     Privada   \n",
       "274221                                 6     NATURAL           1     Privada   \n",
       "274222                                 6     NATURAL           1     Privada   \n",
       "\n",
       "       clpr_nombre                        ese nivel  \\\n",
       "3170             1        Instituciones - IPS    SI   \n",
       "10523            1        Instituciones - IPS    NO   \n",
       "15644            1                    Privada     4   \n",
       "15645            1                    Privada     4   \n",
       "15646            1                    Privada     4   \n",
       "...            ...                        ...   ...   \n",
       "268931           1        Instituciones - IPS         \n",
       "268932           1        Instituciones - IPS         \n",
       "268933           1        Instituciones - IPS         \n",
       "274221           2  Profesional Independiente         \n",
       "274222           2  Profesional Independiente         \n",
       "\n",
       "                                                 caracter  \n",
       "3170                                                    2  \n",
       "10523                                                      \n",
       "15644   Objeto Social Diferente a la Prestación de Ser...  \n",
       "15645   Objeto Social Diferente a la Prestación de Ser...  \n",
       "15646   Objeto Social Diferente a la Prestación de Ser...  \n",
       "...                                                   ...  \n",
       "268931                                                     \n",
       "268932                                                     \n",
       "268933                                                     \n",
       "274221                                                     \n",
       "274222                                                     \n",
       "\n",
       "[622 rows x 8 columns]"
      ]
     },
     "execution_count": 10,
     "metadata": {},
     "output_type": "execute_result"
    }
   ],
   "source": [
    "medicos_ips.iloc[:,10:18][medicos_ips['clpr_nombre'].isin(['1','4','2'])]"
   ]
  },
  {
   "cell_type": "markdown",
   "metadata": {},
   "source": [
    "**Existen registros con `clpr_nombre` erroneo y con el valor real en una columna diferente para 622 registros**."
   ]
  },
  {
   "cell_type": "code",
   "execution_count": 11,
   "metadata": {
    "execution": {
     "iopub.execute_input": "2020-12-04T18:17:12.067673Z",
     "iopub.status.busy": "2020-12-04T18:17:12.067497Z",
     "iopub.status.idle": "2020-12-04T18:17:12.070648Z",
     "shell.execute_reply": "2020-12-04T18:17:12.070033Z",
     "shell.execute_reply.started": "2020-12-04T18:17:12.067652Z"
    }
   },
   "outputs": [],
   "source": [
    "clpr_nombre_valid=['Profesional Independiente', 'Instituciones - IPS','Objeto Social Diferente a la Prestación de Servicios de Salud','Transporte Especial de Pacientes']"
   ]
  },
  {
   "cell_type": "code",
   "execution_count": 12,
   "metadata": {
    "execution": {
     "iopub.execute_input": "2020-12-04T18:17:12.071444Z",
     "iopub.status.busy": "2020-12-04T18:17:12.071327Z",
     "iopub.status.idle": "2020-12-04T18:17:15.030852Z",
     "shell.execute_reply": "2020-12-04T18:17:15.030246Z",
     "shell.execute_reply.started": "2020-12-04T18:17:12.071429Z"
    }
   },
   "outputs": [],
   "source": [
    "clpr_nombre_cor_list=[]\n",
    "for i in medicos_ips.index:\n",
    "    if medicos_ips['clpr_nombre'].iloc[i] in clpr_nombre_valid:\n",
    "        clpr_nombre_cor_list.append(medicos_ips['clpr_nombre'].iloc[i])\n",
    "    elif medicos_ips['ese'].iloc[i]in clpr_nombre_valid:\n",
    "        clpr_nombre_cor_list.append(medicos_ips['ese'].iloc[i])\n",
    "    elif medicos_ips['nivel'].iloc[i] in clpr_nombre_valid:\n",
    "        clpr_nombre_cor_list.append(medicos_ips['nivel'].iloc[i])\n",
    "    elif medicos_ips['caracter'].iloc[i] in clpr_nombre_valid:\n",
    "        clpr_nombre_cor_list.append(medicos_ips['caracter'].iloc[i])\n",
    "    else:\n",
    "        clpr_nombre_cor_list.append(np.nan)"
   ]
  },
  {
   "cell_type": "code",
   "execution_count": 13,
   "metadata": {
    "execution": {
     "iopub.execute_input": "2020-12-04T18:17:15.031567Z",
     "iopub.status.busy": "2020-12-04T18:17:15.031451Z",
     "iopub.status.idle": "2020-12-04T18:17:15.071157Z",
     "shell.execute_reply": "2020-12-04T18:17:15.070557Z",
     "shell.execute_reply.started": "2020-12-04T18:17:15.031552Z"
    }
   },
   "outputs": [],
   "source": [
    "clpr_nombre_cor_series=pd.Series(clpr_nombre_cor_list, dtype='str', index=medicos_ips.index)"
   ]
  },
  {
   "cell_type": "code",
   "execution_count": 14,
   "metadata": {
    "execution": {
     "iopub.execute_input": "2020-12-04T18:17:15.071919Z",
     "iopub.status.busy": "2020-12-04T18:17:15.071757Z",
     "iopub.status.idle": "2020-12-04T18:17:15.204288Z",
     "shell.execute_reply": "2020-12-04T18:17:15.203721Z",
     "shell.execute_reply.started": "2020-12-04T18:17:15.071899Z"
    }
   },
   "outputs": [],
   "source": [
    "medicos_ips.insert(15,'clpr_nombre_cor',clpr_nombre_cor_series)"
   ]
  },
  {
   "cell_type": "code",
   "execution_count": 15,
   "metadata": {
    "execution": {
     "iopub.execute_input": "2020-12-04T18:17:15.204988Z",
     "iopub.status.busy": "2020-12-04T18:17:15.204875Z",
     "iopub.status.idle": "2020-12-04T18:17:15.240737Z",
     "shell.execute_reply": "2020-12-04T18:17:15.240137Z",
     "shell.execute_reply.started": "2020-12-04T18:17:15.204974Z"
    }
   },
   "outputs": [
    {
     "data": {
      "text/plain": [
       "array(['Profesional Independiente', 'Instituciones - IPS',\n",
       "       'Objeto Social Diferente a la Prestación de Servicios de Salud',\n",
       "       'Transporte Especial de Pacientes'], dtype=object)"
      ]
     },
     "execution_count": 15,
     "metadata": {},
     "output_type": "execute_result"
    }
   ],
   "source": [
    "medicos_ips['clpr_nombre_cor'].unique()"
   ]
  },
  {
   "cell_type": "code",
   "execution_count": 18,
   "metadata": {
    "execution": {
     "iopub.execute_input": "2020-12-04T18:20:00.475391Z",
     "iopub.status.busy": "2020-12-04T18:20:00.475237Z",
     "iopub.status.idle": "2020-12-04T18:20:00.511512Z",
     "shell.execute_reply": "2020-12-04T18:20:00.510920Z",
     "shell.execute_reply.started": "2020-12-04T18:20:00.475376Z"
    }
   },
   "outputs": [],
   "source": [
    "medicos_independientes=medicos_ips[medicos_ips['clpr_nombre_cor']=='Profesional Independiente']"
   ]
  },
  {
   "cell_type": "code",
   "execution_count": 24,
   "metadata": {
    "execution": {
     "iopub.execute_input": "2020-12-04T18:21:57.787882Z",
     "iopub.status.busy": "2020-12-04T18:21:57.787726Z",
     "iopub.status.idle": "2020-12-04T18:21:57.791816Z",
     "shell.execute_reply": "2020-12-04T18:21:57.791260Z",
     "shell.execute_reply.started": "2020-12-04T18:21:57.787866Z"
    }
   },
   "outputs": [
    {
     "data": {
      "text/plain": [
       "(81365, 42)"
      ]
     },
     "execution_count": 24,
     "metadata": {},
     "output_type": "execute_result"
    }
   ],
   "source": [
    "medicos_independientes.shape"
   ]
  },
  {
   "cell_type": "code",
   "execution_count": 27,
   "metadata": {
    "execution": {
     "iopub.execute_input": "2020-12-04T18:22:37.010251Z",
     "iopub.status.busy": "2020-12-04T18:22:37.010089Z",
     "iopub.status.idle": "2020-12-04T18:22:37.035607Z",
     "shell.execute_reply": "2020-12-04T18:22:37.035039Z",
     "shell.execute_reply.started": "2020-12-04T18:22:37.010235Z"
    }
   },
   "outputs": [
    {
     "data": {
      "text/html": [
       "<div>\n",
       "<style scoped>\n",
       "    .dataframe tbody tr th:only-of-type {\n",
       "        vertical-align: middle;\n",
       "    }\n",
       "\n",
       "    .dataframe tbody tr th {\n",
       "        vertical-align: top;\n",
       "    }\n",
       "\n",
       "    .dataframe thead th {\n",
       "        text-align: right;\n",
       "    }\n",
       "</style>\n",
       "<table border=\"1\" class=\"dataframe\">\n",
       "  <thead>\n",
       "    <tr style=\"text-align: right;\">\n",
       "      <th></th>\n",
       "      <th>depa_nombre</th>\n",
       "      <th>muni_nombre</th>\n",
       "      <th>habi_codigo_habilitacion</th>\n",
       "      <th>numero_sede</th>\n",
       "      <th>sede_nombre</th>\n",
       "      <th>direccion</th>\n",
       "      <th>telefono</th>\n",
       "      <th>email</th>\n",
       "      <th>nits_nit</th>\n",
       "      <th>dv</th>\n",
       "      <th>clase_persona</th>\n",
       "      <th>naju_codigo</th>\n",
       "      <th>naju_nombre</th>\n",
       "      <th>clpr_codigo</th>\n",
       "      <th>clpr_nombre</th>\n",
       "      <th>clpr_nombre_cor</th>\n",
       "      <th>ese</th>\n",
       "      <th>nivel</th>\n",
       "      <th>caracter</th>\n",
       "      <th>habilitado</th>\n",
       "      <th>grse_codigo</th>\n",
       "      <th>grse_nombre</th>\n",
       "      <th>serv_codigo</th>\n",
       "      <th>serv_nombre</th>\n",
       "      <th>ambulatorio</th>\n",
       "      <th>hospitalario</th>\n",
       "      <th>unidad_movil</th>\n",
       "      <th>domiciliario</th>\n",
       "      <th>otras_extramural</th>\n",
       "      <th>centro_referencia</th>\n",
       "      <th>institucion_remisora</th>\n",
       "      <th>complejidad_baja</th>\n",
       "      <th>complejidad_media</th>\n",
       "      <th>complejidad_alta</th>\n",
       "      <th>fecha_apertura</th>\n",
       "      <th>fecha_cierre</th>\n",
       "      <th>numero_distintivo</th>\n",
       "      <th>numero_sede_principal</th>\n",
       "      <th>observaciones_serv_Res3100_2019</th>\n",
       "      <th>fecha_corte_REPS</th>\n",
       "      <th>nombre_prestador</th>\n",
       "      <th>Unnamed: 41</th>\n",
       "    </tr>\n",
       "  </thead>\n",
       "  <tbody>\n",
       "    <tr>\n",
       "      <th>104041</th>\n",
       "      <td>Bogotá D.C</td>\n",
       "      <td>BOGOTÁ</td>\n",
       "      <td>1100136617</td>\n",
       "      <td>1</td>\n",
       "      <td>ENRIQUE GUILLERMO TANG VILLANUEVA</td>\n",
       "      <td>KR 16 # 82 76 CS 317</td>\n",
       "      <td>3178326426</td>\n",
       "      <td>enriquetangvillanueva@gmail.com</td>\n",
       "      <td>73201718.0</td>\n",
       "      <td>nan</td>\n",
       "      <td>NATURAL</td>\n",
       "      <td>1.0</td>\n",
       "      <td>Privada</td>\n",
       "      <td>2.0</td>\n",
       "      <td>Profesional Independiente</td>\n",
       "      <td>Profesional Independiente</td>\n",
       "      <td></td>\n",
       "      <td></td>\n",
       "      <td>None</td>\n",
       "      <td>SI</td>\n",
       "      <td>7.0</td>\n",
       "      <td>Apoyo Diagnóstico y Complementación Terapéutica</td>\n",
       "      <td>745.0</td>\n",
       "      <td>745 -IMÁGENES DIAGNOSTICAS - NO IONIZANTES</td>\n",
       "      <td>.</td>\n",
       "      <td>.</td>\n",
       "      <td>.</td>\n",
       "      <td>.</td>\n",
       "      <td>.</td>\n",
       "      <td>.</td>\n",
       "      <td>.</td>\n",
       "      <td>NO</td>\n",
       "      <td>SI</td>\n",
       "      <td>NO</td>\n",
       "      <td>20201006.0</td>\n",
       "      <td>nan</td>\n",
       "      <td>DHS1135029</td>\n",
       "      <td>01</td>\n",
       "      <td>MODALIDADES: INTRAMURAL AMBULATORIO</td>\n",
       "      <td>None</td>\n",
       "      <td>None</td>\n",
       "      <td>None</td>\n",
       "    </tr>\n",
       "  </tbody>\n",
       "</table>\n",
       "</div>"
      ],
      "text/plain": [
       "       depa_nombre muni_nombre  habi_codigo_habilitacion  numero_sede  \\\n",
       "104041  Bogotá D.C      BOGOTÁ                1100136617            1   \n",
       "\n",
       "                              sede_nombre             direccion    telefono  \\\n",
       "104041  ENRIQUE GUILLERMO TANG VILLANUEVA  KR 16 # 82 76 CS 317  3178326426   \n",
       "\n",
       "                                  email    nits_nit   dv clase_persona  \\\n",
       "104041  enriquetangvillanueva@gmail.com  73201718.0  nan       NATURAL   \n",
       "\n",
       "       naju_codigo naju_nombre clpr_codigo                clpr_nombre  \\\n",
       "104041         1.0     Privada         2.0  Profesional Independiente   \n",
       "\n",
       "                  clpr_nombre_cor ese nivel caracter habilitado grse_codigo  \\\n",
       "104041  Profesional Independiente               None         SI         7.0   \n",
       "\n",
       "                                            grse_nombre serv_codigo  \\\n",
       "104041  Apoyo Diagnóstico y Complementación Terapéutica       745.0   \n",
       "\n",
       "                                       serv_nombre ambulatorio hospitalario  \\\n",
       "104041  745 -IMÁGENES DIAGNOSTICAS - NO IONIZANTES          .            .    \n",
       "\n",
       "       unidad_movil domiciliario otras_extramural centro_referencia  \\\n",
       "104041           .            .                .                 .    \n",
       "\n",
       "       institucion_remisora complejidad_baja complejidad_media  \\\n",
       "104041                   .                NO                SI   \n",
       "\n",
       "       complejidad_alta fecha_apertura fecha_cierre numero_distintivo  \\\n",
       "104041               NO     20201006.0          nan        DHS1135029   \n",
       "\n",
       "       numero_sede_principal       observaciones_serv_Res3100_2019  \\\n",
       "104041                    01  MODALIDADES: INTRAMURAL AMBULATORIO    \n",
       "\n",
       "       fecha_corte_REPS nombre_prestador Unnamed: 41  \n",
       "104041             None             None        None  "
      ]
     },
     "execution_count": 27,
     "metadata": {},
     "output_type": "execute_result"
    }
   ],
   "source": [
    "medicos_independientes[medicos_independientes['nombre_prestador'].isna()]"
   ]
  },
  {
   "cell_type": "code",
   "execution_count": 30,
   "metadata": {
    "execution": {
     "iopub.execute_input": "2020-12-04T18:31:41.074699Z",
     "iopub.status.busy": "2020-12-04T18:31:41.074545Z",
     "iopub.status.idle": "2020-12-04T18:31:41.083511Z",
     "shell.execute_reply": "2020-12-04T18:31:41.082833Z",
     "shell.execute_reply.started": "2020-12-04T18:31:41.074683Z"
    }
   },
   "outputs": [
    {
     "data": {
      "text/plain": [
       "76942"
      ]
     },
     "execution_count": 30,
     "metadata": {},
     "output_type": "execute_result"
    }
   ],
   "source": [
    "(medicos_independientes['sede_nombre']==medicos_independientes['nombre_prestador']).sum()"
   ]
  },
  {
   "cell_type": "code",
   "execution_count": null,
   "metadata": {},
   "outputs": [],
   "source": []
  }
 ],
 "metadata": {
  "kernelspec": {
   "display_name": "Python 3",
   "language": "python",
   "name": "python3"
  },
  "language_info": {
   "codemirror_mode": {
    "name": "ipython",
    "version": 3
   },
   "file_extension": ".py",
   "mimetype": "text/x-python",
   "name": "python",
   "nbconvert_exporter": "python",
   "pygments_lexer": "ipython3",
   "version": "3.8.5"
  }
 },
 "nbformat": 4,
 "nbformat_minor": 4
}
