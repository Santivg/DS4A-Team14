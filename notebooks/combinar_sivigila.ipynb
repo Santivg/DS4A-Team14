{
 "cells": [
  {
   "cell_type": "code",
   "execution_count": 1,
   "metadata": {
    "execution": {
     "iopub.execute_input": "2020-12-04T23:13:06.501425Z",
     "iopub.status.busy": "2020-12-04T23:13:06.501234Z",
     "iopub.status.idle": "2020-12-04T23:13:06.650189Z",
     "shell.execute_reply": "2020-12-04T23:13:06.649568Z",
     "shell.execute_reply.started": "2020-12-04T23:13:06.501377Z"
    }
   },
   "outputs": [],
   "source": [
    "import pandas as pd\n",
    "import os"
   ]
  },
  {
   "cell_type": "code",
   "execution_count": 2,
   "metadata": {
    "execution": {
     "iopub.execute_input": "2020-12-04T23:13:06.651078Z",
     "iopub.status.busy": "2020-12-04T23:13:06.650957Z",
     "iopub.status.idle": "2020-12-04T23:13:06.654012Z",
     "shell.execute_reply": "2020-12-04T23:13:06.653279Z",
     "shell.execute_reply.started": "2020-12-04T23:13:06.651062Z"
    }
   },
   "outputs": [],
   "source": [
    "dir_data_2017= '../parquet_datasets/SIVIGILA_2017_PARQUET'\n",
    "dir_data_2018= '../parquet_datasets/SIVIGILA_2018_PARQUET'"
   ]
  },
  {
   "cell_type": "code",
   "execution_count": 3,
   "metadata": {
    "execution": {
     "iopub.execute_input": "2020-12-04T23:13:06.655140Z",
     "iopub.status.busy": "2020-12-04T23:13:06.655018Z",
     "iopub.status.idle": "2020-12-04T23:13:06.677233Z",
     "shell.execute_reply": "2020-12-04T23:13:06.676604Z",
     "shell.execute_reply.started": "2020-12-04T23:13:06.655125Z"
    }
   },
   "outputs": [
    {
     "data": {
      "text/plain": [
       "['CHAGAS_datos_2017_205.parquet',\n",
       " 'CHIKUNGUNYA_datos_2017_217.parquet',\n",
       " 'DENGUE_Datos_220_2017.parquet',\n",
       " 'FIEBRE_AMARILLA_datos_2017_310.parquet',\n",
       " 'INFECCION_RESPIRATORIA_AGUDA_GRAVE_IRAG_INUSITADA_datos_2017_348.parquet',\n",
       " 'LEISHMANIASIS_CUTANEA_datos_2017_420.parquet',\n",
       " 'LEISHMANIASIS_MUCOSA_datos_2017_430.parquet',\n",
       " 'LEISHMANIASIS_VISCERAL_datos_2017_440.parquet',\n",
       " 'MALARIA_ASOCIADA_(FORMAS_MIXTAS)_datos_2017_460.parquet',\n",
       " 'MALARIA_COMPLICADA_datos_2017_495.parquet',\n",
       " 'MALARIA_FALCIPARUM_datos_2017_470.parquet',\n",
       " 'MALARIA_VIVAX_datos_2017_490.parquet',\n",
       " 'ZIKA_datos_2017_895.parquet']"
      ]
     },
     "metadata": {},
     "output_type": "display_data"
    },
    {
     "data": {
      "text/plain": [
       "['CHAGAS_Datos_2018_205.parquet',\n",
       " 'CHIKUNGUNYA_Datos_2018_217.parquet',\n",
       " 'DENGUE_Datos_2018_220.parquet',\n",
       " 'FIEBRE_AMARILLA_Datos_2018_310.parquet',\n",
       " 'INFECCION_RESPIRATORIA_AGUDA_GRAVE_IRAG_INUSITADA_Datos_2018_348.parquet',\n",
       " 'LEISHMANIASIS_CUTANEA_Datos_2018_420.parquet',\n",
       " 'LEISHMANIASIS_MUCOSA_Datos_2018_430.parquet',\n",
       " 'LEISHMANIASIS_VISCERAL_Datos_2018_440.parquet',\n",
       " 'MALARIA_ASOCIADA_(FORMAS MIXTAS)_Datos_2018_460.parquet',\n",
       " 'MALARIA_COMPLICADA_Datos_2018_495.parquet',\n",
       " 'MALARIA_FALCIPARUM_Datos_2018_470.parquet',\n",
       " 'MALARIA_VIVAX-Datos_2018_490.parquet',\n",
       " 'ZIKA_Datos_2018_895.parquet']"
      ]
     },
     "metadata": {},
     "output_type": "display_data"
    }
   ],
   "source": [
    "files_2017=os.listdir(dir_data_2017)\n",
    "files_2018=os.listdir(dir_data_2018)\n",
    "display(files_2017)\n",
    "display(files_2018)"
   ]
  },
  {
   "cell_type": "code",
   "execution_count": 4,
   "metadata": {
    "execution": {
     "iopub.execute_input": "2020-12-04T23:13:06.678356Z",
     "iopub.status.busy": "2020-12-04T23:13:06.678194Z",
     "iopub.status.idle": "2020-12-04T23:13:07.024870Z",
     "shell.execute_reply": "2020-12-04T23:13:07.024252Z",
     "shell.execute_reply.started": "2020-12-04T23:13:06.678340Z"
    }
   },
   "outputs": [],
   "source": [
    "list_sivigila_2017 = []\n",
    "for filename in files_2017:\n",
    "    list_sivigila_2017.append(pd.read_parquet(f'{dir_data_2017}/{filename}'))"
   ]
  },
  {
   "cell_type": "code",
   "execution_count": 5,
   "metadata": {
    "execution": {
     "iopub.execute_input": "2020-12-04T23:13:07.025625Z",
     "iopub.status.busy": "2020-12-04T23:13:07.025503Z",
     "iopub.status.idle": "2020-12-04T23:13:07.316159Z",
     "shell.execute_reply": "2020-12-04T23:13:07.315546Z",
     "shell.execute_reply.started": "2020-12-04T23:13:07.025610Z"
    }
   },
   "outputs": [],
   "source": [
    "list_sivigila_2018 = []\n",
    "for filename in files_2018:\n",
    "    list_sivigila_2018.append(pd.read_parquet(f'{dir_data_2018}/{filename}'))"
   ]
  },
  {
   "cell_type": "code",
   "execution_count": 6,
   "metadata": {
    "execution": {
     "iopub.execute_input": "2020-12-04T23:13:07.316926Z",
     "iopub.status.busy": "2020-12-04T23:13:07.316807Z",
     "iopub.status.idle": "2020-12-04T23:13:07.336119Z",
     "shell.execute_reply": "2020-12-04T23:13:07.335390Z",
     "shell.execute_reply.started": "2020-12-04T23:13:07.316911Z"
    }
   },
   "outputs": [
    {
     "data": {
      "text/html": [
       "<div>\n",
       "<style scoped>\n",
       "    .dataframe tbody tr th:only-of-type {\n",
       "        vertical-align: middle;\n",
       "    }\n",
       "\n",
       "    .dataframe tbody tr th {\n",
       "        vertical-align: top;\n",
       "    }\n",
       "\n",
       "    .dataframe thead th {\n",
       "        text-align: right;\n",
       "    }\n",
       "</style>\n",
       "<table border=\"1\" class=\"dataframe\">\n",
       "  <thead>\n",
       "    <tr style=\"text-align: right;\">\n",
       "      <th></th>\n",
       "      <th>CONSECUTIVE</th>\n",
       "      <th>COD_EVE</th>\n",
       "      <th>FEC_NOT</th>\n",
       "      <th>SEMANA</th>\n",
       "      <th>ANO</th>\n",
       "      <th>COD_PRE</th>\n",
       "      <th>COD_SUB</th>\n",
       "      <th>EDAD</th>\n",
       "      <th>UNI_MED</th>\n",
       "      <th>SEXO</th>\n",
       "      <th>...</th>\n",
       "      <th>Evento</th>\n",
       "      <th>Departamento_ocurrencia</th>\n",
       "      <th>Municipio_ocurrencia</th>\n",
       "      <th>Departamento_residencia</th>\n",
       "      <th>Municipio_residencia</th>\n",
       "      <th>Departamento_notificacion</th>\n",
       "      <th>Municipio_Notificacion</th>\n",
       "      <th>Nombre_UPGD</th>\n",
       "      <th>est_f_caso</th>\n",
       "      <th>nom_est_f_caso</th>\n",
       "    </tr>\n",
       "  </thead>\n",
       "  <tbody>\n",
       "    <tr>\n",
       "      <th>0</th>\n",
       "      <td>5429581</td>\n",
       "      <td>205</td>\n",
       "      <td>2017-08-28</td>\n",
       "      <td>31</td>\n",
       "      <td>2017</td>\n",
       "      <td>1100109111</td>\n",
       "      <td>1</td>\n",
       "      <td>46</td>\n",
       "      <td>1</td>\n",
       "      <td>M</td>\n",
       "      <td>...</td>\n",
       "      <td>CHAGAS</td>\n",
       "      <td>NORTE SANTANDER</td>\n",
       "      <td>TIBU</td>\n",
       "      <td>NORTE SANTANDER</td>\n",
       "      <td>TIBU</td>\n",
       "      <td>BOGOTA</td>\n",
       "      <td>BOGOTA</td>\n",
       "      <td>FUNDACION CARDIOINFANTIL INSTITUTO DE CARDIOLOGIA</td>\n",
       "      <td>3</td>\n",
       "      <td>Confirmado por laboratorio</td>\n",
       "    </tr>\n",
       "    <tr>\n",
       "      <th>1</th>\n",
       "      <td>5429832</td>\n",
       "      <td>205</td>\n",
       "      <td>2017-05-10</td>\n",
       "      <td>2</td>\n",
       "      <td>2017</td>\n",
       "      <td>1100109111</td>\n",
       "      <td>1</td>\n",
       "      <td>87</td>\n",
       "      <td>1</td>\n",
       "      <td>F</td>\n",
       "      <td>...</td>\n",
       "      <td>CHAGAS</td>\n",
       "      <td>BOYACA</td>\n",
       "      <td>MONIQUIRA</td>\n",
       "      <td>BOGOTA</td>\n",
       "      <td>BOGOTA</td>\n",
       "      <td>BOGOTA</td>\n",
       "      <td>BOGOTA</td>\n",
       "      <td>FUNDACION CARDIOINFANTIL INSTITUTO DE CARDIOLOGIA</td>\n",
       "      <td>3</td>\n",
       "      <td>Confirmado por laboratorio</td>\n",
       "    </tr>\n",
       "    <tr>\n",
       "      <th>2</th>\n",
       "      <td>5423281</td>\n",
       "      <td>205</td>\n",
       "      <td>2017-09-08</td>\n",
       "      <td>33</td>\n",
       "      <td>2017</td>\n",
       "      <td>1100109111</td>\n",
       "      <td>1</td>\n",
       "      <td>58</td>\n",
       "      <td>1</td>\n",
       "      <td>F</td>\n",
       "      <td>...</td>\n",
       "      <td>CHAGAS</td>\n",
       "      <td>TOLIMA</td>\n",
       "      <td>CARMEN DE APICALA</td>\n",
       "      <td>TOLIMA</td>\n",
       "      <td>CARMEN DE APICALA</td>\n",
       "      <td>BOGOTA</td>\n",
       "      <td>BOGOTA</td>\n",
       "      <td>FUNDACION CARDIOINFANTIL INSTITUTO DE CARDIOLOGIA</td>\n",
       "      <td>3</td>\n",
       "      <td>Confirmado por laboratorio</td>\n",
       "    </tr>\n",
       "    <tr>\n",
       "      <th>3</th>\n",
       "      <td>5422421</td>\n",
       "      <td>205</td>\n",
       "      <td>2017-08-16</td>\n",
       "      <td>28</td>\n",
       "      <td>2017</td>\n",
       "      <td>1100109111</td>\n",
       "      <td>1</td>\n",
       "      <td>68</td>\n",
       "      <td>1</td>\n",
       "      <td>F</td>\n",
       "      <td>...</td>\n",
       "      <td>CHAGAS</td>\n",
       "      <td>SANTANDER</td>\n",
       "      <td>SUCRE</td>\n",
       "      <td>CUNDINAMARCA</td>\n",
       "      <td>ZIPAQUIRA</td>\n",
       "      <td>BOGOTA</td>\n",
       "      <td>BOGOTA</td>\n",
       "      <td>FUNDACION CARDIOINFANTIL INSTITUTO DE CARDIOLOGIA</td>\n",
       "      <td>3</td>\n",
       "      <td>Confirmado por laboratorio</td>\n",
       "    </tr>\n",
       "    <tr>\n",
       "      <th>4</th>\n",
       "      <td>5422463</td>\n",
       "      <td>205</td>\n",
       "      <td>2017-10-27</td>\n",
       "      <td>8</td>\n",
       "      <td>2017</td>\n",
       "      <td>1100109111</td>\n",
       "      <td>1</td>\n",
       "      <td>70</td>\n",
       "      <td>1</td>\n",
       "      <td>F</td>\n",
       "      <td>...</td>\n",
       "      <td>CHAGAS</td>\n",
       "      <td>CUNDINAMARCA</td>\n",
       "      <td>TOCAIMA</td>\n",
       "      <td>BOGOTA</td>\n",
       "      <td>BOGOTA</td>\n",
       "      <td>BOGOTA</td>\n",
       "      <td>BOGOTA</td>\n",
       "      <td>FUNDACION CARDIOINFANTIL INSTITUTO DE CARDIOLOGIA</td>\n",
       "      <td>3</td>\n",
       "      <td>Confirmado por laboratorio</td>\n",
       "    </tr>\n",
       "  </tbody>\n",
       "</table>\n",
       "<p>5 rows × 66 columns</p>\n",
       "</div>"
      ],
      "text/plain": [
       "   CONSECUTIVE  COD_EVE     FEC_NOT  SEMANA   ANO     COD_PRE  COD_SUB  EDAD  \\\n",
       "0      5429581      205  2017-08-28      31  2017  1100109111        1    46   \n",
       "1      5429832      205  2017-05-10       2  2017  1100109111        1    87   \n",
       "2      5423281      205  2017-09-08      33  2017  1100109111        1    58   \n",
       "3      5422421      205  2017-08-16      28  2017  1100109111        1    68   \n",
       "4      5422463      205  2017-10-27       8  2017  1100109111        1    70   \n",
       "\n",
       "   UNI_MED SEXO  ...  Evento  Departamento_ocurrencia  Municipio_ocurrencia  \\\n",
       "0        1    M  ...  CHAGAS          NORTE SANTANDER                  TIBU   \n",
       "1        1    F  ...  CHAGAS                   BOYACA             MONIQUIRA   \n",
       "2        1    F  ...  CHAGAS                   TOLIMA     CARMEN DE APICALA   \n",
       "3        1    F  ...  CHAGAS                SANTANDER                 SUCRE   \n",
       "4        1    F  ...  CHAGAS             CUNDINAMARCA               TOCAIMA   \n",
       "\n",
       "   Departamento_residencia Municipio_residencia Departamento_notificacion  \\\n",
       "0          NORTE SANTANDER                 TIBU                    BOGOTA   \n",
       "1                   BOGOTA               BOGOTA                    BOGOTA   \n",
       "2                   TOLIMA    CARMEN DE APICALA                    BOGOTA   \n",
       "3             CUNDINAMARCA            ZIPAQUIRA                    BOGOTA   \n",
       "4                   BOGOTA               BOGOTA                    BOGOTA   \n",
       "\n",
       "  Municipio_Notificacion                                        Nombre_UPGD  \\\n",
       "0                 BOGOTA  FUNDACION CARDIOINFANTIL INSTITUTO DE CARDIOLOGIA   \n",
       "1                 BOGOTA  FUNDACION CARDIOINFANTIL INSTITUTO DE CARDIOLOGIA   \n",
       "2                 BOGOTA  FUNDACION CARDIOINFANTIL INSTITUTO DE CARDIOLOGIA   \n",
       "3                 BOGOTA  FUNDACION CARDIOINFANTIL INSTITUTO DE CARDIOLOGIA   \n",
       "4                 BOGOTA  FUNDACION CARDIOINFANTIL INSTITUTO DE CARDIOLOGIA   \n",
       "\n",
       "  est_f_caso              nom_est_f_caso  \n",
       "0          3  Confirmado por laboratorio  \n",
       "1          3  Confirmado por laboratorio  \n",
       "2          3  Confirmado por laboratorio  \n",
       "3          3  Confirmado por laboratorio  \n",
       "4          3  Confirmado por laboratorio  \n",
       "\n",
       "[5 rows x 66 columns]"
      ]
     },
     "execution_count": 6,
     "metadata": {},
     "output_type": "execute_result"
    }
   ],
   "source": [
    "list_sivigila_2017[0].head()"
   ]
  },
  {
   "cell_type": "code",
   "execution_count": 7,
   "metadata": {
    "execution": {
     "iopub.execute_input": "2020-12-04T23:13:07.336981Z",
     "iopub.status.busy": "2020-12-04T23:13:07.336839Z",
     "iopub.status.idle": "2020-12-04T23:13:07.339948Z",
     "shell.execute_reply": "2020-12-04T23:13:07.339121Z",
     "shell.execute_reply.started": "2020-12-04T23:13:07.336965Z"
    }
   },
   "outputs": [],
   "source": [
    "# borramos columnas que no estan en ambos años"
   ]
  },
  {
   "cell_type": "code",
   "execution_count": 8,
   "metadata": {
    "execution": {
     "iopub.execute_input": "2020-12-04T23:13:07.341012Z",
     "iopub.status.busy": "2020-12-04T23:13:07.340826Z",
     "iopub.status.idle": "2020-12-04T23:13:07.374330Z",
     "shell.execute_reply": "2020-12-04T23:13:07.373546Z",
     "shell.execute_reply.started": "2020-12-04T23:13:07.340990Z"
    }
   },
   "outputs": [],
   "source": [
    "for df in list_sivigila_2017:\n",
    "    df.drop(columns=['va_sispro', 'Departamento_notificacion','Municipio_Notificacion','Nombre_UPGD'], inplace=True)"
   ]
  },
  {
   "cell_type": "code",
   "execution_count": 9,
   "metadata": {
    "execution": {
     "iopub.execute_input": "2020-12-04T23:13:07.376349Z",
     "iopub.status.busy": "2020-12-04T23:13:07.376159Z",
     "iopub.status.idle": "2020-12-04T23:13:07.403713Z",
     "shell.execute_reply": "2020-12-04T23:13:07.402993Z",
     "shell.execute_reply.started": "2020-12-04T23:13:07.376326Z"
    }
   },
   "outputs": [],
   "source": [
    "for df in list_sivigila_2018:\n",
    "    df.drop(columns=['BAR_VER', 'VERSION'], inplace=True)"
   ]
  },
  {
   "cell_type": "code",
   "execution_count": 10,
   "metadata": {
    "execution": {
     "iopub.execute_input": "2020-12-04T23:13:07.404851Z",
     "iopub.status.busy": "2020-12-04T23:13:07.404645Z",
     "iopub.status.idle": "2020-12-04T23:13:07.410398Z",
     "shell.execute_reply": "2020-12-04T23:13:07.409774Z",
     "shell.execute_reply.started": "2020-12-04T23:13:07.404809Z"
    }
   },
   "outputs": [
    {
     "name": "stdout",
     "output_type": "stream",
     "text": [
      "Departamento_ocurrencia False\n",
      "nom_est_f_caso False\n"
     ]
    }
   ],
   "source": [
    "for i in list_sivigila_2017[0].columns:\n",
    "    col=i in list(list_sivigila_2018[0].columns)\n",
    "    if col== False:\n",
    "        print(i, col)"
   ]
  },
  {
   "cell_type": "code",
   "execution_count": 11,
   "metadata": {
    "execution": {
     "iopub.execute_input": "2020-12-04T23:13:07.411118Z",
     "iopub.status.busy": "2020-12-04T23:13:07.411000Z",
     "iopub.status.idle": "2020-12-04T23:13:07.423261Z",
     "shell.execute_reply": "2020-12-04T23:13:07.422589Z",
     "shell.execute_reply.started": "2020-12-04T23:13:07.411102Z"
    }
   },
   "outputs": [
    {
     "name": "stdout",
     "output_type": "stream",
     "text": [
      "estado_final_de_caso False\n",
      "Departanento_ocurrencia False\n"
     ]
    }
   ],
   "source": [
    "for i in list_sivigila_2018[0].columns:\n",
    "    col=i in list(list_sivigila_2017[0].columns)\n",
    "    if col== False:\n",
    "        print(i, col)"
   ]
  },
  {
   "cell_type": "code",
   "execution_count": 12,
   "metadata": {
    "execution": {
     "iopub.execute_input": "2020-12-04T23:13:07.423990Z",
     "iopub.status.busy": "2020-12-04T23:13:07.423871Z",
     "iopub.status.idle": "2020-12-04T23:13:07.433014Z",
     "shell.execute_reply": "2020-12-04T23:13:07.432303Z",
     "shell.execute_reply.started": "2020-12-04T23:13:07.423976Z"
    }
   },
   "outputs": [],
   "source": [
    "# Cambiamos el nombre de las columnas que no estan igual"
   ]
  },
  {
   "cell_type": "code",
   "execution_count": 13,
   "metadata": {
    "execution": {
     "iopub.execute_input": "2020-12-04T23:13:07.433841Z",
     "iopub.status.busy": "2020-12-04T23:13:07.433700Z",
     "iopub.status.idle": "2020-12-04T23:13:07.449066Z",
     "shell.execute_reply": "2020-12-04T23:13:07.448377Z",
     "shell.execute_reply.started": "2020-12-04T23:13:07.433826Z"
    }
   },
   "outputs": [],
   "source": [
    "for df in list_sivigila_2018:\n",
    "    df.rename(columns={\"estado_final_de_caso\": \"nom_est_f_caso\", \"Departanento_ocurrencia\": \"Departamento_ocurrencia\"}, inplace= True)"
   ]
  },
  {
   "cell_type": "code",
   "execution_count": 14,
   "metadata": {
    "execution": {
     "iopub.execute_input": "2020-12-04T23:13:07.449898Z",
     "iopub.status.busy": "2020-12-04T23:13:07.449775Z",
     "iopub.status.idle": "2020-12-04T23:13:07.461999Z",
     "shell.execute_reply": "2020-12-04T23:13:07.461304Z",
     "shell.execute_reply.started": "2020-12-04T23:13:07.449883Z"
    }
   },
   "outputs": [],
   "source": [
    "for i in list_sivigila_2017[0].columns:\n",
    "    col=i in list(list_sivigila_2018[0].columns)\n",
    "    if col== False:\n",
    "        print(i, col)\n",
    "for i in list_sivigila_2018[0].columns:\n",
    "    col=i in list(list_sivigila_2017[0].columns)\n",
    "    if col== False:\n",
    "        print(i, col)"
   ]
  },
  {
   "cell_type": "code",
   "execution_count": 15,
   "metadata": {
    "execution": {
     "iopub.execute_input": "2020-12-04T23:13:07.462967Z",
     "iopub.status.busy": "2020-12-04T23:13:07.462787Z",
     "iopub.status.idle": "2020-12-04T23:13:07.473266Z",
     "shell.execute_reply": "2020-12-04T23:13:07.472547Z",
     "shell.execute_reply.started": "2020-12-04T23:13:07.462945Z"
    }
   },
   "outputs": [],
   "source": [
    "lista_todos=list_sivigila_2017+list_sivigila_2018"
   ]
  },
  {
   "cell_type": "code",
   "execution_count": 16,
   "metadata": {
    "execution": {
     "iopub.execute_input": "2020-12-04T23:13:07.474297Z",
     "iopub.status.busy": "2020-12-04T23:13:07.474127Z",
     "iopub.status.idle": "2020-12-04T23:13:07.721232Z",
     "shell.execute_reply": "2020-12-04T23:13:07.720634Z",
     "shell.execute_reply.started": "2020-12-04T23:13:07.474278Z"
    }
   },
   "outputs": [],
   "source": [
    "data_todo=pd.concat(lista_todos).reset_index()"
   ]
  },
  {
   "cell_type": "code",
   "execution_count": 17,
   "metadata": {
    "execution": {
     "iopub.execute_input": "2020-12-04T23:13:07.721967Z",
     "iopub.status.busy": "2020-12-04T23:13:07.721848Z",
     "iopub.status.idle": "2020-12-04T23:13:07.842645Z",
     "shell.execute_reply": "2020-12-04T23:13:07.841794Z",
     "shell.execute_reply.started": "2020-12-04T23:13:07.721952Z"
    }
   },
   "outputs": [
    {
     "data": {
      "text/html": [
       "<div>\n",
       "<style scoped>\n",
       "    .dataframe tbody tr th:only-of-type {\n",
       "        vertical-align: middle;\n",
       "    }\n",
       "\n",
       "    .dataframe tbody tr th {\n",
       "        vertical-align: top;\n",
       "    }\n",
       "\n",
       "    .dataframe thead th {\n",
       "        text-align: right;\n",
       "    }\n",
       "</style>\n",
       "<table border=\"1\" class=\"dataframe\">\n",
       "  <thead>\n",
       "    <tr style=\"text-align: right;\">\n",
       "      <th></th>\n",
       "      <th>index</th>\n",
       "      <th>CONSECUTIVE</th>\n",
       "      <th>COD_EVE</th>\n",
       "      <th>FEC_NOT</th>\n",
       "      <th>SEMANA</th>\n",
       "      <th>ANO</th>\n",
       "      <th>COD_PRE</th>\n",
       "      <th>COD_SUB</th>\n",
       "      <th>EDAD</th>\n",
       "      <th>UNI_MED</th>\n",
       "      <th>...</th>\n",
       "      <th>FM_UNIDAD</th>\n",
       "      <th>FM_GRADO</th>\n",
       "      <th>confirmados</th>\n",
       "      <th>Evento</th>\n",
       "      <th>Departamento_ocurrencia</th>\n",
       "      <th>Municipio_ocurrencia</th>\n",
       "      <th>Departamento_residencia</th>\n",
       "      <th>Municipio_residencia</th>\n",
       "      <th>est_f_caso</th>\n",
       "      <th>nom_est_f_caso</th>\n",
       "    </tr>\n",
       "  </thead>\n",
       "  <tbody>\n",
       "    <tr>\n",
       "      <th>0</th>\n",
       "      <td>0</td>\n",
       "      <td>5429581</td>\n",
       "      <td>205</td>\n",
       "      <td>2017-08-28</td>\n",
       "      <td>31</td>\n",
       "      <td>2017</td>\n",
       "      <td>1100109111</td>\n",
       "      <td>1</td>\n",
       "      <td>46</td>\n",
       "      <td>1</td>\n",
       "      <td>...</td>\n",
       "      <td>NaN</td>\n",
       "      <td>None</td>\n",
       "      <td>1</td>\n",
       "      <td>CHAGAS</td>\n",
       "      <td>NORTE SANTANDER</td>\n",
       "      <td>TIBU</td>\n",
       "      <td>NORTE SANTANDER</td>\n",
       "      <td>TIBU</td>\n",
       "      <td>3.0</td>\n",
       "      <td>Confirmado por laboratorio</td>\n",
       "    </tr>\n",
       "    <tr>\n",
       "      <th>1</th>\n",
       "      <td>1</td>\n",
       "      <td>5429832</td>\n",
       "      <td>205</td>\n",
       "      <td>2017-05-10</td>\n",
       "      <td>2</td>\n",
       "      <td>2017</td>\n",
       "      <td>1100109111</td>\n",
       "      <td>1</td>\n",
       "      <td>87</td>\n",
       "      <td>1</td>\n",
       "      <td>...</td>\n",
       "      <td>NaN</td>\n",
       "      <td>None</td>\n",
       "      <td>1</td>\n",
       "      <td>CHAGAS</td>\n",
       "      <td>BOYACA</td>\n",
       "      <td>MONIQUIRA</td>\n",
       "      <td>BOGOTA</td>\n",
       "      <td>BOGOTA</td>\n",
       "      <td>3.0</td>\n",
       "      <td>Confirmado por laboratorio</td>\n",
       "    </tr>\n",
       "    <tr>\n",
       "      <th>2</th>\n",
       "      <td>2</td>\n",
       "      <td>5423281</td>\n",
       "      <td>205</td>\n",
       "      <td>2017-09-08</td>\n",
       "      <td>33</td>\n",
       "      <td>2017</td>\n",
       "      <td>1100109111</td>\n",
       "      <td>1</td>\n",
       "      <td>58</td>\n",
       "      <td>1</td>\n",
       "      <td>...</td>\n",
       "      <td>NaN</td>\n",
       "      <td>None</td>\n",
       "      <td>1</td>\n",
       "      <td>CHAGAS</td>\n",
       "      <td>TOLIMA</td>\n",
       "      <td>CARMEN DE APICALA</td>\n",
       "      <td>TOLIMA</td>\n",
       "      <td>CARMEN DE APICALA</td>\n",
       "      <td>3.0</td>\n",
       "      <td>Confirmado por laboratorio</td>\n",
       "    </tr>\n",
       "    <tr>\n",
       "      <th>3</th>\n",
       "      <td>3</td>\n",
       "      <td>5422421</td>\n",
       "      <td>205</td>\n",
       "      <td>2017-08-16</td>\n",
       "      <td>28</td>\n",
       "      <td>2017</td>\n",
       "      <td>1100109111</td>\n",
       "      <td>1</td>\n",
       "      <td>68</td>\n",
       "      <td>1</td>\n",
       "      <td>...</td>\n",
       "      <td>NaN</td>\n",
       "      <td>None</td>\n",
       "      <td>1</td>\n",
       "      <td>CHAGAS</td>\n",
       "      <td>SANTANDER</td>\n",
       "      <td>SUCRE</td>\n",
       "      <td>CUNDINAMARCA</td>\n",
       "      <td>ZIPAQUIRA</td>\n",
       "      <td>3.0</td>\n",
       "      <td>Confirmado por laboratorio</td>\n",
       "    </tr>\n",
       "    <tr>\n",
       "      <th>4</th>\n",
       "      <td>4</td>\n",
       "      <td>5422463</td>\n",
       "      <td>205</td>\n",
       "      <td>2017-10-27</td>\n",
       "      <td>8</td>\n",
       "      <td>2017</td>\n",
       "      <td>1100109111</td>\n",
       "      <td>1</td>\n",
       "      <td>70</td>\n",
       "      <td>1</td>\n",
       "      <td>...</td>\n",
       "      <td>NaN</td>\n",
       "      <td>None</td>\n",
       "      <td>1</td>\n",
       "      <td>CHAGAS</td>\n",
       "      <td>CUNDINAMARCA</td>\n",
       "      <td>TOCAIMA</td>\n",
       "      <td>BOGOTA</td>\n",
       "      <td>BOGOTA</td>\n",
       "      <td>3.0</td>\n",
       "      <td>Confirmado por laboratorio</td>\n",
       "    </tr>\n",
       "    <tr>\n",
       "      <th>...</th>\n",
       "      <td>...</td>\n",
       "      <td>...</td>\n",
       "      <td>...</td>\n",
       "      <td>...</td>\n",
       "      <td>...</td>\n",
       "      <td>...</td>\n",
       "      <td>...</td>\n",
       "      <td>...</td>\n",
       "      <td>...</td>\n",
       "      <td>...</td>\n",
       "      <td>...</td>\n",
       "      <td>...</td>\n",
       "      <td>...</td>\n",
       "      <td>...</td>\n",
       "      <td>...</td>\n",
       "      <td>...</td>\n",
       "      <td>...</td>\n",
       "      <td>...</td>\n",
       "      <td>...</td>\n",
       "      <td>...</td>\n",
       "      <td>...</td>\n",
       "    </tr>\n",
       "    <tr>\n",
       "      <th>141005</th>\n",
       "      <td>817</td>\n",
       "      <td>5809260</td>\n",
       "      <td>895</td>\n",
       "      <td>2018-07-10</td>\n",
       "      <td>28</td>\n",
       "      <td>2018</td>\n",
       "      <td>7600100037</td>\n",
       "      <td>5</td>\n",
       "      <td>36</td>\n",
       "      <td>1</td>\n",
       "      <td>...</td>\n",
       "      <td>NaN</td>\n",
       "      <td>NaN</td>\n",
       "      <td>1</td>\n",
       "      <td>ZIKA</td>\n",
       "      <td>VALLE</td>\n",
       "      <td>CALI</td>\n",
       "      <td>VALLE</td>\n",
       "      <td>CALI</td>\n",
       "      <td>4.0</td>\n",
       "      <td>Confirmado por Clínica</td>\n",
       "    </tr>\n",
       "    <tr>\n",
       "      <th>141006</th>\n",
       "      <td>818</td>\n",
       "      <td>5849493</td>\n",
       "      <td>895</td>\n",
       "      <td>2018-09-24</td>\n",
       "      <td>39</td>\n",
       "      <td>2018</td>\n",
       "      <td>7600100037</td>\n",
       "      <td>5</td>\n",
       "      <td>51</td>\n",
       "      <td>1</td>\n",
       "      <td>...</td>\n",
       "      <td>NaN</td>\n",
       "      <td>NaN</td>\n",
       "      <td>1</td>\n",
       "      <td>ZIKA</td>\n",
       "      <td>VALLE</td>\n",
       "      <td>CALI</td>\n",
       "      <td>VALLE</td>\n",
       "      <td>CALI</td>\n",
       "      <td>4.0</td>\n",
       "      <td>Confirmado por Clínica</td>\n",
       "    </tr>\n",
       "    <tr>\n",
       "      <th>141007</th>\n",
       "      <td>819</td>\n",
       "      <td>5849495</td>\n",
       "      <td>895</td>\n",
       "      <td>2018-05-16</td>\n",
       "      <td>19</td>\n",
       "      <td>2018</td>\n",
       "      <td>7600100037</td>\n",
       "      <td>5</td>\n",
       "      <td>38</td>\n",
       "      <td>1</td>\n",
       "      <td>...</td>\n",
       "      <td>NaN</td>\n",
       "      <td>NaN</td>\n",
       "      <td>1</td>\n",
       "      <td>ZIKA</td>\n",
       "      <td>VALLE</td>\n",
       "      <td>CALI</td>\n",
       "      <td>VALLE</td>\n",
       "      <td>CALI</td>\n",
       "      <td>4.0</td>\n",
       "      <td>Confirmado por Clínica</td>\n",
       "    </tr>\n",
       "    <tr>\n",
       "      <th>141008</th>\n",
       "      <td>820</td>\n",
       "      <td>5849496</td>\n",
       "      <td>895</td>\n",
       "      <td>2019-03-27</td>\n",
       "      <td>28</td>\n",
       "      <td>2018</td>\n",
       "      <td>7600105817</td>\n",
       "      <td>1</td>\n",
       "      <td>47</td>\n",
       "      <td>1</td>\n",
       "      <td>...</td>\n",
       "      <td>NaN</td>\n",
       "      <td>NaN</td>\n",
       "      <td>1</td>\n",
       "      <td>ZIKA</td>\n",
       "      <td>VALLE</td>\n",
       "      <td>CALI</td>\n",
       "      <td>VALLE</td>\n",
       "      <td>CALI</td>\n",
       "      <td>4.0</td>\n",
       "      <td>Confirmado por Clínica</td>\n",
       "    </tr>\n",
       "    <tr>\n",
       "      <th>141009</th>\n",
       "      <td>821</td>\n",
       "      <td>5849497</td>\n",
       "      <td>895</td>\n",
       "      <td>2018-07-04</td>\n",
       "      <td>27</td>\n",
       "      <td>2018</td>\n",
       "      <td>7600100037</td>\n",
       "      <td>5</td>\n",
       "      <td>50</td>\n",
       "      <td>1</td>\n",
       "      <td>...</td>\n",
       "      <td>NaN</td>\n",
       "      <td>NaN</td>\n",
       "      <td>1</td>\n",
       "      <td>ZIKA</td>\n",
       "      <td>VALLE</td>\n",
       "      <td>CALI</td>\n",
       "      <td>VALLE</td>\n",
       "      <td>CALI</td>\n",
       "      <td>4.0</td>\n",
       "      <td>Confirmado por Clínica</td>\n",
       "    </tr>\n",
       "  </tbody>\n",
       "</table>\n",
       "<p>141010 rows × 63 columns</p>\n",
       "</div>"
      ],
      "text/plain": [
       "        index CONSECUTIVE COD_EVE     FEC_NOT SEMANA   ANO     COD_PRE  \\\n",
       "0           0     5429581     205  2017-08-28     31  2017  1100109111   \n",
       "1           1     5429832     205  2017-05-10      2  2017  1100109111   \n",
       "2           2     5423281     205  2017-09-08     33  2017  1100109111   \n",
       "3           3     5422421     205  2017-08-16     28  2017  1100109111   \n",
       "4           4     5422463     205  2017-10-27      8  2017  1100109111   \n",
       "...       ...         ...     ...         ...    ...   ...         ...   \n",
       "141005    817     5809260     895  2018-07-10     28  2018  7600100037   \n",
       "141006    818     5849493     895  2018-09-24     39  2018  7600100037   \n",
       "141007    819     5849495     895  2018-05-16     19  2018  7600100037   \n",
       "141008    820     5849496     895  2019-03-27     28  2018  7600105817   \n",
       "141009    821     5849497     895  2018-07-04     27  2018  7600100037   \n",
       "\n",
       "       COD_SUB EDAD UNI_MED  ... FM_UNIDAD FM_GRADO confirmados  Evento  \\\n",
       "0            1   46       1  ...       NaN     None           1  CHAGAS   \n",
       "1            1   87       1  ...       NaN     None           1  CHAGAS   \n",
       "2            1   58       1  ...       NaN     None           1  CHAGAS   \n",
       "3            1   68       1  ...       NaN     None           1  CHAGAS   \n",
       "4            1   70       1  ...       NaN     None           1  CHAGAS   \n",
       "...        ...  ...     ...  ...       ...      ...         ...     ...   \n",
       "141005       5   36       1  ...       NaN      NaN           1    ZIKA   \n",
       "141006       5   51       1  ...       NaN      NaN           1    ZIKA   \n",
       "141007       5   38       1  ...       NaN      NaN           1    ZIKA   \n",
       "141008       1   47       1  ...       NaN      NaN           1    ZIKA   \n",
       "141009       5   50       1  ...       NaN      NaN           1    ZIKA   \n",
       "\n",
       "       Departamento_ocurrencia Municipio_ocurrencia Departamento_residencia  \\\n",
       "0              NORTE SANTANDER                 TIBU         NORTE SANTANDER   \n",
       "1                       BOYACA            MONIQUIRA                  BOGOTA   \n",
       "2                       TOLIMA    CARMEN DE APICALA                  TOLIMA   \n",
       "3                    SANTANDER                SUCRE            CUNDINAMARCA   \n",
       "4                 CUNDINAMARCA              TOCAIMA                  BOGOTA   \n",
       "...                        ...                  ...                     ...   \n",
       "141005                   VALLE                 CALI                   VALLE   \n",
       "141006                   VALLE                 CALI                   VALLE   \n",
       "141007                   VALLE                 CALI                   VALLE   \n",
       "141008                   VALLE                 CALI                   VALLE   \n",
       "141009                   VALLE                 CALI                   VALLE   \n",
       "\n",
       "       Municipio_residencia est_f_caso              nom_est_f_caso  \n",
       "0                      TIBU        3.0  Confirmado por laboratorio  \n",
       "1                    BOGOTA        3.0  Confirmado por laboratorio  \n",
       "2         CARMEN DE APICALA        3.0  Confirmado por laboratorio  \n",
       "3                 ZIPAQUIRA        3.0  Confirmado por laboratorio  \n",
       "4                    BOGOTA        3.0  Confirmado por laboratorio  \n",
       "...                     ...        ...                         ...  \n",
       "141005                 CALI        4.0      Confirmado por Clínica  \n",
       "141006                 CALI        4.0      Confirmado por Clínica  \n",
       "141007                 CALI        4.0      Confirmado por Clínica  \n",
       "141008                 CALI        4.0      Confirmado por Clínica  \n",
       "141009                 CALI        4.0      Confirmado por Clínica  \n",
       "\n",
       "[141010 rows x 63 columns]"
      ]
     },
     "execution_count": 17,
     "metadata": {},
     "output_type": "execute_result"
    }
   ],
   "source": [
    "data_todo"
   ]
  },
  {
   "cell_type": "code",
   "execution_count": 18,
   "metadata": {
    "execution": {
     "iopub.execute_input": "2020-12-04T23:13:07.843623Z",
     "iopub.status.busy": "2020-12-04T23:13:07.843462Z",
     "iopub.status.idle": "2020-12-04T23:13:07.976738Z",
     "shell.execute_reply": "2020-12-04T23:13:07.976126Z",
     "shell.execute_reply.started": "2020-12-04T23:13:07.843605Z"
    }
   },
   "outputs": [],
   "source": [
    "data_todo=data_todo.astype({'FM_UNIDAD': 'str','FM_GRADO':'str'})"
   ]
  },
  {
   "cell_type": "code",
   "execution_count": 19,
   "metadata": {
    "execution": {
     "iopub.execute_input": "2020-12-04T23:13:07.977695Z",
     "iopub.status.busy": "2020-12-04T23:13:07.977523Z",
     "iopub.status.idle": "2020-12-04T23:13:08.441626Z",
     "shell.execute_reply": "2020-12-04T23:13:08.441020Z",
     "shell.execute_reply.started": "2020-12-04T23:13:07.977679Z"
    }
   },
   "outputs": [],
   "source": [
    "data_todo.to_parquet('../parquet_datasets/sivigila_2017_2018.parquet')"
   ]
  },
  {
   "cell_type": "code",
   "execution_count": null,
   "metadata": {},
   "outputs": [],
   "source": []
  }
 ],
 "metadata": {
  "kernelspec": {
   "display_name": "Python 3",
   "language": "python",
   "name": "python3"
  },
  "language_info": {
   "codemirror_mode": {
    "name": "ipython",
    "version": 3
   },
   "file_extension": ".py",
   "mimetype": "text/x-python",
   "name": "python",
   "nbconvert_exporter": "python",
   "pygments_lexer": "ipython3",
   "version": "3.8.5"
  }
 },
 "nbformat": 4,
 "nbformat_minor": 4
}
