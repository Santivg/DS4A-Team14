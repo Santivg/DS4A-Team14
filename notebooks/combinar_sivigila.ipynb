{
 "cells": [
  {
   "cell_type": "code",
   "execution_count": 1,
   "metadata": {
    "execution": {
     "iopub.execute_input": "2020-12-04T23:53:51.465060Z",
     "iopub.status.busy": "2020-12-04T23:53:51.464850Z",
     "iopub.status.idle": "2020-12-04T23:53:51.609520Z",
     "shell.execute_reply": "2020-12-04T23:53:51.608906Z",
     "shell.execute_reply.started": "2020-12-04T23:53:51.465028Z"
    }
   },
   "outputs": [],
   "source": [
    "import pandas as pd\n",
    "import os"
   ]
  },
  {
   "cell_type": "code",
   "execution_count": 2,
   "metadata": {
    "execution": {
     "iopub.execute_input": "2020-12-04T23:53:51.610559Z",
     "iopub.status.busy": "2020-12-04T23:53:51.610421Z",
     "iopub.status.idle": "2020-12-04T23:53:51.613525Z",
     "shell.execute_reply": "2020-12-04T23:53:51.612892Z",
     "shell.execute_reply.started": "2020-12-04T23:53:51.610544Z"
    }
   },
   "outputs": [],
   "source": [
    "dir_data_2017= '../parquet_datasets/SIVIGILA_2017_PARQUET'\n",
    "dir_data_2018= '../parquet_datasets/SIVIGILA_2018_PARQUET'"
   ]
  },
  {
   "cell_type": "code",
   "execution_count": 3,
   "metadata": {
    "execution": {
     "iopub.execute_input": "2020-12-04T23:53:51.616548Z",
     "iopub.status.busy": "2020-12-04T23:53:51.616376Z",
     "iopub.status.idle": "2020-12-04T23:53:51.636156Z",
     "shell.execute_reply": "2020-12-04T23:53:51.635363Z",
     "shell.execute_reply.started": "2020-12-04T23:53:51.616528Z"
    }
   },
   "outputs": [
    {
     "data": {
      "text/plain": [
       "['CHAGAS_datos_2017_205.parquet',\n",
       " 'CHIKUNGUNYA_datos_2017_217.parquet',\n",
       " 'DENGUE_Datos_220_2017.parquet',\n",
       " 'FIEBRE_AMARILLA_datos_2017_310.parquet',\n",
       " 'INFECCION_RESPIRATORIA_AGUDA_GRAVE_IRAG_INUSITADA_datos_2017_348.parquet',\n",
       " 'LEISHMANIASIS_CUTANEA_datos_2017_420.parquet',\n",
       " 'LEISHMANIASIS_MUCOSA_datos_2017_430.parquet',\n",
       " 'LEISHMANIASIS_VISCERAL_datos_2017_440.parquet',\n",
       " 'MALARIA_ASOCIADA_(FORMAS_MIXTAS)_datos_2017_460.parquet',\n",
       " 'MALARIA_COMPLICADA_datos_2017_495.parquet',\n",
       " 'MALARIA_FALCIPARUM_datos_2017_470.parquet',\n",
       " 'MALARIA_VIVAX_datos_2017_490.parquet',\n",
       " 'ZIKA_datos_2017_895.parquet']"
      ]
     },
     "metadata": {},
     "output_type": "display_data"
    },
    {
     "data": {
      "text/plain": [
       "['CHAGAS_Datos_2018_205.parquet',\n",
       " 'CHIKUNGUNYA_Datos_2018_217.parquet',\n",
       " 'DENGUE_Datos_2018_220.parquet',\n",
       " 'FIEBRE_AMARILLA_Datos_2018_310.parquet',\n",
       " 'INFECCION_RESPIRATORIA_AGUDA_GRAVE_IRAG_INUSITADA_Datos_2018_348.parquet',\n",
       " 'LEISHMANIASIS_CUTANEA_Datos_2018_420.parquet',\n",
       " 'LEISHMANIASIS_MUCOSA_Datos_2018_430.parquet',\n",
       " 'LEISHMANIASIS_VISCERAL_Datos_2018_440.parquet',\n",
       " 'MALARIA_ASOCIADA_(FORMAS MIXTAS)_Datos_2018_460.parquet',\n",
       " 'MALARIA_COMPLICADA_Datos_2018_495.parquet',\n",
       " 'MALARIA_FALCIPARUM_Datos_2018_470.parquet',\n",
       " 'MALARIA_VIVAX-Datos_2018_490.parquet',\n",
       " 'ZIKA_Datos_2018_895.parquet']"
      ]
     },
     "metadata": {},
     "output_type": "display_data"
    }
   ],
   "source": [
    "files_2017=os.listdir(dir_data_2017)\n",
    "files_2018=os.listdir(dir_data_2018)\n",
    "display(files_2017)\n",
    "display(files_2018)"
   ]
  },
  {
   "cell_type": "code",
   "execution_count": 4,
   "metadata": {
    "execution": {
     "iopub.execute_input": "2020-12-04T23:53:51.636937Z",
     "iopub.status.busy": "2020-12-04T23:53:51.636810Z",
     "iopub.status.idle": "2020-12-04T23:53:51.997677Z",
     "shell.execute_reply": "2020-12-04T23:53:51.996717Z",
     "shell.execute_reply.started": "2020-12-04T23:53:51.636921Z"
    }
   },
   "outputs": [],
   "source": [
    "list_sivigila_2017 = []\n",
    "for filename in files_2017:\n",
    "    list_sivigila_2017.append(pd.read_parquet(f'{dir_data_2017}/{filename}'))"
   ]
  },
  {
   "cell_type": "code",
   "execution_count": 5,
   "metadata": {
    "execution": {
     "iopub.execute_input": "2020-12-04T23:53:51.998869Z",
     "iopub.status.busy": "2020-12-04T23:53:51.998716Z",
     "iopub.status.idle": "2020-12-04T23:53:52.283821Z",
     "shell.execute_reply": "2020-12-04T23:53:52.283201Z",
     "shell.execute_reply.started": "2020-12-04T23:53:51.998853Z"
    }
   },
   "outputs": [],
   "source": [
    "list_sivigila_2018 = []\n",
    "for filename in files_2018:\n",
    "    list_sivigila_2018.append(pd.read_parquet(f'{dir_data_2018}/{filename}'))"
   ]
  },
  {
   "cell_type": "code",
   "execution_count": 6,
   "metadata": {
    "execution": {
     "iopub.execute_input": "2020-12-04T23:53:52.284866Z",
     "iopub.status.busy": "2020-12-04T23:53:52.284717Z",
     "iopub.status.idle": "2020-12-04T23:53:52.305726Z",
     "shell.execute_reply": "2020-12-04T23:53:52.305091Z",
     "shell.execute_reply.started": "2020-12-04T23:53:52.284850Z"
    }
   },
   "outputs": [
    {
     "data": {
      "text/html": [
       "<div>\n",
       "<style scoped>\n",
       "    .dataframe tbody tr th:only-of-type {\n",
       "        vertical-align: middle;\n",
       "    }\n",
       "\n",
       "    .dataframe tbody tr th {\n",
       "        vertical-align: top;\n",
       "    }\n",
       "\n",
       "    .dataframe thead th {\n",
       "        text-align: right;\n",
       "    }\n",
       "</style>\n",
       "<table border=\"1\" class=\"dataframe\">\n",
       "  <thead>\n",
       "    <tr style=\"text-align: right;\">\n",
       "      <th></th>\n",
       "      <th>CONSECUTIVE</th>\n",
       "      <th>COD_EVE</th>\n",
       "      <th>FEC_NOT</th>\n",
       "      <th>SEMANA</th>\n",
       "      <th>ANO</th>\n",
       "      <th>COD_PRE</th>\n",
       "      <th>COD_SUB</th>\n",
       "      <th>EDAD</th>\n",
       "      <th>UNI_MED</th>\n",
       "      <th>SEXO</th>\n",
       "      <th>...</th>\n",
       "      <th>Evento</th>\n",
       "      <th>Departamento_ocurrencia</th>\n",
       "      <th>Municipio_ocurrencia</th>\n",
       "      <th>Departamento_residencia</th>\n",
       "      <th>Municipio_residencia</th>\n",
       "      <th>Departamento_notificacion</th>\n",
       "      <th>Municipio_Notificacion</th>\n",
       "      <th>Nombre_UPGD</th>\n",
       "      <th>est_f_caso</th>\n",
       "      <th>nom_est_f_caso</th>\n",
       "    </tr>\n",
       "  </thead>\n",
       "  <tbody>\n",
       "    <tr>\n",
       "      <th>0</th>\n",
       "      <td>5429581</td>\n",
       "      <td>205</td>\n",
       "      <td>2017-08-28</td>\n",
       "      <td>31</td>\n",
       "      <td>2017</td>\n",
       "      <td>1100109111</td>\n",
       "      <td>1</td>\n",
       "      <td>46</td>\n",
       "      <td>1</td>\n",
       "      <td>M</td>\n",
       "      <td>...</td>\n",
       "      <td>CHAGAS</td>\n",
       "      <td>NORTE SANTANDER</td>\n",
       "      <td>TIBU</td>\n",
       "      <td>NORTE SANTANDER</td>\n",
       "      <td>TIBU</td>\n",
       "      <td>BOGOTA</td>\n",
       "      <td>BOGOTA</td>\n",
       "      <td>FUNDACION CARDIOINFANTIL INSTITUTO DE CARDIOLOGIA</td>\n",
       "      <td>3</td>\n",
       "      <td>Confirmado por laboratorio</td>\n",
       "    </tr>\n",
       "    <tr>\n",
       "      <th>1</th>\n",
       "      <td>5429832</td>\n",
       "      <td>205</td>\n",
       "      <td>2017-05-10</td>\n",
       "      <td>2</td>\n",
       "      <td>2017</td>\n",
       "      <td>1100109111</td>\n",
       "      <td>1</td>\n",
       "      <td>87</td>\n",
       "      <td>1</td>\n",
       "      <td>F</td>\n",
       "      <td>...</td>\n",
       "      <td>CHAGAS</td>\n",
       "      <td>BOYACA</td>\n",
       "      <td>MONIQUIRA</td>\n",
       "      <td>BOGOTA</td>\n",
       "      <td>BOGOTA</td>\n",
       "      <td>BOGOTA</td>\n",
       "      <td>BOGOTA</td>\n",
       "      <td>FUNDACION CARDIOINFANTIL INSTITUTO DE CARDIOLOGIA</td>\n",
       "      <td>3</td>\n",
       "      <td>Confirmado por laboratorio</td>\n",
       "    </tr>\n",
       "    <tr>\n",
       "      <th>2</th>\n",
       "      <td>5423281</td>\n",
       "      <td>205</td>\n",
       "      <td>2017-09-08</td>\n",
       "      <td>33</td>\n",
       "      <td>2017</td>\n",
       "      <td>1100109111</td>\n",
       "      <td>1</td>\n",
       "      <td>58</td>\n",
       "      <td>1</td>\n",
       "      <td>F</td>\n",
       "      <td>...</td>\n",
       "      <td>CHAGAS</td>\n",
       "      <td>TOLIMA</td>\n",
       "      <td>CARMEN DE APICALA</td>\n",
       "      <td>TOLIMA</td>\n",
       "      <td>CARMEN DE APICALA</td>\n",
       "      <td>BOGOTA</td>\n",
       "      <td>BOGOTA</td>\n",
       "      <td>FUNDACION CARDIOINFANTIL INSTITUTO DE CARDIOLOGIA</td>\n",
       "      <td>3</td>\n",
       "      <td>Confirmado por laboratorio</td>\n",
       "    </tr>\n",
       "    <tr>\n",
       "      <th>3</th>\n",
       "      <td>5422421</td>\n",
       "      <td>205</td>\n",
       "      <td>2017-08-16</td>\n",
       "      <td>28</td>\n",
       "      <td>2017</td>\n",
       "      <td>1100109111</td>\n",
       "      <td>1</td>\n",
       "      <td>68</td>\n",
       "      <td>1</td>\n",
       "      <td>F</td>\n",
       "      <td>...</td>\n",
       "      <td>CHAGAS</td>\n",
       "      <td>SANTANDER</td>\n",
       "      <td>SUCRE</td>\n",
       "      <td>CUNDINAMARCA</td>\n",
       "      <td>ZIPAQUIRA</td>\n",
       "      <td>BOGOTA</td>\n",
       "      <td>BOGOTA</td>\n",
       "      <td>FUNDACION CARDIOINFANTIL INSTITUTO DE CARDIOLOGIA</td>\n",
       "      <td>3</td>\n",
       "      <td>Confirmado por laboratorio</td>\n",
       "    </tr>\n",
       "    <tr>\n",
       "      <th>4</th>\n",
       "      <td>5422463</td>\n",
       "      <td>205</td>\n",
       "      <td>2017-10-27</td>\n",
       "      <td>8</td>\n",
       "      <td>2017</td>\n",
       "      <td>1100109111</td>\n",
       "      <td>1</td>\n",
       "      <td>70</td>\n",
       "      <td>1</td>\n",
       "      <td>F</td>\n",
       "      <td>...</td>\n",
       "      <td>CHAGAS</td>\n",
       "      <td>CUNDINAMARCA</td>\n",
       "      <td>TOCAIMA</td>\n",
       "      <td>BOGOTA</td>\n",
       "      <td>BOGOTA</td>\n",
       "      <td>BOGOTA</td>\n",
       "      <td>BOGOTA</td>\n",
       "      <td>FUNDACION CARDIOINFANTIL INSTITUTO DE CARDIOLOGIA</td>\n",
       "      <td>3</td>\n",
       "      <td>Confirmado por laboratorio</td>\n",
       "    </tr>\n",
       "  </tbody>\n",
       "</table>\n",
       "<p>5 rows × 66 columns</p>\n",
       "</div>"
      ],
      "text/plain": [
       "   CONSECUTIVE  COD_EVE     FEC_NOT  SEMANA   ANO     COD_PRE  COD_SUB  EDAD  \\\n",
       "0      5429581      205  2017-08-28      31  2017  1100109111        1    46   \n",
       "1      5429832      205  2017-05-10       2  2017  1100109111        1    87   \n",
       "2      5423281      205  2017-09-08      33  2017  1100109111        1    58   \n",
       "3      5422421      205  2017-08-16      28  2017  1100109111        1    68   \n",
       "4      5422463      205  2017-10-27       8  2017  1100109111        1    70   \n",
       "\n",
       "   UNI_MED SEXO  ...  Evento  Departamento_ocurrencia  Municipio_ocurrencia  \\\n",
       "0        1    M  ...  CHAGAS          NORTE SANTANDER                  TIBU   \n",
       "1        1    F  ...  CHAGAS                   BOYACA             MONIQUIRA   \n",
       "2        1    F  ...  CHAGAS                   TOLIMA     CARMEN DE APICALA   \n",
       "3        1    F  ...  CHAGAS                SANTANDER                 SUCRE   \n",
       "4        1    F  ...  CHAGAS             CUNDINAMARCA               TOCAIMA   \n",
       "\n",
       "   Departamento_residencia Municipio_residencia Departamento_notificacion  \\\n",
       "0          NORTE SANTANDER                 TIBU                    BOGOTA   \n",
       "1                   BOGOTA               BOGOTA                    BOGOTA   \n",
       "2                   TOLIMA    CARMEN DE APICALA                    BOGOTA   \n",
       "3             CUNDINAMARCA            ZIPAQUIRA                    BOGOTA   \n",
       "4                   BOGOTA               BOGOTA                    BOGOTA   \n",
       "\n",
       "  Municipio_Notificacion                                        Nombre_UPGD  \\\n",
       "0                 BOGOTA  FUNDACION CARDIOINFANTIL INSTITUTO DE CARDIOLOGIA   \n",
       "1                 BOGOTA  FUNDACION CARDIOINFANTIL INSTITUTO DE CARDIOLOGIA   \n",
       "2                 BOGOTA  FUNDACION CARDIOINFANTIL INSTITUTO DE CARDIOLOGIA   \n",
       "3                 BOGOTA  FUNDACION CARDIOINFANTIL INSTITUTO DE CARDIOLOGIA   \n",
       "4                 BOGOTA  FUNDACION CARDIOINFANTIL INSTITUTO DE CARDIOLOGIA   \n",
       "\n",
       "  est_f_caso              nom_est_f_caso  \n",
       "0          3  Confirmado por laboratorio  \n",
       "1          3  Confirmado por laboratorio  \n",
       "2          3  Confirmado por laboratorio  \n",
       "3          3  Confirmado por laboratorio  \n",
       "4          3  Confirmado por laboratorio  \n",
       "\n",
       "[5 rows x 66 columns]"
      ]
     },
     "execution_count": 6,
     "metadata": {},
     "output_type": "execute_result"
    }
   ],
   "source": [
    "list_sivigila_2017[0].head()"
   ]
  },
  {
   "cell_type": "code",
   "execution_count": 7,
   "metadata": {
    "execution": {
     "iopub.execute_input": "2020-12-04T23:53:52.306666Z",
     "iopub.status.busy": "2020-12-04T23:53:52.306478Z",
     "iopub.status.idle": "2020-12-04T23:53:52.310261Z",
     "shell.execute_reply": "2020-12-04T23:53:52.309568Z",
     "shell.execute_reply.started": "2020-12-04T23:53:52.306644Z"
    }
   },
   "outputs": [],
   "source": [
    "# borramos columnas que no estan en ambos años"
   ]
  },
  {
   "cell_type": "code",
   "execution_count": 8,
   "metadata": {
    "execution": {
     "iopub.execute_input": "2020-12-04T23:53:52.312164Z",
     "iopub.status.busy": "2020-12-04T23:53:52.312019Z",
     "iopub.status.idle": "2020-12-04T23:53:52.341703Z",
     "shell.execute_reply": "2020-12-04T23:53:52.340916Z",
     "shell.execute_reply.started": "2020-12-04T23:53:52.312148Z"
    }
   },
   "outputs": [],
   "source": [
    "for df in list_sivigila_2017:\n",
    "    df.drop(columns=['va_sispro', 'Departamento_notificacion','Municipio_Notificacion','Nombre_UPGD'], inplace=True)"
   ]
  },
  {
   "cell_type": "code",
   "execution_count": 9,
   "metadata": {
    "execution": {
     "iopub.execute_input": "2020-12-04T23:53:52.342795Z",
     "iopub.status.busy": "2020-12-04T23:53:52.342654Z",
     "iopub.status.idle": "2020-12-04T23:53:52.371302Z",
     "shell.execute_reply": "2020-12-04T23:53:52.370548Z",
     "shell.execute_reply.started": "2020-12-04T23:53:52.342774Z"
    }
   },
   "outputs": [],
   "source": [
    "for df in list_sivigila_2018:\n",
    "    df.drop(columns=['BAR_VER', 'VERSION'], inplace=True)"
   ]
  },
  {
   "cell_type": "code",
   "execution_count": 10,
   "metadata": {
    "execution": {
     "iopub.execute_input": "2020-12-04T23:53:52.372379Z",
     "iopub.status.busy": "2020-12-04T23:53:52.372217Z",
     "iopub.status.idle": "2020-12-04T23:53:52.377577Z",
     "shell.execute_reply": "2020-12-04T23:53:52.376872Z",
     "shell.execute_reply.started": "2020-12-04T23:53:52.372362Z"
    }
   },
   "outputs": [
    {
     "name": "stdout",
     "output_type": "stream",
     "text": [
      "Departamento_ocurrencia False\n",
      "nom_est_f_caso False\n"
     ]
    }
   ],
   "source": [
    "for i in list_sivigila_2017[0].columns:\n",
    "    col=i in list(list_sivigila_2018[0].columns)\n",
    "    if col== False:\n",
    "        print(i, col)"
   ]
  },
  {
   "cell_type": "code",
   "execution_count": 11,
   "metadata": {
    "execution": {
     "iopub.execute_input": "2020-12-04T23:53:52.378585Z",
     "iopub.status.busy": "2020-12-04T23:53:52.378402Z",
     "iopub.status.idle": "2020-12-04T23:53:52.389669Z",
     "shell.execute_reply": "2020-12-04T23:53:52.389019Z",
     "shell.execute_reply.started": "2020-12-04T23:53:52.378563Z"
    }
   },
   "outputs": [
    {
     "name": "stdout",
     "output_type": "stream",
     "text": [
      "estado_final_de_caso False\n",
      "Departanento_ocurrencia False\n"
     ]
    }
   ],
   "source": [
    "for i in list_sivigila_2018[0].columns:\n",
    "    col=i in list(list_sivigila_2017[0].columns)\n",
    "    if col== False:\n",
    "        print(i, col)"
   ]
  },
  {
   "cell_type": "code",
   "execution_count": 12,
   "metadata": {
    "execution": {
     "iopub.execute_input": "2020-12-04T23:53:52.390675Z",
     "iopub.status.busy": "2020-12-04T23:53:52.390527Z",
     "iopub.status.idle": "2020-12-04T23:53:52.401024Z",
     "shell.execute_reply": "2020-12-04T23:53:52.400343Z",
     "shell.execute_reply.started": "2020-12-04T23:53:52.390658Z"
    }
   },
   "outputs": [],
   "source": [
    "# Cambiamos el nombre de las columnas que no estan igual"
   ]
  },
  {
   "cell_type": "code",
   "execution_count": 13,
   "metadata": {
    "execution": {
     "iopub.execute_input": "2020-12-04T23:53:52.401878Z",
     "iopub.status.busy": "2020-12-04T23:53:52.401747Z",
     "iopub.status.idle": "2020-12-04T23:53:52.415163Z",
     "shell.execute_reply": "2020-12-04T23:53:52.414480Z",
     "shell.execute_reply.started": "2020-12-04T23:53:52.401863Z"
    }
   },
   "outputs": [],
   "source": [
    "for df in list_sivigila_2018:\n",
    "    df.rename(columns={\"estado_final_de_caso\": \"nom_est_f_caso\", \"Departanento_ocurrencia\": \"Departamento_ocurrencia\"}, inplace= True)"
   ]
  },
  {
   "cell_type": "code",
   "execution_count": 14,
   "metadata": {
    "execution": {
     "iopub.execute_input": "2020-12-04T23:53:52.415894Z",
     "iopub.status.busy": "2020-12-04T23:53:52.415774Z",
     "iopub.status.idle": "2020-12-04T23:53:52.428875Z",
     "shell.execute_reply": "2020-12-04T23:53:52.428269Z",
     "shell.execute_reply.started": "2020-12-04T23:53:52.415879Z"
    }
   },
   "outputs": [],
   "source": [
    "for i in list_sivigila_2017[0].columns:\n",
    "    col=i in list(list_sivigila_2018[0].columns)\n",
    "    if col== False:\n",
    "        print(i, col)\n",
    "for i in list_sivigila_2018[0].columns:\n",
    "    col=i in list(list_sivigila_2017[0].columns)\n",
    "    if col== False:\n",
    "        print(i, col)"
   ]
  },
  {
   "cell_type": "code",
   "execution_count": 15,
   "metadata": {
    "execution": {
     "iopub.execute_input": "2020-12-04T23:53:52.429579Z",
     "iopub.status.busy": "2020-12-04T23:53:52.429462Z",
     "iopub.status.idle": "2020-12-04T23:53:52.440306Z",
     "shell.execute_reply": "2020-12-04T23:53:52.439428Z",
     "shell.execute_reply.started": "2020-12-04T23:53:52.429564Z"
    }
   },
   "outputs": [],
   "source": [
    "lista_todos=list_sivigila_2017+list_sivigila_2018"
   ]
  },
  {
   "cell_type": "code",
   "execution_count": 16,
   "metadata": {
    "execution": {
     "iopub.execute_input": "2020-12-04T23:53:52.441482Z",
     "iopub.status.busy": "2020-12-04T23:53:52.441282Z",
     "iopub.status.idle": "2020-12-04T23:53:52.681321Z",
     "shell.execute_reply": "2020-12-04T23:53:52.680692Z",
     "shell.execute_reply.started": "2020-12-04T23:53:52.441459Z"
    }
   },
   "outputs": [],
   "source": [
    "data_todo=pd.concat(lista_todos).reset_index()"
   ]
  },
  {
   "cell_type": "code",
   "execution_count": 17,
   "metadata": {
    "execution": {
     "iopub.execute_input": "2020-12-04T23:53:52.682371Z",
     "iopub.status.busy": "2020-12-04T23:53:52.682211Z",
     "iopub.status.idle": "2020-12-04T23:53:52.804869Z",
     "shell.execute_reply": "2020-12-04T23:53:52.804292Z",
     "shell.execute_reply.started": "2020-12-04T23:53:52.682355Z"
    }
   },
   "outputs": [
    {
     "data": {
      "text/html": [
       "<div>\n",
       "<style scoped>\n",
       "    .dataframe tbody tr th:only-of-type {\n",
       "        vertical-align: middle;\n",
       "    }\n",
       "\n",
       "    .dataframe tbody tr th {\n",
       "        vertical-align: top;\n",
       "    }\n",
       "\n",
       "    .dataframe thead th {\n",
       "        text-align: right;\n",
       "    }\n",
       "</style>\n",
       "<table border=\"1\" class=\"dataframe\">\n",
       "  <thead>\n",
       "    <tr style=\"text-align: right;\">\n",
       "      <th></th>\n",
       "      <th>index</th>\n",
       "      <th>CONSECUTIVE</th>\n",
       "      <th>COD_EVE</th>\n",
       "      <th>FEC_NOT</th>\n",
       "      <th>SEMANA</th>\n",
       "      <th>ANO</th>\n",
       "      <th>COD_PRE</th>\n",
       "      <th>COD_SUB</th>\n",
       "      <th>EDAD</th>\n",
       "      <th>UNI_MED</th>\n",
       "      <th>...</th>\n",
       "      <th>FM_UNIDAD</th>\n",
       "      <th>FM_GRADO</th>\n",
       "      <th>confirmados</th>\n",
       "      <th>Evento</th>\n",
       "      <th>Departamento_ocurrencia</th>\n",
       "      <th>Municipio_ocurrencia</th>\n",
       "      <th>Departamento_residencia</th>\n",
       "      <th>Municipio_residencia</th>\n",
       "      <th>est_f_caso</th>\n",
       "      <th>nom_est_f_caso</th>\n",
       "    </tr>\n",
       "  </thead>\n",
       "  <tbody>\n",
       "    <tr>\n",
       "      <th>0</th>\n",
       "      <td>0</td>\n",
       "      <td>5429581</td>\n",
       "      <td>205</td>\n",
       "      <td>2017-08-28</td>\n",
       "      <td>31</td>\n",
       "      <td>2017</td>\n",
       "      <td>1100109111</td>\n",
       "      <td>1</td>\n",
       "      <td>46</td>\n",
       "      <td>1</td>\n",
       "      <td>...</td>\n",
       "      <td>NaN</td>\n",
       "      <td>None</td>\n",
       "      <td>1</td>\n",
       "      <td>CHAGAS</td>\n",
       "      <td>NORTE SANTANDER</td>\n",
       "      <td>TIBU</td>\n",
       "      <td>NORTE SANTANDER</td>\n",
       "      <td>TIBU</td>\n",
       "      <td>3.0</td>\n",
       "      <td>Confirmado por laboratorio</td>\n",
       "    </tr>\n",
       "    <tr>\n",
       "      <th>1</th>\n",
       "      <td>1</td>\n",
       "      <td>5429832</td>\n",
       "      <td>205</td>\n",
       "      <td>2017-05-10</td>\n",
       "      <td>2</td>\n",
       "      <td>2017</td>\n",
       "      <td>1100109111</td>\n",
       "      <td>1</td>\n",
       "      <td>87</td>\n",
       "      <td>1</td>\n",
       "      <td>...</td>\n",
       "      <td>NaN</td>\n",
       "      <td>None</td>\n",
       "      <td>1</td>\n",
       "      <td>CHAGAS</td>\n",
       "      <td>BOYACA</td>\n",
       "      <td>MONIQUIRA</td>\n",
       "      <td>BOGOTA</td>\n",
       "      <td>BOGOTA</td>\n",
       "      <td>3.0</td>\n",
       "      <td>Confirmado por laboratorio</td>\n",
       "    </tr>\n",
       "    <tr>\n",
       "      <th>2</th>\n",
       "      <td>2</td>\n",
       "      <td>5423281</td>\n",
       "      <td>205</td>\n",
       "      <td>2017-09-08</td>\n",
       "      <td>33</td>\n",
       "      <td>2017</td>\n",
       "      <td>1100109111</td>\n",
       "      <td>1</td>\n",
       "      <td>58</td>\n",
       "      <td>1</td>\n",
       "      <td>...</td>\n",
       "      <td>NaN</td>\n",
       "      <td>None</td>\n",
       "      <td>1</td>\n",
       "      <td>CHAGAS</td>\n",
       "      <td>TOLIMA</td>\n",
       "      <td>CARMEN DE APICALA</td>\n",
       "      <td>TOLIMA</td>\n",
       "      <td>CARMEN DE APICALA</td>\n",
       "      <td>3.0</td>\n",
       "      <td>Confirmado por laboratorio</td>\n",
       "    </tr>\n",
       "    <tr>\n",
       "      <th>3</th>\n",
       "      <td>3</td>\n",
       "      <td>5422421</td>\n",
       "      <td>205</td>\n",
       "      <td>2017-08-16</td>\n",
       "      <td>28</td>\n",
       "      <td>2017</td>\n",
       "      <td>1100109111</td>\n",
       "      <td>1</td>\n",
       "      <td>68</td>\n",
       "      <td>1</td>\n",
       "      <td>...</td>\n",
       "      <td>NaN</td>\n",
       "      <td>None</td>\n",
       "      <td>1</td>\n",
       "      <td>CHAGAS</td>\n",
       "      <td>SANTANDER</td>\n",
       "      <td>SUCRE</td>\n",
       "      <td>CUNDINAMARCA</td>\n",
       "      <td>ZIPAQUIRA</td>\n",
       "      <td>3.0</td>\n",
       "      <td>Confirmado por laboratorio</td>\n",
       "    </tr>\n",
       "    <tr>\n",
       "      <th>4</th>\n",
       "      <td>4</td>\n",
       "      <td>5422463</td>\n",
       "      <td>205</td>\n",
       "      <td>2017-10-27</td>\n",
       "      <td>8</td>\n",
       "      <td>2017</td>\n",
       "      <td>1100109111</td>\n",
       "      <td>1</td>\n",
       "      <td>70</td>\n",
       "      <td>1</td>\n",
       "      <td>...</td>\n",
       "      <td>NaN</td>\n",
       "      <td>None</td>\n",
       "      <td>1</td>\n",
       "      <td>CHAGAS</td>\n",
       "      <td>CUNDINAMARCA</td>\n",
       "      <td>TOCAIMA</td>\n",
       "      <td>BOGOTA</td>\n",
       "      <td>BOGOTA</td>\n",
       "      <td>3.0</td>\n",
       "      <td>Confirmado por laboratorio</td>\n",
       "    </tr>\n",
       "    <tr>\n",
       "      <th>...</th>\n",
       "      <td>...</td>\n",
       "      <td>...</td>\n",
       "      <td>...</td>\n",
       "      <td>...</td>\n",
       "      <td>...</td>\n",
       "      <td>...</td>\n",
       "      <td>...</td>\n",
       "      <td>...</td>\n",
       "      <td>...</td>\n",
       "      <td>...</td>\n",
       "      <td>...</td>\n",
       "      <td>...</td>\n",
       "      <td>...</td>\n",
       "      <td>...</td>\n",
       "      <td>...</td>\n",
       "      <td>...</td>\n",
       "      <td>...</td>\n",
       "      <td>...</td>\n",
       "      <td>...</td>\n",
       "      <td>...</td>\n",
       "      <td>...</td>\n",
       "    </tr>\n",
       "    <tr>\n",
       "      <th>141005</th>\n",
       "      <td>817</td>\n",
       "      <td>5809260</td>\n",
       "      <td>895</td>\n",
       "      <td>2018-07-10</td>\n",
       "      <td>28</td>\n",
       "      <td>2018</td>\n",
       "      <td>7600100037</td>\n",
       "      <td>5</td>\n",
       "      <td>36</td>\n",
       "      <td>1</td>\n",
       "      <td>...</td>\n",
       "      <td>NaN</td>\n",
       "      <td>NaN</td>\n",
       "      <td>1</td>\n",
       "      <td>ZIKA</td>\n",
       "      <td>VALLE</td>\n",
       "      <td>CALI</td>\n",
       "      <td>VALLE</td>\n",
       "      <td>CALI</td>\n",
       "      <td>4.0</td>\n",
       "      <td>Confirmado por Clínica</td>\n",
       "    </tr>\n",
       "    <tr>\n",
       "      <th>141006</th>\n",
       "      <td>818</td>\n",
       "      <td>5849493</td>\n",
       "      <td>895</td>\n",
       "      <td>2018-09-24</td>\n",
       "      <td>39</td>\n",
       "      <td>2018</td>\n",
       "      <td>7600100037</td>\n",
       "      <td>5</td>\n",
       "      <td>51</td>\n",
       "      <td>1</td>\n",
       "      <td>...</td>\n",
       "      <td>NaN</td>\n",
       "      <td>NaN</td>\n",
       "      <td>1</td>\n",
       "      <td>ZIKA</td>\n",
       "      <td>VALLE</td>\n",
       "      <td>CALI</td>\n",
       "      <td>VALLE</td>\n",
       "      <td>CALI</td>\n",
       "      <td>4.0</td>\n",
       "      <td>Confirmado por Clínica</td>\n",
       "    </tr>\n",
       "    <tr>\n",
       "      <th>141007</th>\n",
       "      <td>819</td>\n",
       "      <td>5849495</td>\n",
       "      <td>895</td>\n",
       "      <td>2018-05-16</td>\n",
       "      <td>19</td>\n",
       "      <td>2018</td>\n",
       "      <td>7600100037</td>\n",
       "      <td>5</td>\n",
       "      <td>38</td>\n",
       "      <td>1</td>\n",
       "      <td>...</td>\n",
       "      <td>NaN</td>\n",
       "      <td>NaN</td>\n",
       "      <td>1</td>\n",
       "      <td>ZIKA</td>\n",
       "      <td>VALLE</td>\n",
       "      <td>CALI</td>\n",
       "      <td>VALLE</td>\n",
       "      <td>CALI</td>\n",
       "      <td>4.0</td>\n",
       "      <td>Confirmado por Clínica</td>\n",
       "    </tr>\n",
       "    <tr>\n",
       "      <th>141008</th>\n",
       "      <td>820</td>\n",
       "      <td>5849496</td>\n",
       "      <td>895</td>\n",
       "      <td>2019-03-27</td>\n",
       "      <td>28</td>\n",
       "      <td>2018</td>\n",
       "      <td>7600105817</td>\n",
       "      <td>1</td>\n",
       "      <td>47</td>\n",
       "      <td>1</td>\n",
       "      <td>...</td>\n",
       "      <td>NaN</td>\n",
       "      <td>NaN</td>\n",
       "      <td>1</td>\n",
       "      <td>ZIKA</td>\n",
       "      <td>VALLE</td>\n",
       "      <td>CALI</td>\n",
       "      <td>VALLE</td>\n",
       "      <td>CALI</td>\n",
       "      <td>4.0</td>\n",
       "      <td>Confirmado por Clínica</td>\n",
       "    </tr>\n",
       "    <tr>\n",
       "      <th>141009</th>\n",
       "      <td>821</td>\n",
       "      <td>5849497</td>\n",
       "      <td>895</td>\n",
       "      <td>2018-07-04</td>\n",
       "      <td>27</td>\n",
       "      <td>2018</td>\n",
       "      <td>7600100037</td>\n",
       "      <td>5</td>\n",
       "      <td>50</td>\n",
       "      <td>1</td>\n",
       "      <td>...</td>\n",
       "      <td>NaN</td>\n",
       "      <td>NaN</td>\n",
       "      <td>1</td>\n",
       "      <td>ZIKA</td>\n",
       "      <td>VALLE</td>\n",
       "      <td>CALI</td>\n",
       "      <td>VALLE</td>\n",
       "      <td>CALI</td>\n",
       "      <td>4.0</td>\n",
       "      <td>Confirmado por Clínica</td>\n",
       "    </tr>\n",
       "  </tbody>\n",
       "</table>\n",
       "<p>141010 rows × 63 columns</p>\n",
       "</div>"
      ],
      "text/plain": [
       "        index CONSECUTIVE COD_EVE     FEC_NOT SEMANA   ANO     COD_PRE  \\\n",
       "0           0     5429581     205  2017-08-28     31  2017  1100109111   \n",
       "1           1     5429832     205  2017-05-10      2  2017  1100109111   \n",
       "2           2     5423281     205  2017-09-08     33  2017  1100109111   \n",
       "3           3     5422421     205  2017-08-16     28  2017  1100109111   \n",
       "4           4     5422463     205  2017-10-27      8  2017  1100109111   \n",
       "...       ...         ...     ...         ...    ...   ...         ...   \n",
       "141005    817     5809260     895  2018-07-10     28  2018  7600100037   \n",
       "141006    818     5849493     895  2018-09-24     39  2018  7600100037   \n",
       "141007    819     5849495     895  2018-05-16     19  2018  7600100037   \n",
       "141008    820     5849496     895  2019-03-27     28  2018  7600105817   \n",
       "141009    821     5849497     895  2018-07-04     27  2018  7600100037   \n",
       "\n",
       "       COD_SUB EDAD UNI_MED  ... FM_UNIDAD FM_GRADO confirmados  Evento  \\\n",
       "0            1   46       1  ...       NaN     None           1  CHAGAS   \n",
       "1            1   87       1  ...       NaN     None           1  CHAGAS   \n",
       "2            1   58       1  ...       NaN     None           1  CHAGAS   \n",
       "3            1   68       1  ...       NaN     None           1  CHAGAS   \n",
       "4            1   70       1  ...       NaN     None           1  CHAGAS   \n",
       "...        ...  ...     ...  ...       ...      ...         ...     ...   \n",
       "141005       5   36       1  ...       NaN      NaN           1    ZIKA   \n",
       "141006       5   51       1  ...       NaN      NaN           1    ZIKA   \n",
       "141007       5   38       1  ...       NaN      NaN           1    ZIKA   \n",
       "141008       1   47       1  ...       NaN      NaN           1    ZIKA   \n",
       "141009       5   50       1  ...       NaN      NaN           1    ZIKA   \n",
       "\n",
       "       Departamento_ocurrencia Municipio_ocurrencia Departamento_residencia  \\\n",
       "0              NORTE SANTANDER                 TIBU         NORTE SANTANDER   \n",
       "1                       BOYACA            MONIQUIRA                  BOGOTA   \n",
       "2                       TOLIMA    CARMEN DE APICALA                  TOLIMA   \n",
       "3                    SANTANDER                SUCRE            CUNDINAMARCA   \n",
       "4                 CUNDINAMARCA              TOCAIMA                  BOGOTA   \n",
       "...                        ...                  ...                     ...   \n",
       "141005                   VALLE                 CALI                   VALLE   \n",
       "141006                   VALLE                 CALI                   VALLE   \n",
       "141007                   VALLE                 CALI                   VALLE   \n",
       "141008                   VALLE                 CALI                   VALLE   \n",
       "141009                   VALLE                 CALI                   VALLE   \n",
       "\n",
       "       Municipio_residencia est_f_caso              nom_est_f_caso  \n",
       "0                      TIBU        3.0  Confirmado por laboratorio  \n",
       "1                    BOGOTA        3.0  Confirmado por laboratorio  \n",
       "2         CARMEN DE APICALA        3.0  Confirmado por laboratorio  \n",
       "3                 ZIPAQUIRA        3.0  Confirmado por laboratorio  \n",
       "4                    BOGOTA        3.0  Confirmado por laboratorio  \n",
       "...                     ...        ...                         ...  \n",
       "141005                 CALI        4.0      Confirmado por Clínica  \n",
       "141006                 CALI        4.0      Confirmado por Clínica  \n",
       "141007                 CALI        4.0      Confirmado por Clínica  \n",
       "141008                 CALI        4.0      Confirmado por Clínica  \n",
       "141009                 CALI        4.0      Confirmado por Clínica  \n",
       "\n",
       "[141010 rows x 63 columns]"
      ]
     },
     "execution_count": 17,
     "metadata": {},
     "output_type": "execute_result"
    }
   ],
   "source": [
    "data_todo"
   ]
  },
  {
   "cell_type": "code",
   "execution_count": 18,
   "metadata": {
    "execution": {
     "iopub.execute_input": "2020-12-04T23:53:52.805602Z",
     "iopub.status.busy": "2020-12-04T23:53:52.805482Z",
     "iopub.status.idle": "2020-12-04T23:53:52.815757Z",
     "shell.execute_reply": "2020-12-04T23:53:52.815142Z",
     "shell.execute_reply.started": "2020-12-04T23:53:52.805587Z"
    }
   },
   "outputs": [
    {
     "data": {
      "text/plain": [
       "array(['NORTE SANTANDER', 'BOYACA', 'TOLIMA', 'SANTANDER', 'CUNDINAMARCA',\n",
       "       'BOGOTA', 'GUAVIARE', 'ARAUCA', 'CASANARE', 'ANTIOQUIA', 'META',\n",
       "       'CHOCO', 'VICHADA', 'CESAR', 'CORDOBA', 'CALDAS', 'EXTERIOR',\n",
       "       'VALLE', 'PROCEDENCIA DESCONOCIDA', 'SUCRE', 'PUTUMAYO',\n",
       "       'SAN ANDRES', 'BOLIVAR', 'ATLANTICO', 'HUILA', 'MAGDALENA',\n",
       "       'AMAZONAS', 'CAQUETA', 'NARI¥O', 'GUAJIRA', 'CAUCA', 'QUINDIO',\n",
       "       'RISARALDA', 'VAUPES', 'NARIÑO', 'GUAINIA'], dtype=object)"
      ]
     },
     "execution_count": 18,
     "metadata": {},
     "output_type": "execute_result"
    }
   ],
   "source": [
    "data_todo.Departamento_ocurrencia.unique()"
   ]
  },
  {
   "cell_type": "code",
   "execution_count": 19,
   "metadata": {
    "execution": {
     "iopub.execute_input": "2020-12-04T23:53:52.816508Z",
     "iopub.status.busy": "2020-12-04T23:53:52.816387Z",
     "iopub.status.idle": "2020-12-04T23:53:52.829166Z",
     "shell.execute_reply": "2020-12-04T23:53:52.828581Z",
     "shell.execute_reply.started": "2020-12-04T23:53:52.816493Z"
    }
   },
   "outputs": [
    {
     "data": {
      "text/plain": [
       "array(['NORTE SANTANDER', 'BOGOTA', 'TOLIMA', 'CUNDINAMARCA', 'META',\n",
       "       'CASANARE', 'ARAUCA', 'SANTANDER', 'PROCEDENCIA DESCONOCIDA',\n",
       "       'ANTIOQUIA', 'BOYACA', 'VICHADA', 'CESAR', 'CORDOBA', 'CALDAS',\n",
       "       'EXTERIOR', 'VALLE', 'SUCRE', 'GUAINIA', 'GUAVIARE', 'PUTUMAYO',\n",
       "       'ATLANTICO', 'HUILA', 'AMAZONAS', 'MAGDALENA', 'BOLIVAR',\n",
       "       'CAQUETA', 'CAUCA', 'GUAJIRA', 'QUINDIO', 'NARI¥O', 'RISARALDA',\n",
       "       'VAUPES', 'NARIÑO', 'CHOCO', 'SAN ANDRES'], dtype=object)"
      ]
     },
     "execution_count": 19,
     "metadata": {},
     "output_type": "execute_result"
    }
   ],
   "source": [
    "data_todo.Departamento_residencia.unique()"
   ]
  },
  {
   "cell_type": "code",
   "execution_count": 20,
   "metadata": {
    "execution": {
     "iopub.execute_input": "2020-12-04T23:53:52.829956Z",
     "iopub.status.busy": "2020-12-04T23:53:52.829831Z",
     "iopub.status.idle": "2020-12-04T23:53:52.838816Z",
     "shell.execute_reply": "2020-12-04T23:53:52.838074Z",
     "shell.execute_reply.started": "2020-12-04T23:53:52.829941Z"
    }
   },
   "outputs": [],
   "source": [
    "# correcion de nariyo por nariño"
   ]
  },
  {
   "cell_type": "code",
   "execution_count": 21,
   "metadata": {
    "execution": {
     "iopub.execute_input": "2020-12-04T23:53:52.839573Z",
     "iopub.status.busy": "2020-12-04T23:53:52.839452Z",
     "iopub.status.idle": "2020-12-04T23:53:52.866039Z",
     "shell.execute_reply": "2020-12-04T23:53:52.865453Z",
     "shell.execute_reply.started": "2020-12-04T23:53:52.839557Z"
    }
   },
   "outputs": [],
   "source": [
    "data_todo.Departamento_residencia.replace({'NARI¥O':'NARIÑO'}, inplace= True)\n",
    "data_todo.Departamento_ocurrencia.replace({'NARI¥O':'NARIÑO'}, inplace= True)"
   ]
  },
  {
   "cell_type": "code",
   "execution_count": 22,
   "metadata": {
    "execution": {
     "iopub.execute_input": "2020-12-04T23:53:52.866781Z",
     "iopub.status.busy": "2020-12-04T23:53:52.866662Z",
     "iopub.status.idle": "2020-12-04T23:53:52.972604Z",
     "shell.execute_reply": "2020-12-04T23:53:52.971872Z",
     "shell.execute_reply.started": "2020-12-04T23:53:52.866765Z"
    }
   },
   "outputs": [
    {
     "data": {
      "text/html": [
       "<div>\n",
       "<style scoped>\n",
       "    .dataframe tbody tr th:only-of-type {\n",
       "        vertical-align: middle;\n",
       "    }\n",
       "\n",
       "    .dataframe tbody tr th {\n",
       "        vertical-align: top;\n",
       "    }\n",
       "\n",
       "    .dataframe thead th {\n",
       "        text-align: right;\n",
       "    }\n",
       "</style>\n",
       "<table border=\"1\" class=\"dataframe\">\n",
       "  <thead>\n",
       "    <tr style=\"text-align: right;\">\n",
       "      <th></th>\n",
       "      <th>index</th>\n",
       "      <th>CONSECUTIVE</th>\n",
       "      <th>COD_EVE</th>\n",
       "      <th>FEC_NOT</th>\n",
       "      <th>SEMANA</th>\n",
       "      <th>ANO</th>\n",
       "      <th>COD_PRE</th>\n",
       "      <th>COD_SUB</th>\n",
       "      <th>EDAD</th>\n",
       "      <th>UNI_MED</th>\n",
       "      <th>...</th>\n",
       "      <th>FM_UNIDAD</th>\n",
       "      <th>FM_GRADO</th>\n",
       "      <th>confirmados</th>\n",
       "      <th>Evento</th>\n",
       "      <th>Departamento_ocurrencia</th>\n",
       "      <th>Municipio_ocurrencia</th>\n",
       "      <th>Departamento_residencia</th>\n",
       "      <th>Municipio_residencia</th>\n",
       "      <th>est_f_caso</th>\n",
       "      <th>nom_est_f_caso</th>\n",
       "    </tr>\n",
       "  </thead>\n",
       "  <tbody>\n",
       "    <tr>\n",
       "      <th>69340</th>\n",
       "      <td>0</td>\n",
       "      <td>6111088</td>\n",
       "      <td>310</td>\n",
       "      <td>2018-05-09</td>\n",
       "      <td>35</td>\n",
       "      <td>2018</td>\n",
       "      <td>9700100001</td>\n",
       "      <td>1</td>\n",
       "      <td>21</td>\n",
       "      <td>1</td>\n",
       "      <td>...</td>\n",
       "      <td>NaN</td>\n",
       "      <td>NaN</td>\n",
       "      <td>1</td>\n",
       "      <td>FIEBRE AMARILLA</td>\n",
       "      <td>VAUPES</td>\n",
       "      <td>MITU</td>\n",
       "      <td>VAUPES</td>\n",
       "      <td>MITU</td>\n",
       "      <td>3.0</td>\n",
       "      <td>Confirmado por laboratorio</td>\n",
       "    </tr>\n",
       "  </tbody>\n",
       "</table>\n",
       "<p>1 rows × 63 columns</p>\n",
       "</div>"
      ],
      "text/plain": [
       "       index CONSECUTIVE COD_EVE     FEC_NOT SEMANA   ANO     COD_PRE COD_SUB  \\\n",
       "69340      0     6111088     310  2018-05-09     35  2018  9700100001       1   \n",
       "\n",
       "      EDAD UNI_MED  ... FM_UNIDAD FM_GRADO confirmados           Evento  \\\n",
       "69340   21       1  ...       NaN      NaN           1  FIEBRE AMARILLA   \n",
       "\n",
       "      Departamento_ocurrencia Municipio_ocurrencia Departamento_residencia  \\\n",
       "69340                  VAUPES                 MITU                  VAUPES   \n",
       "\n",
       "      Municipio_residencia est_f_caso              nom_est_f_caso  \n",
       "69340                 MITU        3.0  Confirmado por laboratorio  \n",
       "\n",
       "[1 rows x 63 columns]"
      ]
     },
     "execution_count": 22,
     "metadata": {},
     "output_type": "execute_result"
    }
   ],
   "source": [
    "data_todo[data_todo.Evento== 'FIEBRE AMARILLA']"
   ]
  },
  {
   "cell_type": "code",
   "execution_count": 23,
   "metadata": {
    "execution": {
     "iopub.execute_input": "2020-12-04T23:53:52.973412Z",
     "iopub.status.busy": "2020-12-04T23:53:52.973271Z",
     "iopub.status.idle": "2020-12-04T23:53:52.976079Z",
     "shell.execute_reply": "2020-12-04T23:53:52.975496Z",
     "shell.execute_reply.started": "2020-12-04T23:53:52.973394Z"
    }
   },
   "outputs": [],
   "source": [
    "#SOLO HAY UN EVENTO DE FIEBRE AMARILLA POR LO QUE LO BORRAMOS"
   ]
  },
  {
   "cell_type": "code",
   "execution_count": 24,
   "metadata": {
    "execution": {
     "iopub.execute_input": "2020-12-04T23:53:52.976771Z",
     "iopub.status.busy": "2020-12-04T23:53:52.976654Z",
     "iopub.status.idle": "2020-12-04T23:53:53.037049Z",
     "shell.execute_reply": "2020-12-04T23:53:53.036270Z",
     "shell.execute_reply.started": "2020-12-04T23:53:52.976756Z"
    }
   },
   "outputs": [],
   "source": [
    "data_todo=data_todo[~(data_todo.Evento== 'FIEBRE AMARILLA')]"
   ]
  },
  {
   "cell_type": "code",
   "execution_count": 25,
   "metadata": {
    "execution": {
     "iopub.execute_input": "2020-12-04T23:53:53.037820Z",
     "iopub.status.busy": "2020-12-04T23:53:53.037695Z",
     "iopub.status.idle": "2020-12-04T23:53:53.209314Z",
     "shell.execute_reply": "2020-12-04T23:53:53.208676Z",
     "shell.execute_reply.started": "2020-12-04T23:53:53.037804Z"
    }
   },
   "outputs": [],
   "source": [
    "data_todo=data_todo.astype({'FM_UNIDAD': 'str','FM_GRADO':'str'})"
   ]
  },
  {
   "cell_type": "code",
   "execution_count": 26,
   "metadata": {
    "execution": {
     "iopub.execute_input": "2020-12-04T23:53:53.210973Z",
     "iopub.status.busy": "2020-12-04T23:53:53.210812Z",
     "iopub.status.idle": "2020-12-04T23:53:53.673771Z",
     "shell.execute_reply": "2020-12-04T23:53:53.673143Z",
     "shell.execute_reply.started": "2020-12-04T23:53:53.210956Z"
    }
   },
   "outputs": [],
   "source": [
    "data_todo.to_parquet('../parquet_datasets/sivigila_2017_2018.parquet')"
   ]
  },
  {
   "cell_type": "code",
   "execution_count": null,
   "metadata": {},
   "outputs": [],
   "source": []
  }
 ],
 "metadata": {
  "kernelspec": {
   "display_name": "Python 3",
   "language": "python",
   "name": "python3"
  },
  "language_info": {
   "codemirror_mode": {
    "name": "ipython",
    "version": 3
   },
   "file_extension": ".py",
   "mimetype": "text/x-python",
   "name": "python",
   "nbconvert_exporter": "python",
   "pygments_lexer": "ipython3",
   "version": "3.8.5"
  }
 },
 "nbformat": 4,
 "nbformat_minor": 4
}
