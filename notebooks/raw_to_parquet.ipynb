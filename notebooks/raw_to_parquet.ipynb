{
 "cells": [
  {
   "cell_type": "code",
   "execution_count": 1,
   "metadata": {
    "execution": {
     "iopub.execute_input": "2020-12-03T05:58:52.939327Z",
     "iopub.status.busy": "2020-12-03T05:58:52.939142Z",
     "iopub.status.idle": "2020-12-03T05:58:53.079874Z",
     "shell.execute_reply": "2020-12-03T05:58:53.079309Z",
     "shell.execute_reply.started": "2020-12-03T05:58:52.939279Z"
    }
   },
   "outputs": [],
   "source": [
    "import pandas as pd\n",
    "import os"
   ]
  },
  {
   "cell_type": "code",
   "execution_count": 2,
   "metadata": {
    "execution": {
     "iopub.execute_input": "2020-12-03T05:58:53.080811Z",
     "iopub.status.busy": "2020-12-03T05:58:53.080692Z",
     "iopub.status.idle": "2020-12-03T05:58:53.089481Z",
     "shell.execute_reply": "2020-12-03T05:58:53.088775Z",
     "shell.execute_reply.started": "2020-12-03T05:58:53.080797Z"
    }
   },
   "outputs": [
    {
     "data": {
      "text/plain": [
       "['.ipynb_checkpoints',\n",
       " 'DANE_Codificación_Divipola.csv',\n",
       " 'nofetal2017_new.csv',\n",
       " 'nofetal2018_new.csv',\n",
       " 'proyecciones_poblacion_departamental_2018-2050.xlsx',\n",
       " 'raw_to_parquet.ipynb']"
      ]
     },
     "execution_count": 2,
     "metadata": {},
     "output_type": "execute_result"
    }
   ],
   "source": [
    "os.listdir()"
   ]
  },
  {
   "cell_type": "code",
   "execution_count": 3,
   "metadata": {
    "execution": {
     "iopub.execute_input": "2020-12-03T05:58:53.090510Z",
     "iopub.status.busy": "2020-12-03T05:58:53.090388Z",
     "iopub.status.idle": "2020-12-03T05:58:59.527650Z",
     "shell.execute_reply": "2020-12-03T05:58:59.527025Z",
     "shell.execute_reply.started": "2020-12-03T05:58:53.090495Z"
    }
   },
   "outputs": [],
   "source": [
    "proyecciones_poblacion=pd.read_excel('proyecciones_poblacion_departamental_2018-2050.xlsx', skiprows=11)"
   ]
  },
  {
   "cell_type": "code",
   "execution_count": 4,
   "metadata": {
    "execution": {
     "iopub.execute_input": "2020-12-03T05:58:59.528557Z",
     "iopub.status.busy": "2020-12-03T05:58:59.528433Z",
     "iopub.status.idle": "2020-12-03T05:58:59.550370Z",
     "shell.execute_reply": "2020-12-03T05:58:59.549697Z",
     "shell.execute_reply.started": "2020-12-03T05:58:59.528541Z"
    }
   },
   "outputs": [
    {
     "data": {
      "text/html": [
       "<div>\n",
       "<style scoped>\n",
       "    .dataframe tbody tr th:only-of-type {\n",
       "        vertical-align: middle;\n",
       "    }\n",
       "\n",
       "    .dataframe tbody tr th {\n",
       "        vertical-align: top;\n",
       "    }\n",
       "\n",
       "    .dataframe thead th {\n",
       "        text-align: right;\n",
       "    }\n",
       "</style>\n",
       "<table border=\"1\" class=\"dataframe\">\n",
       "  <thead>\n",
       "    <tr style=\"text-align: right;\">\n",
       "      <th></th>\n",
       "      <th>DP</th>\n",
       "      <th>DPNOM</th>\n",
       "      <th>AÑO</th>\n",
       "      <th>ÁREA GEOGRÁFICA</th>\n",
       "      <th>Hombres_0</th>\n",
       "      <th>Hombres_1</th>\n",
       "      <th>Hombres_2</th>\n",
       "      <th>Hombres_3</th>\n",
       "      <th>Hombres_4</th>\n",
       "      <th>Hombres_5</th>\n",
       "      <th>...</th>\n",
       "      <th>Total_94</th>\n",
       "      <th>Total_95</th>\n",
       "      <th>Total_96</th>\n",
       "      <th>Total_97</th>\n",
       "      <th>Total_98</th>\n",
       "      <th>Total_99</th>\n",
       "      <th>Total_100 y más</th>\n",
       "      <th>Total Hombres</th>\n",
       "      <th>Total Mujeres</th>\n",
       "      <th>Total</th>\n",
       "    </tr>\n",
       "  </thead>\n",
       "  <tbody>\n",
       "    <tr>\n",
       "      <th>0</th>\n",
       "      <td>5</td>\n",
       "      <td>Antioquia</td>\n",
       "      <td>2018</td>\n",
       "      <td>Cabecera Municipal</td>\n",
       "      <td>31398</td>\n",
       "      <td>31674</td>\n",
       "      <td>31916</td>\n",
       "      <td>32172</td>\n",
       "      <td>32460</td>\n",
       "      <td>32748</td>\n",
       "      <td>...</td>\n",
       "      <td>1766</td>\n",
       "      <td>1456</td>\n",
       "      <td>1168</td>\n",
       "      <td>1075</td>\n",
       "      <td>998</td>\n",
       "      <td>1103</td>\n",
       "      <td>2734</td>\n",
       "      <td>2351655</td>\n",
       "      <td>2621286</td>\n",
       "      <td>4972941</td>\n",
       "    </tr>\n",
       "    <tr>\n",
       "      <th>1</th>\n",
       "      <td>5</td>\n",
       "      <td>Antioquia</td>\n",
       "      <td>2018</td>\n",
       "      <td>Centros Poblados y Rural Disperso</td>\n",
       "      <td>14488</td>\n",
       "      <td>14314</td>\n",
       "      <td>14164</td>\n",
       "      <td>14027</td>\n",
       "      <td>13878</td>\n",
       "      <td>13742</td>\n",
       "      <td>...</td>\n",
       "      <td>477</td>\n",
       "      <td>360</td>\n",
       "      <td>308</td>\n",
       "      <td>273</td>\n",
       "      <td>217</td>\n",
       "      <td>276</td>\n",
       "      <td>524</td>\n",
       "      <td>742504</td>\n",
       "      <td>691657</td>\n",
       "      <td>1434161</td>\n",
       "    </tr>\n",
       "    <tr>\n",
       "      <th>2</th>\n",
       "      <td>5</td>\n",
       "      <td>Antioquia</td>\n",
       "      <td>2018</td>\n",
       "      <td>Total</td>\n",
       "      <td>45886</td>\n",
       "      <td>45988</td>\n",
       "      <td>46080</td>\n",
       "      <td>46199</td>\n",
       "      <td>46338</td>\n",
       "      <td>46490</td>\n",
       "      <td>...</td>\n",
       "      <td>2243</td>\n",
       "      <td>1816</td>\n",
       "      <td>1476</td>\n",
       "      <td>1348</td>\n",
       "      <td>1215</td>\n",
       "      <td>1379</td>\n",
       "      <td>3258</td>\n",
       "      <td>3094159</td>\n",
       "      <td>3312943</td>\n",
       "      <td>6407102</td>\n",
       "    </tr>\n",
       "    <tr>\n",
       "      <th>3</th>\n",
       "      <td>5</td>\n",
       "      <td>Antioquia</td>\n",
       "      <td>2019</td>\n",
       "      <td>Cabecera Municipal</td>\n",
       "      <td>32581</td>\n",
       "      <td>32652</td>\n",
       "      <td>32860</td>\n",
       "      <td>33074</td>\n",
       "      <td>33261</td>\n",
       "      <td>33471</td>\n",
       "      <td>...</td>\n",
       "      <td>1881</td>\n",
       "      <td>1571</td>\n",
       "      <td>1279</td>\n",
       "      <td>1028</td>\n",
       "      <td>987</td>\n",
       "      <td>949</td>\n",
       "      <td>2905</td>\n",
       "      <td>2430652</td>\n",
       "      <td>2703086</td>\n",
       "      <td>5133738</td>\n",
       "    </tr>\n",
       "    <tr>\n",
       "      <th>4</th>\n",
       "      <td>5</td>\n",
       "      <td>Antioquia</td>\n",
       "      <td>2019</td>\n",
       "      <td>Centros Poblados y Rural Disperso</td>\n",
       "      <td>14220</td>\n",
       "      <td>14033</td>\n",
       "      <td>13938</td>\n",
       "      <td>13829</td>\n",
       "      <td>13711</td>\n",
       "      <td>13603</td>\n",
       "      <td>...</td>\n",
       "      <td>449</td>\n",
       "      <td>380</td>\n",
       "      <td>288</td>\n",
       "      <td>260</td>\n",
       "      <td>188</td>\n",
       "      <td>258</td>\n",
       "      <td>472</td>\n",
       "      <td>734351</td>\n",
       "      <td>682117</td>\n",
       "      <td>1416468</td>\n",
       "    </tr>\n",
       "    <tr>\n",
       "      <th>...</th>\n",
       "      <td>...</td>\n",
       "      <td>...</td>\n",
       "      <td>...</td>\n",
       "      <td>...</td>\n",
       "      <td>...</td>\n",
       "      <td>...</td>\n",
       "      <td>...</td>\n",
       "      <td>...</td>\n",
       "      <td>...</td>\n",
       "      <td>...</td>\n",
       "      <td>...</td>\n",
       "      <td>...</td>\n",
       "      <td>...</td>\n",
       "      <td>...</td>\n",
       "      <td>...</td>\n",
       "      <td>...</td>\n",
       "      <td>...</td>\n",
       "      <td>...</td>\n",
       "      <td>...</td>\n",
       "      <td>...</td>\n",
       "      <td>...</td>\n",
       "    </tr>\n",
       "    <tr>\n",
       "      <th>3262</th>\n",
       "      <td>99</td>\n",
       "      <td>Vichada</td>\n",
       "      <td>2049</td>\n",
       "      <td>Centros Poblados y Rural Disperso</td>\n",
       "      <td>1251</td>\n",
       "      <td>1240</td>\n",
       "      <td>1233</td>\n",
       "      <td>1227</td>\n",
       "      <td>1225</td>\n",
       "      <td>1218</td>\n",
       "      <td>...</td>\n",
       "      <td>18</td>\n",
       "      <td>16</td>\n",
       "      <td>10</td>\n",
       "      <td>9</td>\n",
       "      <td>5</td>\n",
       "      <td>4</td>\n",
       "      <td>5</td>\n",
       "      <td>67013</td>\n",
       "      <td>61660</td>\n",
       "      <td>128673</td>\n",
       "    </tr>\n",
       "    <tr>\n",
       "      <th>3263</th>\n",
       "      <td>99</td>\n",
       "      <td>Vichada</td>\n",
       "      <td>2049</td>\n",
       "      <td>Total</td>\n",
       "      <td>1407</td>\n",
       "      <td>1402</td>\n",
       "      <td>1397</td>\n",
       "      <td>1397</td>\n",
       "      <td>1397</td>\n",
       "      <td>1394</td>\n",
       "      <td>...</td>\n",
       "      <td>27</td>\n",
       "      <td>21</td>\n",
       "      <td>15</td>\n",
       "      <td>10</td>\n",
       "      <td>9</td>\n",
       "      <td>8</td>\n",
       "      <td>5</td>\n",
       "      <td>81420</td>\n",
       "      <td>75604</td>\n",
       "      <td>157024</td>\n",
       "    </tr>\n",
       "    <tr>\n",
       "      <th>3264</th>\n",
       "      <td>99</td>\n",
       "      <td>Vichada</td>\n",
       "      <td>2050</td>\n",
       "      <td>Cabecera Municipal</td>\n",
       "      <td>154</td>\n",
       "      <td>159</td>\n",
       "      <td>164</td>\n",
       "      <td>166</td>\n",
       "      <td>173</td>\n",
       "      <td>174</td>\n",
       "      <td>...</td>\n",
       "      <td>8</td>\n",
       "      <td>8</td>\n",
       "      <td>4</td>\n",
       "      <td>4</td>\n",
       "      <td>1</td>\n",
       "      <td>4</td>\n",
       "      <td>2</td>\n",
       "      <td>14384</td>\n",
       "      <td>13898</td>\n",
       "      <td>28282</td>\n",
       "    </tr>\n",
       "    <tr>\n",
       "      <th>3265</th>\n",
       "      <td>99</td>\n",
       "      <td>Vichada</td>\n",
       "      <td>2050</td>\n",
       "      <td>Centros Poblados y Rural Disperso</td>\n",
       "      <td>1252</td>\n",
       "      <td>1242</td>\n",
       "      <td>1234</td>\n",
       "      <td>1229</td>\n",
       "      <td>1223</td>\n",
       "      <td>1224</td>\n",
       "      <td>...</td>\n",
       "      <td>22</td>\n",
       "      <td>15</td>\n",
       "      <td>12</td>\n",
       "      <td>8</td>\n",
       "      <td>6</td>\n",
       "      <td>5</td>\n",
       "      <td>6</td>\n",
       "      <td>67745</td>\n",
       "      <td>62357</td>\n",
       "      <td>130102</td>\n",
       "    </tr>\n",
       "    <tr>\n",
       "      <th>3266</th>\n",
       "      <td>99</td>\n",
       "      <td>Vichada</td>\n",
       "      <td>2050</td>\n",
       "      <td>Total</td>\n",
       "      <td>1406</td>\n",
       "      <td>1401</td>\n",
       "      <td>1398</td>\n",
       "      <td>1395</td>\n",
       "      <td>1396</td>\n",
       "      <td>1398</td>\n",
       "      <td>...</td>\n",
       "      <td>30</td>\n",
       "      <td>23</td>\n",
       "      <td>16</td>\n",
       "      <td>12</td>\n",
       "      <td>7</td>\n",
       "      <td>9</td>\n",
       "      <td>8</td>\n",
       "      <td>82129</td>\n",
       "      <td>76255</td>\n",
       "      <td>158384</td>\n",
       "    </tr>\n",
       "  </tbody>\n",
       "</table>\n",
       "<p>3267 rows × 310 columns</p>\n",
       "</div>"
      ],
      "text/plain": [
       "      DP      DPNOM   AÑO                    ÁREA GEOGRÁFICA  Hombres_0  \\\n",
       "0      5  Antioquia  2018                 Cabecera Municipal      31398   \n",
       "1      5  Antioquia  2018  Centros Poblados y Rural Disperso      14488   \n",
       "2      5  Antioquia  2018                              Total      45886   \n",
       "3      5  Antioquia  2019                 Cabecera Municipal      32581   \n",
       "4      5  Antioquia  2019  Centros Poblados y Rural Disperso      14220   \n",
       "...   ..        ...   ...                                ...        ...   \n",
       "3262  99    Vichada  2049  Centros Poblados y Rural Disperso       1251   \n",
       "3263  99    Vichada  2049                              Total       1407   \n",
       "3264  99    Vichada  2050                 Cabecera Municipal        154   \n",
       "3265  99    Vichada  2050  Centros Poblados y Rural Disperso       1252   \n",
       "3266  99    Vichada  2050                              Total       1406   \n",
       "\n",
       "      Hombres_1  Hombres_2  Hombres_3  Hombres_4  Hombres_5  ...  Total_94  \\\n",
       "0         31674      31916      32172      32460      32748  ...      1766   \n",
       "1         14314      14164      14027      13878      13742  ...       477   \n",
       "2         45988      46080      46199      46338      46490  ...      2243   \n",
       "3         32652      32860      33074      33261      33471  ...      1881   \n",
       "4         14033      13938      13829      13711      13603  ...       449   \n",
       "...         ...        ...        ...        ...        ...  ...       ...   \n",
       "3262       1240       1233       1227       1225       1218  ...        18   \n",
       "3263       1402       1397       1397       1397       1394  ...        27   \n",
       "3264        159        164        166        173        174  ...         8   \n",
       "3265       1242       1234       1229       1223       1224  ...        22   \n",
       "3266       1401       1398       1395       1396       1398  ...        30   \n",
       "\n",
       "      Total_95  Total_96  Total_97  Total_98  Total_99  Total_100 y más  \\\n",
       "0         1456      1168      1075       998      1103             2734   \n",
       "1          360       308       273       217       276              524   \n",
       "2         1816      1476      1348      1215      1379             3258   \n",
       "3         1571      1279      1028       987       949             2905   \n",
       "4          380       288       260       188       258              472   \n",
       "...        ...       ...       ...       ...       ...              ...   \n",
       "3262        16        10         9         5         4                5   \n",
       "3263        21        15        10         9         8                5   \n",
       "3264         8         4         4         1         4                2   \n",
       "3265        15        12         8         6         5                6   \n",
       "3266        23        16        12         7         9                8   \n",
       "\n",
       "      Total Hombres  Total Mujeres    Total  \n",
       "0           2351655        2621286  4972941  \n",
       "1            742504         691657  1434161  \n",
       "2           3094159        3312943  6407102  \n",
       "3           2430652        2703086  5133738  \n",
       "4            734351         682117  1416468  \n",
       "...             ...            ...      ...  \n",
       "3262          67013          61660   128673  \n",
       "3263          81420          75604   157024  \n",
       "3264          14384          13898    28282  \n",
       "3265          67745          62357   130102  \n",
       "3266          82129          76255   158384  \n",
       "\n",
       "[3267 rows x 310 columns]"
      ]
     },
     "execution_count": 4,
     "metadata": {},
     "output_type": "execute_result"
    }
   ],
   "source": [
    "proyecciones_poblacion"
   ]
  },
  {
   "cell_type": "code",
   "execution_count": 5,
   "metadata": {
    "execution": {
     "iopub.execute_input": "2020-12-03T05:58:59.551113Z",
     "iopub.status.busy": "2020-12-03T05:58:59.550992Z",
     "iopub.status.idle": "2020-12-03T05:58:59.577443Z",
     "shell.execute_reply": "2020-12-03T05:58:59.576706Z",
     "shell.execute_reply.started": "2020-12-03T05:58:59.551098Z"
    }
   },
   "outputs": [
    {
     "name": "stdout",
     "output_type": "stream",
     "text": [
      "<class 'pandas.core.frame.DataFrame'>\n",
      "RangeIndex: 3267 entries, 0 to 3266\n",
      "Columns: 310 entries, DP to Total\n",
      "dtypes: int64(308), object(2)\n",
      "memory usage: 7.7+ MB\n"
     ]
    }
   ],
   "source": [
    "proyecciones_poblacion.info()"
   ]
  },
  {
   "cell_type": "code",
   "execution_count": 6,
   "metadata": {
    "execution": {
     "iopub.execute_input": "2020-12-03T05:58:59.578245Z",
     "iopub.status.busy": "2020-12-03T05:58:59.578095Z",
     "iopub.status.idle": "2020-12-03T05:58:59.593430Z",
     "shell.execute_reply": "2020-12-03T05:58:59.592719Z",
     "shell.execute_reply.started": "2020-12-03T05:58:59.578228Z"
    }
   },
   "outputs": [
    {
     "data": {
      "text/html": [
       "<div>\n",
       "<style scoped>\n",
       "    .dataframe tbody tr th:only-of-type {\n",
       "        vertical-align: middle;\n",
       "    }\n",
       "\n",
       "    .dataframe tbody tr th {\n",
       "        vertical-align: top;\n",
       "    }\n",
       "\n",
       "    .dataframe thead th {\n",
       "        text-align: right;\n",
       "    }\n",
       "</style>\n",
       "<table border=\"1\" class=\"dataframe\">\n",
       "  <thead>\n",
       "    <tr style=\"text-align: right;\">\n",
       "      <th></th>\n",
       "      <th>DPNOM</th>\n",
       "      <th>ÁREA GEOGRÁFICA</th>\n",
       "    </tr>\n",
       "  </thead>\n",
       "  <tbody>\n",
       "    <tr>\n",
       "      <th>0</th>\n",
       "      <td>Antioquia</td>\n",
       "      <td>Cabecera Municipal</td>\n",
       "    </tr>\n",
       "    <tr>\n",
       "      <th>1</th>\n",
       "      <td>Antioquia</td>\n",
       "      <td>Centros Poblados y Rural Disperso</td>\n",
       "    </tr>\n",
       "    <tr>\n",
       "      <th>2</th>\n",
       "      <td>Antioquia</td>\n",
       "      <td>Total</td>\n",
       "    </tr>\n",
       "    <tr>\n",
       "      <th>3</th>\n",
       "      <td>Antioquia</td>\n",
       "      <td>Cabecera Municipal</td>\n",
       "    </tr>\n",
       "    <tr>\n",
       "      <th>4</th>\n",
       "      <td>Antioquia</td>\n",
       "      <td>Centros Poblados y Rural Disperso</td>\n",
       "    </tr>\n",
       "    <tr>\n",
       "      <th>...</th>\n",
       "      <td>...</td>\n",
       "      <td>...</td>\n",
       "    </tr>\n",
       "    <tr>\n",
       "      <th>3262</th>\n",
       "      <td>Vichada</td>\n",
       "      <td>Centros Poblados y Rural Disperso</td>\n",
       "    </tr>\n",
       "    <tr>\n",
       "      <th>3263</th>\n",
       "      <td>Vichada</td>\n",
       "      <td>Total</td>\n",
       "    </tr>\n",
       "    <tr>\n",
       "      <th>3264</th>\n",
       "      <td>Vichada</td>\n",
       "      <td>Cabecera Municipal</td>\n",
       "    </tr>\n",
       "    <tr>\n",
       "      <th>3265</th>\n",
       "      <td>Vichada</td>\n",
       "      <td>Centros Poblados y Rural Disperso</td>\n",
       "    </tr>\n",
       "    <tr>\n",
       "      <th>3266</th>\n",
       "      <td>Vichada</td>\n",
       "      <td>Total</td>\n",
       "    </tr>\n",
       "  </tbody>\n",
       "</table>\n",
       "<p>3267 rows × 2 columns</p>\n",
       "</div>"
      ],
      "text/plain": [
       "          DPNOM                    ÁREA GEOGRÁFICA\n",
       "0     Antioquia                 Cabecera Municipal\n",
       "1     Antioquia  Centros Poblados y Rural Disperso\n",
       "2     Antioquia                              Total\n",
       "3     Antioquia                 Cabecera Municipal\n",
       "4     Antioquia  Centros Poblados y Rural Disperso\n",
       "...         ...                                ...\n",
       "3262    Vichada  Centros Poblados y Rural Disperso\n",
       "3263    Vichada                              Total\n",
       "3264    Vichada                 Cabecera Municipal\n",
       "3265    Vichada  Centros Poblados y Rural Disperso\n",
       "3266    Vichada                              Total\n",
       "\n",
       "[3267 rows x 2 columns]"
      ]
     },
     "execution_count": 6,
     "metadata": {},
     "output_type": "execute_result"
    }
   ],
   "source": [
    "proyecciones_poblacion.select_dtypes(include='object')"
   ]
  },
  {
   "cell_type": "code",
   "execution_count": 7,
   "metadata": {
    "execution": {
     "iopub.execute_input": "2020-12-03T05:58:59.594306Z",
     "iopub.status.busy": "2020-12-03T05:58:59.594160Z",
     "iopub.status.idle": "2020-12-03T05:58:59.630606Z",
     "shell.execute_reply": "2020-12-03T05:58:59.629893Z",
     "shell.execute_reply.started": "2020-12-03T05:58:59.594290Z"
    }
   },
   "outputs": [],
   "source": [
    "proyecciones_poblacion=proyecciones_poblacion.astype({'DPNOM': 'str', 'ÁREA GEOGRÁFICA':'str'})"
   ]
  },
  {
   "cell_type": "code",
   "execution_count": 8,
   "metadata": {
    "execution": {
     "iopub.execute_input": "2020-12-03T05:58:59.631497Z",
     "iopub.status.busy": "2020-12-03T05:58:59.631347Z",
     "iopub.status.idle": "2020-12-03T05:58:59.897295Z",
     "shell.execute_reply": "2020-12-03T05:58:59.896626Z",
     "shell.execute_reply.started": "2020-12-03T05:58:59.631481Z"
    }
   },
   "outputs": [],
   "source": [
    "proyecciones_poblacion.to_parquet('proyecciones_poblacion_departamental_2018-2050.xlsx.parquet')"
   ]
  },
  {
   "cell_type": "code",
   "execution_count": 9,
   "metadata": {
    "execution": {
     "iopub.execute_input": "2020-12-03T05:58:59.899131Z",
     "iopub.status.busy": "2020-12-03T05:58:59.898973Z",
     "iopub.status.idle": "2020-12-03T05:58:59.916591Z",
     "shell.execute_reply": "2020-12-03T05:58:59.915967Z",
     "shell.execute_reply.started": "2020-12-03T05:58:59.899114Z"
    }
   },
   "outputs": [],
   "source": [
    "cod_dipola=pd.read_csv('DANE_Codificación_Divipola.csv')"
   ]
  },
  {
   "cell_type": "code",
   "execution_count": 10,
   "metadata": {
    "execution": {
     "iopub.execute_input": "2020-12-03T05:58:59.917449Z",
     "iopub.status.busy": "2020-12-03T05:58:59.917330Z",
     "iopub.status.idle": "2020-12-03T05:58:59.946680Z",
     "shell.execute_reply": "2020-12-03T05:58:59.946025Z",
     "shell.execute_reply.started": "2020-12-03T05:58:59.917434Z"
    }
   },
   "outputs": [],
   "source": [
    "cod_dipola.to_parquet('DANE_Codificación_Divipola.parquet')"
   ]
  },
  {
   "cell_type": "code",
   "execution_count": 11,
   "metadata": {
    "execution": {
     "iopub.execute_input": "2020-12-03T05:58:59.947398Z",
     "iopub.status.busy": "2020-12-03T05:58:59.947276Z",
     "iopub.status.idle": "2020-12-03T05:59:02.199550Z",
     "shell.execute_reply": "2020-12-03T05:59:02.198960Z",
     "shell.execute_reply.started": "2020-12-03T05:58:59.947381Z"
    }
   },
   "outputs": [],
   "source": [
    "nofetal2017_new=pd.read_csv('nofetal2017_new.csv', low_memory= False)"
   ]
  },
  {
   "cell_type": "code",
   "execution_count": 12,
   "metadata": {
    "execution": {
     "iopub.execute_input": "2020-12-03T05:59:02.200300Z",
     "iopub.status.busy": "2020-12-03T05:59:02.200178Z",
     "iopub.status.idle": "2020-12-03T05:59:03.023707Z",
     "shell.execute_reply": "2020-12-03T05:59:03.023111Z",
     "shell.execute_reply.started": "2020-12-03T05:59:02.200284Z"
    }
   },
   "outputs": [],
   "source": [
    "nofetal2017_new.to_parquet('nofetal2017_new.parquet')"
   ]
  },
  {
   "cell_type": "code",
   "execution_count": 13,
   "metadata": {
    "execution": {
     "iopub.execute_input": "2020-12-03T05:59:03.024558Z",
     "iopub.status.busy": "2020-12-03T05:59:03.024435Z",
     "iopub.status.idle": "2020-12-03T05:59:04.771878Z",
     "shell.execute_reply": "2020-12-03T05:59:04.771236Z",
     "shell.execute_reply.started": "2020-12-03T05:59:03.024543Z"
    }
   },
   "outputs": [],
   "source": [
    "nofetal2018_new=pd.read_csv('nofetal2018_new.csv', low_memory= False)"
   ]
  },
  {
   "cell_type": "code",
   "execution_count": 14,
   "metadata": {
    "execution": {
     "iopub.execute_input": "2020-12-03T05:59:04.772648Z",
     "iopub.status.busy": "2020-12-03T05:59:04.772523Z",
     "iopub.status.idle": "2020-12-03T05:59:05.588233Z",
     "shell.execute_reply": "2020-12-03T05:59:05.587526Z",
     "shell.execute_reply.started": "2020-12-03T05:59:04.772633Z"
    }
   },
   "outputs": [],
   "source": [
    "nofetal2018_new.to_parquet('nofetal2018_new.parquet')"
   ]
  },
  {
   "cell_type": "code",
   "execution_count": null,
   "metadata": {},
   "outputs": [],
   "source": []
  }
 ],
 "metadata": {
  "kernelspec": {
   "display_name": "Python 3",
   "language": "python",
   "name": "python3"
  },
  "language_info": {
   "codemirror_mode": {
    "name": "ipython",
    "version": 3
   },
   "file_extension": ".py",
   "mimetype": "text/x-python",
   "name": "python",
   "nbconvert_exporter": "python",
   "pygments_lexer": "ipython3",
   "version": "3.8.5"
  }
 },
 "nbformat": 4,
 "nbformat_minor": 4
}
