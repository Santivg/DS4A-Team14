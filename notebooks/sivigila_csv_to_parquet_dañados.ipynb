{
 "cells": [
  {
   "cell_type": "code",
   "execution_count": 1,
   "metadata": {
    "execution": {
     "iopub.execute_input": "2020-12-03T04:38:07.390381Z",
     "iopub.status.busy": "2020-12-03T04:38:07.390159Z",
     "iopub.status.idle": "2020-12-03T04:38:07.393952Z",
     "shell.execute_reply": "2020-12-03T04:38:07.393188Z",
     "shell.execute_reply.started": "2020-12-03T04:38:07.390334Z"
    }
   },
   "outputs": [],
   "source": [
    "# Este notebook debe ejecutarse en la carpeta que contenga las 3 carpetas de sivigila"
   ]
  },
  {
   "cell_type": "code",
   "execution_count": 1,
   "metadata": {
    "execution": {
     "iopub.execute_input": "2020-12-04T22:39:13.705686Z",
     "iopub.status.busy": "2020-12-04T22:39:13.705416Z",
     "iopub.status.idle": "2020-12-04T22:39:13.859407Z",
     "shell.execute_reply": "2020-12-04T22:39:13.858834Z",
     "shell.execute_reply.started": "2020-12-04T22:39:13.705637Z"
    }
   },
   "outputs": [],
   "source": [
    "import pandas as pd\n",
    "import os"
   ]
  },
  {
   "cell_type": "code",
   "execution_count": 2,
   "metadata": {
    "execution": {
     "iopub.execute_input": "2020-12-04T22:39:14.106637Z",
     "iopub.status.busy": "2020-12-04T22:39:14.106457Z",
     "iopub.status.idle": "2020-12-04T22:39:14.109374Z",
     "shell.execute_reply": "2020-12-04T22:39:14.108798Z",
     "shell.execute_reply.started": "2020-12-04T22:39:14.106620Z"
    }
   },
   "outputs": [],
   "source": [
    "# GUARDAMOS LOS NOMBRES DE LOS ARCHIVOS"
   ]
  },
  {
   "cell_type": "code",
   "execution_count": 4,
   "metadata": {
    "execution": {
     "iopub.execute_input": "2020-12-04T22:39:21.261814Z",
     "iopub.status.busy": "2020-12-04T22:39:21.261651Z",
     "iopub.status.idle": "2020-12-04T22:39:21.265842Z",
     "shell.execute_reply": "2020-12-04T22:39:21.265282Z",
     "shell.execute_reply.started": "2020-12-04T22:39:21.261797Z"
    }
   },
   "outputs": [],
   "source": [
    "files_2018 =os.listdir('dañados')"
   ]
  },
  {
   "cell_type": "code",
   "execution_count": 5,
   "metadata": {
    "execution": {
     "iopub.execute_input": "2020-12-04T22:39:27.265303Z",
     "iopub.status.busy": "2020-12-04T22:39:27.265145Z",
     "iopub.status.idle": "2020-12-04T22:39:27.272239Z",
     "shell.execute_reply": "2020-12-04T22:39:27.271659Z",
     "shell.execute_reply.started": "2020-12-04T22:39:27.265286Z"
    }
   },
   "outputs": [
    {
     "data": {
      "text/plain": [
       "['CHAGAS_Datos_2018_205.csv',\n",
       " 'CHIKUNGUNYA_Datos_2018_217.csv',\n",
       " 'DENGUE_Datos_2018_220.csv',\n",
       " 'FIEBRE_AMARILLA_datos_2017_310.csv']"
      ]
     },
     "execution_count": 5,
     "metadata": {},
     "output_type": "execute_result"
    }
   ],
   "source": [
    "files_2018"
   ]
  },
  {
   "cell_type": "code",
   "execution_count": 5,
   "metadata": {
    "execution": {
     "iopub.execute_input": "2020-12-03T04:38:07.588545Z",
     "iopub.status.busy": "2020-12-03T04:38:07.588370Z",
     "iopub.status.idle": "2020-12-03T04:38:07.594147Z",
     "shell.execute_reply": "2020-12-03T04:38:07.593430Z",
     "shell.execute_reply.started": "2020-12-03T04:38:07.588509Z"
    }
   },
   "outputs": [],
   "source": [
    "# CREAMOS LAS NUEVAS CARPETAS"
   ]
  },
  {
   "cell_type": "code",
   "execution_count": 6,
   "metadata": {
    "execution": {
     "iopub.execute_input": "2020-12-04T22:40:33.500946Z",
     "iopub.status.busy": "2020-12-04T22:40:33.500789Z",
     "iopub.status.idle": "2020-12-04T22:40:33.504695Z",
     "shell.execute_reply": "2020-12-04T22:40:33.504089Z",
     "shell.execute_reply.started": "2020-12-04T22:40:33.500930Z"
    }
   },
   "outputs": [],
   "source": [
    "new_dir=['./dañados_PARQUET']\n",
    "for i in new_dir:\n",
    "    try:\n",
    "        os.mkdir(i)\n",
    "    except:\n",
    "        print(f'Ya existe el directorio {i}')"
   ]
  },
  {
   "cell_type": "code",
   "execution_count": 7,
   "metadata": {
    "execution": {
     "iopub.execute_input": "2020-12-03T04:38:07.608926Z",
     "iopub.status.busy": "2020-12-03T04:38:07.608805Z",
     "iopub.status.idle": "2020-12-03T04:38:07.616876Z",
     "shell.execute_reply": "2020-12-03T04:38:07.616150Z",
     "shell.execute_reply.started": "2020-12-03T04:38:07.608911Z"
    }
   },
   "outputs": [],
   "source": [
    "# GUARDAMOS LOS NOMBRES SIN EL .CSV"
   ]
  },
  {
   "cell_type": "code",
   "execution_count": 7,
   "metadata": {
    "execution": {
     "iopub.execute_input": "2020-12-04T22:40:41.884113Z",
     "iopub.status.busy": "2020-12-04T22:40:41.883949Z",
     "iopub.status.idle": "2020-12-04T22:40:41.887341Z",
     "shell.execute_reply": "2020-12-04T22:40:41.886581Z",
     "shell.execute_reply.started": "2020-12-04T22:40:41.884097Z"
    }
   },
   "outputs": [],
   "source": [
    "files_2018_names=[x.split('.')[0] for x in files_2018]"
   ]
  },
  {
   "cell_type": "code",
   "execution_count": 9,
   "metadata": {
    "execution": {
     "iopub.execute_input": "2020-12-04T22:41:04.933660Z",
     "iopub.status.busy": "2020-12-04T22:41:04.933497Z",
     "iopub.status.idle": "2020-12-04T22:41:04.980271Z",
     "shell.execute_reply": "2020-12-04T22:41:04.979556Z",
     "shell.execute_reply.started": "2020-12-04T22:41:04.933643Z"
    }
   },
   "outputs": [],
   "source": [
    "li_2018= []\n",
    "for filename in files_2018:\n",
    "    li_2018.append(pd.read_csv(f'dañados/{filename}', encoding='latin1', low_memory= False))"
   ]
  },
  {
   "cell_type": "code",
   "execution_count": 12,
   "metadata": {
    "execution": {
     "iopub.execute_input": "2020-12-03T04:38:09.761540Z",
     "iopub.status.busy": "2020-12-03T04:38:09.761399Z",
     "iopub.status.idle": "2020-12-03T04:38:09.764479Z",
     "shell.execute_reply": "2020-12-03T04:38:09.763718Z",
     "shell.execute_reply.started": "2020-12-03T04:38:09.761523Z"
    }
   },
   "outputs": [],
   "source": [
    "# GUARDAMOS EN FORMATO PARQUET"
   ]
  },
  {
   "cell_type": "code",
   "execution_count": 15,
   "metadata": {
    "execution": {
     "iopub.execute_input": "2020-12-04T22:42:14.523309Z",
     "iopub.status.busy": "2020-12-04T22:42:14.523151Z",
     "iopub.status.idle": "2020-12-04T22:42:14.656478Z",
     "shell.execute_reply": "2020-12-04T22:42:14.655890Z",
     "shell.execute_reply.started": "2020-12-04T22:42:14.523293Z"
    }
   },
   "outputs": [],
   "source": [
    "for i, df_2018 in enumerate(li_2018):\n",
    "    df_2018.to_parquet(f'./dañados_PARQUET/{files_2018_names[i]}.parquet')"
   ]
  },
  {
   "cell_type": "code",
   "execution_count": null,
   "metadata": {},
   "outputs": [],
   "source": []
  }
 ],
 "metadata": {
  "kernelspec": {
   "display_name": "Python 3",
   "language": "python",
   "name": "python3"
  },
  "language_info": {
   "codemirror_mode": {
    "name": "ipython",
    "version": 3
   },
   "file_extension": ".py",
   "mimetype": "text/x-python",
   "name": "python",
   "nbconvert_exporter": "python",
   "pygments_lexer": "ipython3",
   "version": "3.8.5"
  }
 },
 "nbformat": 4,
 "nbformat_minor": 4
}
