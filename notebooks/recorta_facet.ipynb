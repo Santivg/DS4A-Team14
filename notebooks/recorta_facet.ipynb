{
 "cells": [
  {
   "cell_type": "code",
   "execution_count": 45,
   "metadata": {
    "execution": {
     "iopub.execute_input": "2020-12-11T20:15:17.978319Z",
     "iopub.status.busy": "2020-12-11T20:15:17.978166Z",
     "iopub.status.idle": "2020-12-11T20:15:17.980876Z",
     "shell.execute_reply": "2020-12-11T20:15:17.980315Z",
     "shell.execute_reply.started": "2020-12-11T20:15:17.978304Z"
    }
   },
   "outputs": [],
   "source": [
    "import cv2\n",
    "import numpy as np"
   ]
  },
  {
   "cell_type": "code",
   "execution_count": 46,
   "metadata": {
    "execution": {
     "iopub.execute_input": "2020-12-11T20:15:18.290113Z",
     "iopub.status.busy": "2020-12-11T20:15:18.289949Z",
     "iopub.status.idle": "2020-12-11T20:15:18.812429Z",
     "shell.execute_reply": "2020-12-11T20:15:18.811868Z",
     "shell.execute_reply.started": "2020-12-11T20:15:18.290097Z"
    }
   },
   "outputs": [
    {
     "name": "stdout",
     "output_type": "stream",
     "text": [
      "(18000, 3256, 3)\n"
     ]
    }
   ],
   "source": [
    "# Read the image\n",
    "img = cv2.imread('../images/confirmados_Departamento_residencia_ANO.jpg')\n",
    "print(img.shape)"
   ]
  },
  {
   "cell_type": "code",
   "execution_count": 47,
   "metadata": {
    "execution": {
     "iopub.execute_input": "2020-12-11T20:15:18.813378Z",
     "iopub.status.busy": "2020-12-11T20:15:18.813261Z",
     "iopub.status.idle": "2020-12-11T20:15:18.816474Z",
     "shell.execute_reply": "2020-12-11T20:15:18.815723Z",
     "shell.execute_reply.started": "2020-12-11T20:15:18.813363Z"
    }
   },
   "outputs": [],
   "source": [
    "number_images=12\n",
    "height = img.shape[0]\n",
    "width = img.shape[1]\n",
    "\n",
    "# Cutoff\n",
    "height_cutoff = height // number_images "
   ]
  },
  {
   "cell_type": "code",
   "execution_count": 48,
   "metadata": {
    "execution": {
     "iopub.execute_input": "2020-12-11T20:15:20.313824Z",
     "iopub.status.busy": "2020-12-11T20:15:20.313680Z",
     "iopub.status.idle": "2020-12-11T20:15:20.317270Z",
     "shell.execute_reply": "2020-12-11T20:15:20.316652Z",
     "shell.execute_reply.started": "2020-12-11T20:15:20.313808Z"
    }
   },
   "outputs": [
    {
     "data": {
      "text/plain": [
       "1500"
      ]
     },
     "execution_count": 48,
     "metadata": {},
     "output_type": "execute_result"
    }
   ],
   "source": [
    "height_cutoff"
   ]
  },
  {
   "cell_type": "code",
   "execution_count": 50,
   "metadata": {
    "execution": {
     "iopub.execute_input": "2020-12-11T20:15:29.282686Z",
     "iopub.status.busy": "2020-12-11T20:15:29.282525Z",
     "iopub.status.idle": "2020-12-11T20:15:29.286737Z",
     "shell.execute_reply": "2020-12-11T20:15:29.286031Z",
     "shell.execute_reply.started": "2020-12-11T20:15:29.282670Z"
    }
   },
   "outputs": [
    {
     "data": {
      "text/plain": [
       "18000"
      ]
     },
     "execution_count": 50,
     "metadata": {},
     "output_type": "execute_result"
    }
   ],
   "source": [
    "height_cutoff*number_images"
   ]
  },
  {
   "cell_type": "code",
   "execution_count": 51,
   "metadata": {
    "execution": {
     "iopub.execute_input": "2020-12-11T20:15:30.321275Z",
     "iopub.status.busy": "2020-12-11T20:15:30.321134Z",
     "iopub.status.idle": "2020-12-11T20:15:31.087491Z",
     "shell.execute_reply": "2020-12-11T20:15:31.086910Z",
     "shell.execute_reply.started": "2020-12-11T20:15:30.321260Z"
    }
   },
   "outputs": [],
   "source": [
    "a=0\n",
    "for i in np.arange(number_images):\n",
    "    b=a+height_cutoff\n",
    "    s = img[a:b, :]\n",
    "    a=b\n",
    "    cv2.imwrite(f\"../images/s{i}.jpg\", s)"
   ]
  },
  {
   "cell_type": "code",
   "execution_count": null,
   "metadata": {},
   "outputs": [],
   "source": []
  }
 ],
 "metadata": {
  "kernelspec": {
   "display_name": "Python 3",
   "language": "python",
   "name": "python3"
  },
  "language_info": {
   "codemirror_mode": {
    "name": "ipython",
    "version": 3
   },
   "file_extension": ".py",
   "mimetype": "text/x-python",
   "name": "python",
   "nbconvert_exporter": "python",
   "pygments_lexer": "ipython3",
   "version": "3.8.5"
  }
 },
 "nbformat": 4,
 "nbformat_minor": 4
}
