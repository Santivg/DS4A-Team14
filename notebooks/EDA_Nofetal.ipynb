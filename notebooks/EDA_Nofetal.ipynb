{
 "cells": [
  {
   "cell_type": "markdown",
   "metadata": {},
   "source": [
    "# EDA Mortality in Colombia\n"
   ]
  },
  {
   "cell_type": "code",
   "execution_count": 1,
   "metadata": {
    "execution": {
     "iopub.execute_input": "2020-12-12T23:31:02.983440Z",
     "iopub.status.busy": "2020-12-12T23:31:02.983252Z",
     "iopub.status.idle": "2020-12-12T23:31:03.461822Z",
     "shell.execute_reply": "2020-12-12T23:31:03.461233Z",
     "shell.execute_reply.started": "2020-12-12T23:31:02.983396Z"
    }
   },
   "outputs": [],
   "source": [
    "import pandas as pd\n",
    "import numpy as np\n",
    "import seaborn as sns\n",
    "import matplotlib.pyplot as plt\n",
    "import datetime as dt"
   ]
  },
  {
   "cell_type": "markdown",
   "metadata": {},
   "source": [
    "We have the DANE information fo 2017 and 2018 mortality reported in Colombia translated previously for column names and infectious deseases in the column 'CAU_HOMOL' into parquet format."
   ]
  },
  {
   "cell_type": "code",
   "execution_count": 2,
   "metadata": {
    "execution": {
     "iopub.execute_input": "2020-12-12T23:31:03.462654Z",
     "iopub.status.busy": "2020-12-12T23:31:03.462535Z",
     "iopub.status.idle": "2020-12-12T23:31:04.114387Z",
     "shell.execute_reply": "2020-12-12T23:31:04.113805Z",
     "shell.execute_reply.started": "2020-12-12T23:31:03.462640Z"
    }
   },
   "outputs": [],
   "source": [
    "df17 = pd.read_parquet(\"../parquet_datasets/nofetal2017_new.parquet\")\n",
    "df18 = pd.read_parquet(\"../parquet_datasets/nofetal2018_new.parquet\")\n",
    "dfdem=pd.read_parquet(\"../parquet_datasets/proyecciones_poblacion_departamental_2018-2050.parquet\")"
   ]
  },
  {
   "cell_type": "markdown",
   "metadata": {},
   "source": [
    "## Mortality information"
   ]
  },
  {
   "cell_type": "code",
   "execution_count": 3,
   "metadata": {
    "execution": {
     "iopub.execute_input": "2020-12-12T23:31:04.115369Z",
     "iopub.status.busy": "2020-12-12T23:31:04.115242Z",
     "iopub.status.idle": "2020-12-12T23:31:04.119835Z",
     "shell.execute_reply": "2020-12-12T23:31:04.119241Z",
     "shell.execute_reply.started": "2020-12-12T23:31:04.115351Z"
    }
   },
   "outputs": [
    {
     "name": "stdout",
     "output_type": "stream",
     "text": [
      "17:  (227624, 70)\n",
      "18:  (236932, 66)\n"
     ]
    }
   ],
   "source": [
    "print(\"17: \", df17.shape)\n",
    "print(\"18: \",df18.shape)"
   ]
  },
  {
   "cell_type": "markdown",
   "metadata": {},
   "source": [
    "We noticed that the datasets do not have the same number of columns. Furthermore, not all the columns are needed for our purpose. Then we have to select the columns and merge the dataframes of each year"
   ]
  },
  {
   "cell_type": "markdown",
   "metadata": {},
   "source": [
    "Dictionary link: \n",
    "http://microdatos.dane.gov.co/index.php/catalog/652/data_dictionary#page=F10&tab=data-dictionary"
   ]
  },
  {
   "cell_type": "code",
   "execution_count": 4,
   "metadata": {
    "execution": {
     "iopub.execute_input": "2020-12-12T23:31:04.120744Z",
     "iopub.status.busy": "2020-12-12T23:31:04.120618Z",
     "iopub.status.idle": "2020-12-12T23:31:04.134039Z",
     "shell.execute_reply": "2020-12-12T23:31:04.133471Z",
     "shell.execute_reply.started": "2020-12-12T23:31:04.120729Z"
    }
   },
   "outputs": [
    {
     "data": {
      "text/plain": [
       "Index(['Unnamed: 0', 'COD_DPTO', 'COD_MUNIC', 'A_DEFUN', 'SIT_DEFUN',\n",
       "       'OTRSITIODE', 'COD_INST', 'NOM_INST', 'TIPO_DEFUN', 'ANO', 'MES',\n",
       "       'HORA', 'MINUTOS', 'SEXO', 'EST_CIVIL', 'GRU_ED1', 'GRU_ED2',\n",
       "       'NIVEL_EDU', 'ULTCURFAL', 'MUERTEPORO', 'SIMUERTEPO', 'OCUPACION',\n",
       "       'IDPERTET', 'CODPRES', 'CODPTORE', 'CODMUNRE', 'AREA_RES', 'SEG_SOCIAL',\n",
       "       'IDADMISALU', 'IDCLASADMI', 'PMAN_MUER', 'CONS_EXP', 'MU_PARTO',\n",
       "       'T_PARTO', 'TIPO_EMB', 'T_GES', 'PESO_NAC', 'EDAD_MADRE', 'N_HIJOSV',\n",
       "       'N_HIJOSM', 'EST_CIVM', 'NIV_EDUM', 'ULTCURMAD', 'EMB_FAL', 'EMB_SEM',\n",
       "       'EMB_MES', 'MAN_MUER', 'CODOCUR', 'CODMUNOC', 'C_MUERTE', 'C_MUERTEB',\n",
       "       'C_MUERTEC', 'C_MUERTED', 'C_MUERTEE', 'ASIS_MED', 'C_DIR1', 'C_DIR12',\n",
       "       'C_ANT1', 'C_ANT12', 'C_ANT2', 'C_ANT22', 'C_ANT3', 'C_ANT32', 'C_PAT1',\n",
       "       'C_PAT2', 'C_BAS1', 'C_MCM1', 'CAUSA_666', 'IDPROFCER', 'CAU_HOMOL'],\n",
       "      dtype='object')"
      ]
     },
     "execution_count": 4,
     "metadata": {},
     "output_type": "execute_result"
    }
   ],
   "source": [
    "#Check information\n",
    "df17.columns "
   ]
  },
  {
   "cell_type": "code",
   "execution_count": 5,
   "metadata": {
    "execution": {
     "iopub.execute_input": "2020-12-12T23:31:04.134794Z",
     "iopub.status.busy": "2020-12-12T23:31:04.134672Z",
     "iopub.status.idle": "2020-12-12T23:31:04.144446Z",
     "shell.execute_reply": "2020-12-12T23:31:04.143711Z",
     "shell.execute_reply.started": "2020-12-12T23:31:04.134779Z"
    }
   },
   "outputs": [],
   "source": [
    "#Check information in the largest dataset\n",
    "#for i in df17.columns:\n",
    " #   print(i,\":\\n\",df17[i].unique())"
   ]
  },
  {
   "cell_type": "markdown",
   "metadata": {},
   "source": [
    "There are some things to adjust in the datasets before visualizing the information:\n",
    "\n",
    "1. Select the columns of interest.\n",
    "2. Create a column with date in datetype format.\n",
    "3. Replace ' '  values for NaN for later cleaning.\n",
    "4. Change the column name 'COD_DPTO' for 'Dpto' because it does not have codes but names of the Colombian departments."
   ]
  },
  {
   "cell_type": "code",
   "execution_count": 6,
   "metadata": {
    "execution": {
     "iopub.execute_input": "2020-12-12T23:31:04.145228Z",
     "iopub.status.busy": "2020-12-12T23:31:04.145089Z",
     "iopub.status.idle": "2020-12-12T23:31:08.813119Z",
     "shell.execute_reply": "2020-12-12T23:31:08.812521Z",
     "shell.execute_reply.started": "2020-12-12T23:31:04.145196Z"
    }
   },
   "outputs": [
    {
     "data": {
      "text/html": [
       "<div>\n",
       "<style scoped>\n",
       "    .dataframe tbody tr th:only-of-type {\n",
       "        vertical-align: middle;\n",
       "    }\n",
       "\n",
       "    .dataframe tbody tr th {\n",
       "        vertical-align: top;\n",
       "    }\n",
       "\n",
       "    .dataframe thead th {\n",
       "        text-align: right;\n",
       "    }\n",
       "</style>\n",
       "<table border=\"1\" class=\"dataframe\">\n",
       "  <thead>\n",
       "    <tr style=\"text-align: right;\">\n",
       "      <th></th>\n",
       "      <th>Dpto</th>\n",
       "      <th>A_DEFUN</th>\n",
       "      <th>SIT_DEFUN</th>\n",
       "      <th>ANO</th>\n",
       "      <th>MES</th>\n",
       "      <th>SEXO</th>\n",
       "      <th>GRU_ED1</th>\n",
       "      <th>GRU_ED2</th>\n",
       "      <th>MUERTEPORO</th>\n",
       "      <th>IDPERTET</th>\n",
       "      <th>SEG_SOCIAL</th>\n",
       "      <th>PMAN_MUER</th>\n",
       "      <th>CONS_EXP</th>\n",
       "      <th>CAU_HOMOL</th>\n",
       "    </tr>\n",
       "    <tr>\n",
       "      <th>FECHA</th>\n",
       "      <th></th>\n",
       "      <th></th>\n",
       "      <th></th>\n",
       "      <th></th>\n",
       "      <th></th>\n",
       "      <th></th>\n",
       "      <th></th>\n",
       "      <th></th>\n",
       "      <th></th>\n",
       "      <th></th>\n",
       "      <th></th>\n",
       "      <th></th>\n",
       "      <th></th>\n",
       "      <th></th>\n",
       "    </tr>\n",
       "  </thead>\n",
       "  <tbody>\n",
       "    <tr>\n",
       "      <th>2017-01-01</th>\n",
       "      <td>Putumayo</td>\n",
       "      <td>Cabecera municipal</td>\n",
       "      <td>Hospital/clínica</td>\n",
       "      <td>2017</td>\n",
       "      <td>Enero</td>\n",
       "      <td>Masculino</td>\n",
       "      <td>De 50 a 54 años</td>\n",
       "      <td>De 45 a 64 años</td>\n",
       "      <td>2</td>\n",
       "      <td>Ninguno de las anteriores</td>\n",
       "      <td>Subsidiado</td>\n",
       "      <td>Violenta</td>\n",
       "      <td>Médico legista</td>\n",
       "      <td>101</td>\n",
       "    </tr>\n",
       "    <tr>\n",
       "      <th>2017-01-01</th>\n",
       "      <td>Putumayo</td>\n",
       "      <td>Cabecera municipal</td>\n",
       "      <td>Vía pública</td>\n",
       "      <td>2017</td>\n",
       "      <td>Enero</td>\n",
       "      <td>Masculino</td>\n",
       "      <td>De 25 a 29 años</td>\n",
       "      <td>De 15 a 44 años</td>\n",
       "      <td>2</td>\n",
       "      <td>Ninguno de las anteriores</td>\n",
       "      <td>Subsidiado</td>\n",
       "      <td>Violenta</td>\n",
       "      <td>Médico legista</td>\n",
       "      <td>101</td>\n",
       "    </tr>\n",
       "    <tr>\n",
       "      <th>2017-01-01</th>\n",
       "      <td>Antioquia</td>\n",
       "      <td>Cabecera municipal</td>\n",
       "      <td>Hospital/clínica</td>\n",
       "      <td>2017</td>\n",
       "      <td>Enero</td>\n",
       "      <td>Masculino</td>\n",
       "      <td>De 35 a 39 años</td>\n",
       "      <td>De 15 a 44 años</td>\n",
       "      <td>2</td>\n",
       "      <td>Ninguno de las anteriores</td>\n",
       "      <td>Subsidiado</td>\n",
       "      <td>Violenta</td>\n",
       "      <td>Médico legista</td>\n",
       "      <td>101</td>\n",
       "    </tr>\n",
       "    <tr>\n",
       "      <th>2017-01-01</th>\n",
       "      <td>Antioquia</td>\n",
       "      <td>Rural disperso</td>\n",
       "      <td>Vía pública</td>\n",
       "      <td>2017</td>\n",
       "      <td>Enero</td>\n",
       "      <td>Masculino</td>\n",
       "      <td>De 45 a 49 años</td>\n",
       "      <td>De 45 a 64 años</td>\n",
       "      <td>2</td>\n",
       "      <td>Ninguno de las anteriores</td>\n",
       "      <td>Subsidiado</td>\n",
       "      <td>Violenta</td>\n",
       "      <td>Médico legista</td>\n",
       "      <td>101</td>\n",
       "    </tr>\n",
       "    <tr>\n",
       "      <th>2017-01-01</th>\n",
       "      <td>Cauca</td>\n",
       "      <td>Rural disperso</td>\n",
       "      <td>Vía pública</td>\n",
       "      <td>2017</td>\n",
       "      <td>Enero</td>\n",
       "      <td>Masculino</td>\n",
       "      <td>De 30 a 34 años</td>\n",
       "      <td>De 15 a 44 años</td>\n",
       "      <td>2</td>\n",
       "      <td>Ninguno de las anteriores</td>\n",
       "      <td>Subsidiado</td>\n",
       "      <td>Violenta</td>\n",
       "      <td>Médico legista</td>\n",
       "      <td>101</td>\n",
       "    </tr>\n",
       "  </tbody>\n",
       "</table>\n",
       "</div>"
      ],
      "text/plain": [
       "                 Dpto             A_DEFUN         SIT_DEFUN   ANO    MES  \\\n",
       "FECHA                                                                      \n",
       "2017-01-01   Putumayo  Cabecera municipal  Hospital/clínica  2017  Enero   \n",
       "2017-01-01   Putumayo  Cabecera municipal       Vía pública  2017  Enero   \n",
       "2017-01-01  Antioquia  Cabecera municipal  Hospital/clínica  2017  Enero   \n",
       "2017-01-01  Antioquia      Rural disperso       Vía pública  2017  Enero   \n",
       "2017-01-01      Cauca      Rural disperso       Vía pública  2017  Enero   \n",
       "\n",
       "                 SEXO          GRU_ED1          GRU_ED2 MUERTEPORO  \\\n",
       "FECHA                                                                \n",
       "2017-01-01  Masculino  De 50 a 54 años  De 45 a 64 años          2   \n",
       "2017-01-01  Masculino  De 25 a 29 años  De 15 a 44 años          2   \n",
       "2017-01-01  Masculino  De 35 a 39 años  De 15 a 44 años          2   \n",
       "2017-01-01  Masculino  De 45 a 49 años  De 45 a 64 años          2   \n",
       "2017-01-01  Masculino  De 30 a 34 años  De 15 a 44 años          2   \n",
       "\n",
       "                             IDPERTET  SEG_SOCIAL PMAN_MUER        CONS_EXP  \\\n",
       "FECHA                                                                         \n",
       "2017-01-01  Ninguno de las anteriores  Subsidiado  Violenta  Médico legista   \n",
       "2017-01-01  Ninguno de las anteriores  Subsidiado  Violenta  Médico legista   \n",
       "2017-01-01  Ninguno de las anteriores  Subsidiado  Violenta  Médico legista   \n",
       "2017-01-01  Ninguno de las anteriores  Subsidiado  Violenta  Médico legista   \n",
       "2017-01-01  Ninguno de las anteriores  Subsidiado  Violenta  Médico legista   \n",
       "\n",
       "           CAU_HOMOL  \n",
       "FECHA                 \n",
       "2017-01-01       101  \n",
       "2017-01-01       101  \n",
       "2017-01-01       101  \n",
       "2017-01-01       101  \n",
       "2017-01-01       101  "
      ]
     },
     "execution_count": 6,
     "metadata": {},
     "output_type": "execute_result"
    }
   ],
   "source": [
    " #Keep the columns of interest\n",
    "columns=['COD_DPTO','A_DEFUN','SIT_DEFUN','ANO', 'MES','SEXO', 'GRU_ED1', 'GRU_ED2',\n",
    "         'MUERTEPORO','IDPERTET','SEG_SOCIAL','PMAN_MUER','CONS_EXP','CAU_HOMOL']\n",
    "df2=df17[columns].append(df18[columns])\n",
    "\n",
    "#Create date column and set it as index\n",
    "meses={'Enero':1,'Febrero':2,'Marzo':3,'Abril':4,'Mayo':5,'Junio':6,'Julio':7,\n",
    "      'Agosto':8,'Septiembre':9, 'Octubre':10,'Noviembre':11,'Diciembre':12}\n",
    "df2['FECHA']=pd.to_datetime(df2.ANO*10000+df2.MES.map(meses)*100+1,format='%Y%m%d')\n",
    "\n",
    "#Fill blanks with nulls (to be checked)\n",
    "df2=df2.replace(r'^\\s+$', np.nan, regex=True)\n",
    "df2.set_index('FECHA',inplace=True)\n",
    "\n",
    "#Change Column name\n",
    "df2.rename(columns={'COD_DPTO':'Dpto'},inplace=True)\n",
    "df2.head()"
   ]
  },
  {
   "cell_type": "markdown",
   "metadata": {},
   "source": [
    "##### Edit the CAU_HOMOL column (causes of death)"
   ]
  },
  {
   "cell_type": "markdown",
   "metadata": {},
   "source": [
    "There are so many causes that are still with codified values and not all the infectious deseases are of our particular interest. Additionally, the acute respiratory infection is in the cathegory '62' (other respiratory deseases). Thus, we create groups by deseases of interest, group all the other deseases in 'No infecciosas' and add the respiratory deseases."
   ]
  },
  {
   "cell_type": "code",
   "execution_count": 7,
   "metadata": {
    "execution": {
     "iopub.execute_input": "2020-12-12T23:31:08.814065Z",
     "iopub.status.busy": "2020-12-12T23:31:08.813912Z",
     "iopub.status.idle": "2020-12-12T23:31:09.201157Z",
     "shell.execute_reply": "2020-12-12T23:31:09.200530Z",
     "shell.execute_reply.started": "2020-12-12T23:31:08.814049Z"
    }
   },
   "outputs": [],
   "source": [
    "# Cathegorical Variable: 'Infecciosas'\n",
    "df2['Infecciosas']=np.where(df2.CAU_HOMOL.str.isnumeric(),0,1)\n",
    "\n",
    "#ADD cause 62 with probably acute respiratory infection\n",
    "df2.loc[df2.CAU_HOMOL=='62','CAU_HOMOL']='Respiratorias'\n",
    "\n",
    "# Cathegorical Variable: 'Infecciosas2' (includes respiratory)\n",
    "df2['Infecciosas2']=np.where(df2.CAU_HOMOL.str.isnumeric(),0,1)\n",
    "\n",
    "#Others are not infectious deseases\n",
    "df2.loc[df2.CAU_HOMOL.str.isnumeric(),'CAU_HOMOL']='No Infecciosas'\n",
    "\n",
    "#Infectious deseases for the analysis\n",
    "df2['Infecciosas3']=np.where(df2.CAU_HOMOL.isin(['Ciertas enfermedades transmitidas por vectores y rabia','Respiratorias']),1,0)"
   ]
  },
  {
   "cell_type": "code",
   "execution_count": 8,
   "metadata": {
    "execution": {
     "iopub.execute_input": "2020-12-12T23:31:09.201885Z",
     "iopub.status.busy": "2020-12-12T23:31:09.201765Z",
     "iopub.status.idle": "2020-12-12T23:31:09.443948Z",
     "shell.execute_reply": "2020-12-12T23:31:09.443368Z",
     "shell.execute_reply.started": "2020-12-12T23:31:09.201870Z"
    }
   },
   "outputs": [
    {
     "name": "stdout",
     "output_type": "stream",
     "text": [
      "Dpto :\n",
      " ['Putumayo' 'Antioquia' 'Cauca' 'Boyaca' 'Nariño' 'Cordoba' 'Cundinamarca'\n",
      " 'Valle del Cauca' 'Caldas' 'Sucre' 'Quindio' 'Bogotá' 'Cesar' 'Tolima'\n",
      " 'Huila' 'Magdalena' 'Bolivar' 'Atlántico' 'Santander' 'Casanare'\n",
      " 'Norte de Santander' 'Risaralda' 'Arauca' 'Meta' 'Caqueta' 'La guajira'\n",
      " 'Choco' 'Guainía' 'Guaviare'\n",
      " 'Archipiélago de San Andrés, Providencia y Santa Catalina' 'Vichada'\n",
      " 'Amazonas' 'Vaupés']\n",
      "A_DEFUN :\n",
      " ['Cabecera municipal' 'Rural disperso'\n",
      " 'Centro poblado (Inspección, corregimiento o caserío)' 'Sin información']\n",
      "SIT_DEFUN :\n",
      " ['Hospital/clínica' 'Vía pública' 'Casa /domicilio' 'Otro'\n",
      " 'Lugar de trabajo' 'Centro /puesto de salud' 'Sin información']\n",
      "ANO :\n",
      " [2017 2018]\n",
      "MES :\n",
      " ['Enero' 'Febrero' 'Marzo' 'Abril' 'Mayo' 'Junio' 'Julio' 'Agosto'\n",
      " 'Septiembre' 'Noviembre' 'Octubre' 'Diciembre']\n",
      "SEXO :\n",
      " ['Masculino' 'Femenino' 'Indeterminado']\n",
      "GRU_ED1 :\n",
      " ['De 50 a 54 años' 'De 25 a 29 años' 'De 35 a 39 años' 'De 45 a 49 años'\n",
      " 'De 30 a 34 años' 'De 75 a 79 años' 'De 90 a 94 años' 'De 65 a 69 años'\n",
      " 'De 15 a 19 años' 'De 40 a 44 años' 'De 80 a 84 años' 'De 60 a 64 años'\n",
      " 'De 55 a 59 años' 'De 95 a 99 años' 'De 85 a 89 años' 'De 70 a 74 años'\n",
      " 'De 100 años y más' 'De 20 a 24 años' 'De 2 a 4 años' 'De 5 a 9 años'\n",
      " 'De 1 año' 'De 10 a 14 años' 'Edad desconocida' 'De 1 a 6 días'\n",
      " 'Menor de un día' 'De 7 a 27 días' 'De 1 a 5 meses' 'De 28 a 29 días'\n",
      " 'Menor de una hora' 'De 6 a 11 meses']\n",
      "GRU_ED2 :\n",
      " ['De 45 a 64 años' 'De 15 a 44 años' 'De 65 y mas años' 'De 1 a 4 años'\n",
      " 'De 5 a 14 años' 'Edad desconocida' 'Menor de 1 año']\n",
      "MUERTEPORO :\n",
      " ['2' nan '1' '9']\n",
      "IDPERTET :\n",
      " ['Ninguno de las anteriores'\n",
      " 'Negro(a), mulato(a), afrocolombiano(a) o afrodescendiente' 'Indígena'\n",
      " 'Palenquero de San Basilio'\n",
      " 'Raizal del archipielago de San Andres y Providencia' 'Rom (Gitano)'\n",
      " 'Sin infornmación']\n",
      "SEG_SOCIAL :\n",
      " ['Subsidiado' 'Contributivo' 'Excepción' 'No asegurado' 'Especial'\n",
      " 'Sin información']\n",
      "PMAN_MUER :\n",
      " ['Violenta' 'Natural' 'En estudio']\n",
      "CONS_EXP :\n",
      " ['Médico legista' 'Médico tratante' 'Personal de salud autorizado'\n",
      " 'Médico no tratante' 'Funcionario del registro  civil']\n",
      "CAU_HOMOL :\n",
      " ['No Infecciosas' 'Enfermedad por el VIH (SIDA) ' 'Respiratorias'\n",
      " 'Septicemia, excepto neonatal '\n",
      " 'Todas las demás enfermedades infecciosas y parasitarias '\n",
      " 'Tuberculosis y secuelas ' 'Enfermedades infecciosas intestinales '\n",
      " 'Todas las demás enfermedades bacterianas '\n",
      " 'Ciertas enfermedades transmitidas por vectores y rabia'\n",
      " 'Hepatitis viral y secuelas ' 'Sífilis y otras enfermedades venéreas '\n",
      " 'Ciertas enfermedades inmunoprevenibles ']\n",
      "Infecciosas :\n",
      " [0 1]\n",
      "Infecciosas2 :\n",
      " [0 1]\n",
      "Infecciosas3 :\n",
      " [0 1]\n"
     ]
    }
   ],
   "source": [
    "#Check information\n",
    "for i in df2.columns:\n",
    "    print(i,\":\\n\",df2[i].unique())"
   ]
  },
  {
   "cell_type": "markdown",
   "metadata": {},
   "source": [
    "##### Null values"
   ]
  },
  {
   "cell_type": "code",
   "execution_count": 9,
   "metadata": {
    "execution": {
     "iopub.execute_input": "2020-12-12T23:31:09.446185Z",
     "iopub.status.busy": "2020-12-12T23:31:09.446059Z",
     "iopub.status.idle": "2020-12-12T23:31:09.643496Z",
     "shell.execute_reply": "2020-12-12T23:31:09.642873Z",
     "shell.execute_reply.started": "2020-12-12T23:31:09.446170Z"
    }
   },
   "outputs": [
    {
     "data": {
      "text/plain": [
       "Dpto                0\n",
       "A_DEFUN             0\n",
       "SIT_DEFUN           0\n",
       "ANO                 0\n",
       "MES                 0\n",
       "SEXO                0\n",
       "GRU_ED1             0\n",
       "GRU_ED2             0\n",
       "MUERTEPORO      17481\n",
       "IDPERTET            0\n",
       "SEG_SOCIAL          0\n",
       "PMAN_MUER           0\n",
       "CONS_EXP            0\n",
       "CAU_HOMOL           0\n",
       "Infecciosas         0\n",
       "Infecciosas2        0\n",
       "Infecciosas3        0\n",
       "dtype: int64"
      ]
     },
     "execution_count": 9,
     "metadata": {},
     "output_type": "execute_result"
    }
   ],
   "source": [
    "df2.isnull().sum()"
   ]
  },
  {
   "cell_type": "code",
   "execution_count": 10,
   "metadata": {
    "execution": {
     "iopub.execute_input": "2020-12-12T23:31:09.644574Z",
     "iopub.status.busy": "2020-12-12T23:31:09.644450Z",
     "iopub.status.idle": "2020-12-12T23:31:09.859066Z",
     "shell.execute_reply": "2020-12-12T23:31:09.858479Z",
     "shell.execute_reply.started": "2020-12-12T23:31:09.644559Z"
    }
   },
   "outputs": [
    {
     "data": {
      "text/plain": [
       "Dpto            0\n",
       "A_DEFUN         0\n",
       "SIT_DEFUN       0\n",
       "ANO             0\n",
       "MES             0\n",
       "SEXO            0\n",
       "GRU_ED1         0\n",
       "GRU_ED2         0\n",
       "MUERTEPORO      0\n",
       "IDPERTET        0\n",
       "SEG_SOCIAL      0\n",
       "PMAN_MUER       0\n",
       "CONS_EXP        0\n",
       "CAU_HOMOL       0\n",
       "Infecciosas     0\n",
       "Infecciosas2    0\n",
       "Infecciosas3    0\n",
       "dtype: int64"
      ]
     },
     "execution_count": 10,
     "metadata": {},
     "output_type": "execute_result"
    }
   ],
   "source": [
    "# Change null values\n",
    "df2.MUERTEPORO.fillna(9,inplace=True) #9 :sin información\n",
    "df2.isna().sum()"
   ]
  },
  {
   "cell_type": "markdown",
   "metadata": {},
   "source": [
    "#### Plot Infectious Desease per Year"
   ]
  },
  {
   "cell_type": "markdown",
   "metadata": {},
   "source": [
    "Plot death toll in total by infectious deseases.\n"
   ]
  },
  {
   "cell_type": "code",
   "execution_count": 11,
   "metadata": {
    "execution": {
     "iopub.execute_input": "2020-12-12T23:31:09.859824Z",
     "iopub.status.busy": "2020-12-12T23:31:09.859703Z",
     "iopub.status.idle": "2020-12-12T23:31:10.058638Z",
     "shell.execute_reply": "2020-12-12T23:31:10.058032Z",
     "shell.execute_reply.started": "2020-12-12T23:31:09.859809Z"
    }
   },
   "outputs": [
    {
     "data": {
      "image/png": "[encoded data removed]",
      "text/plain": [
       "<Figure size 720x720 with 1 Axes>"
      ]
     },
     "metadata": {
      "needs_background": "light"
     },
     "output_type": "display_data"
    }
   ],
   "source": [
    "temp=df2[df2.Infecciosas2==1][['CAU_HOMOL','ANO','MES']].rename(columns={'MES':'N'})\\\n",
    ".groupby(['CAU_HOMOL','ANO']).count().reset_index().sort_values(by=['N'],ascending=False)\n",
    "fig = plt.figure(figsize=(10,10))\n",
    "sns.barplot(data=temp, x=\"N\", y=\"CAU_HOMOL\",hue=\"ANO\")\n",
    "plt.legend(loc='lower right')\n",
    "plt.title('Death Toll per Year by Desease (Infectious deseases and respiratory)');"
   ]
  },
  {
   "cell_type": "markdown",
   "metadata": {},
   "source": [
    "##### Time series plot of monthly deaths by desease"
   ]
  },
  {
   "cell_type": "code",
   "execution_count": 12,
   "metadata": {
    "execution": {
     "iopub.execute_input": "2020-12-12T23:31:10.059474Z",
     "iopub.status.busy": "2020-12-12T23:31:10.059344Z",
     "iopub.status.idle": "2020-12-12T23:31:10.216071Z",
     "shell.execute_reply": "2020-12-12T23:31:10.215448Z",
     "shell.execute_reply.started": "2020-12-12T23:31:10.059459Z"
    }
   },
   "outputs": [
    {
     "data": {
      "image/png": "[encoded data removed]",
      "text/plain": [
       "<Figure size 720x720 with 1 Axes>"
      ]
     },
     "metadata": {
      "needs_background": "light"
     },
     "output_type": "display_data"
    }
   ],
   "source": [
    "#Plot of Desease Number by years\n",
    "df2[df2.Infecciosas3==1].reset_index().groupby(['FECHA','CAU_HOMOL']).count()['Dpto'].unstack('CAU_HOMOL').fillna(0)\\\n",
    ".plot.line(figsize=(10,10))\n",
    "plt.title('Time series of monthly deaths by desease');"
   ]
  },
  {
   "cell_type": "code",
   "execution_count": 13,
   "metadata": {
    "execution": {
     "iopub.execute_input": "2020-12-12T23:31:10.216802Z",
     "iopub.status.busy": "2020-12-12T23:31:10.216680Z",
     "iopub.status.idle": "2020-12-12T23:31:10.236694Z",
     "shell.execute_reply": "2020-12-12T23:31:10.236102Z",
     "shell.execute_reply.started": "2020-12-12T23:31:10.216787Z"
    }
   },
   "outputs": [
    {
     "data": {
      "text/html": [
       "<div>\n",
       "<style scoped>\n",
       "    .dataframe tbody tr th:only-of-type {\n",
       "        vertical-align: middle;\n",
       "    }\n",
       "\n",
       "    .dataframe tbody tr th {\n",
       "        vertical-align: top;\n",
       "    }\n",
       "\n",
       "    .dataframe thead th {\n",
       "        text-align: right;\n",
       "    }\n",
       "</style>\n",
       "<table border=\"1\" class=\"dataframe\">\n",
       "  <thead>\n",
       "    <tr style=\"text-align: right;\">\n",
       "      <th></th>\n",
       "      <th>Total</th>\n",
       "    </tr>\n",
       "    <tr>\n",
       "      <th>CAU_HOMOL</th>\n",
       "      <th></th>\n",
       "    </tr>\n",
       "  </thead>\n",
       "  <tbody>\n",
       "    <tr>\n",
       "      <th>Ciertas enfermedades transmitidas por vectores y rabia</th>\n",
       "      <td>324</td>\n",
       "    </tr>\n",
       "    <tr>\n",
       "      <th>Respiratorias</th>\n",
       "      <td>2562</td>\n",
       "    </tr>\n",
       "  </tbody>\n",
       "</table>\n",
       "</div>"
      ],
      "text/plain": [
       "                                                    Total\n",
       "CAU_HOMOL                                                \n",
       "Ciertas enfermedades transmitidas por vectores ...    324\n",
       "Respiratorias                                        2562"
      ]
     },
     "execution_count": 13,
     "metadata": {},
     "output_type": "execute_result"
    }
   ],
   "source": [
    "df3=df2[df2.Infecciosas3==1].reset_index().groupby(['FECHA','CAU_HOMOL']).count()['Dpto'].reset_index().fillna(0).rename(columns={'Dpto':'Total'})\n",
    "df3['AÑO']=df3['FECHA'].dt.year\n",
    "df3.groupby(['CAU_HOMOL','AÑO']).sum().groupby('CAU_HOMOL').mean()"
   ]
  },
  {
   "cell_type": "markdown",
   "metadata": {},
   "source": [
    "In the period from May to August of 2018 there is a peak of respiratory desease deaths. "
   ]
  },
  {
   "cell_type": "code",
   "execution_count": 14,
   "metadata": {
    "execution": {
     "iopub.execute_input": "2020-12-12T23:31:10.237453Z",
     "iopub.status.busy": "2020-12-12T23:31:10.237334Z",
     "iopub.status.idle": "2020-12-12T23:31:11.298107Z",
     "shell.execute_reply": "2020-12-12T23:31:11.297400Z",
     "shell.execute_reply.started": "2020-12-12T23:31:10.237438Z"
    },
    "scrolled": true
   },
   "outputs": [
    {
     "data": {
      "image/png": "[encoded data removed]",
      "text/plain": [
       "<Figure size 781.5x720 with 2 Axes>"
      ]
     },
     "metadata": {
      "needs_background": "light"
     },
     "output_type": "display_data"
    }
   ],
   "source": [
    "temp=df2[df2.Infecciosas3==1][['CAU_HOMOL','ANO','MES','Dpto']].rename(columns={'MES':'N'})\\\n",
    ".groupby(['Dpto','ANO','CAU_HOMOL']).agg({'N':'count'}).reset_index().sort_values(by=['CAU_HOMOL','N'], ascending= False)\n",
    "\n",
    "g = sns.catplot(data=temp, x='N', y='Dpto', hue='ANO', row='CAU_HOMOL',\n",
    "                kind='bar', sharex=False, sharey= False, height=5, aspect=2);"
   ]
  },
  {
   "cell_type": "markdown",
   "metadata": {},
   "source": [
    "## Demographic Information "
   ]
  },
  {
   "cell_type": "code",
   "execution_count": 15,
   "metadata": {
    "execution": {
     "iopub.execute_input": "2020-12-12T23:31:11.298958Z",
     "iopub.status.busy": "2020-12-12T23:31:11.298828Z",
     "iopub.status.idle": "2020-12-12T23:31:11.318350Z",
     "shell.execute_reply": "2020-12-12T23:31:11.317670Z",
     "shell.execute_reply.started": "2020-12-12T23:31:11.298941Z"
    }
   },
   "outputs": [
    {
     "data": {
      "text/html": [
       "<div>\n",
       "<style scoped>\n",
       "    .dataframe tbody tr th:only-of-type {\n",
       "        vertical-align: middle;\n",
       "    }\n",
       "\n",
       "    .dataframe tbody tr th {\n",
       "        vertical-align: top;\n",
       "    }\n",
       "\n",
       "    .dataframe thead th {\n",
       "        text-align: right;\n",
       "    }\n",
       "</style>\n",
       "<table border=\"1\" class=\"dataframe\">\n",
       "  <thead>\n",
       "    <tr style=\"text-align: right;\">\n",
       "      <th></th>\n",
       "      <th>DP</th>\n",
       "      <th>DPNOM</th>\n",
       "      <th>AÑO</th>\n",
       "      <th>ÁREA GEOGRÁFICA</th>\n",
       "      <th>Hombres_0</th>\n",
       "      <th>Hombres_1</th>\n",
       "      <th>Hombres_2</th>\n",
       "      <th>Hombres_3</th>\n",
       "      <th>Hombres_4</th>\n",
       "      <th>Hombres_5</th>\n",
       "      <th>...</th>\n",
       "      <th>Total_94</th>\n",
       "      <th>Total_95</th>\n",
       "      <th>Total_96</th>\n",
       "      <th>Total_97</th>\n",
       "      <th>Total_98</th>\n",
       "      <th>Total_99</th>\n",
       "      <th>Total_100 y más</th>\n",
       "      <th>Total Hombres</th>\n",
       "      <th>Total Mujeres</th>\n",
       "      <th>Total</th>\n",
       "    </tr>\n",
       "  </thead>\n",
       "  <tbody>\n",
       "    <tr>\n",
       "      <th>0</th>\n",
       "      <td>5</td>\n",
       "      <td>Antioquia</td>\n",
       "      <td>2018</td>\n",
       "      <td>Cabecera Municipal</td>\n",
       "      <td>31398</td>\n",
       "      <td>31674</td>\n",
       "      <td>31916</td>\n",
       "      <td>32172</td>\n",
       "      <td>32460</td>\n",
       "      <td>32748</td>\n",
       "      <td>...</td>\n",
       "      <td>1766</td>\n",
       "      <td>1456</td>\n",
       "      <td>1168</td>\n",
       "      <td>1075</td>\n",
       "      <td>998</td>\n",
       "      <td>1103</td>\n",
       "      <td>2734</td>\n",
       "      <td>2351655</td>\n",
       "      <td>2621286</td>\n",
       "      <td>4972941</td>\n",
       "    </tr>\n",
       "    <tr>\n",
       "      <th>1</th>\n",
       "      <td>5</td>\n",
       "      <td>Antioquia</td>\n",
       "      <td>2018</td>\n",
       "      <td>Centros Poblados y Rural Disperso</td>\n",
       "      <td>14488</td>\n",
       "      <td>14314</td>\n",
       "      <td>14164</td>\n",
       "      <td>14027</td>\n",
       "      <td>13878</td>\n",
       "      <td>13742</td>\n",
       "      <td>...</td>\n",
       "      <td>477</td>\n",
       "      <td>360</td>\n",
       "      <td>308</td>\n",
       "      <td>273</td>\n",
       "      <td>217</td>\n",
       "      <td>276</td>\n",
       "      <td>524</td>\n",
       "      <td>742504</td>\n",
       "      <td>691657</td>\n",
       "      <td>1434161</td>\n",
       "    </tr>\n",
       "    <tr>\n",
       "      <th>2</th>\n",
       "      <td>5</td>\n",
       "      <td>Antioquia</td>\n",
       "      <td>2018</td>\n",
       "      <td>Total</td>\n",
       "      <td>45886</td>\n",
       "      <td>45988</td>\n",
       "      <td>46080</td>\n",
       "      <td>46199</td>\n",
       "      <td>46338</td>\n",
       "      <td>46490</td>\n",
       "      <td>...</td>\n",
       "      <td>2243</td>\n",
       "      <td>1816</td>\n",
       "      <td>1476</td>\n",
       "      <td>1348</td>\n",
       "      <td>1215</td>\n",
       "      <td>1379</td>\n",
       "      <td>3258</td>\n",
       "      <td>3094159</td>\n",
       "      <td>3312943</td>\n",
       "      <td>6407102</td>\n",
       "    </tr>\n",
       "    <tr>\n",
       "      <th>3</th>\n",
       "      <td>5</td>\n",
       "      <td>Antioquia</td>\n",
       "      <td>2019</td>\n",
       "      <td>Cabecera Municipal</td>\n",
       "      <td>32581</td>\n",
       "      <td>32652</td>\n",
       "      <td>32860</td>\n",
       "      <td>33074</td>\n",
       "      <td>33261</td>\n",
       "      <td>33471</td>\n",
       "      <td>...</td>\n",
       "      <td>1881</td>\n",
       "      <td>1571</td>\n",
       "      <td>1279</td>\n",
       "      <td>1028</td>\n",
       "      <td>987</td>\n",
       "      <td>949</td>\n",
       "      <td>2905</td>\n",
       "      <td>2430652</td>\n",
       "      <td>2703086</td>\n",
       "      <td>5133738</td>\n",
       "    </tr>\n",
       "    <tr>\n",
       "      <th>4</th>\n",
       "      <td>5</td>\n",
       "      <td>Antioquia</td>\n",
       "      <td>2019</td>\n",
       "      <td>Centros Poblados y Rural Disperso</td>\n",
       "      <td>14220</td>\n",
       "      <td>14033</td>\n",
       "      <td>13938</td>\n",
       "      <td>13829</td>\n",
       "      <td>13711</td>\n",
       "      <td>13603</td>\n",
       "      <td>...</td>\n",
       "      <td>449</td>\n",
       "      <td>380</td>\n",
       "      <td>288</td>\n",
       "      <td>260</td>\n",
       "      <td>188</td>\n",
       "      <td>258</td>\n",
       "      <td>472</td>\n",
       "      <td>734351</td>\n",
       "      <td>682117</td>\n",
       "      <td>1416468</td>\n",
       "    </tr>\n",
       "    <tr>\n",
       "      <th>...</th>\n",
       "      <td>...</td>\n",
       "      <td>...</td>\n",
       "      <td>...</td>\n",
       "      <td>...</td>\n",
       "      <td>...</td>\n",
       "      <td>...</td>\n",
       "      <td>...</td>\n",
       "      <td>...</td>\n",
       "      <td>...</td>\n",
       "      <td>...</td>\n",
       "      <td>...</td>\n",
       "      <td>...</td>\n",
       "      <td>...</td>\n",
       "      <td>...</td>\n",
       "      <td>...</td>\n",
       "      <td>...</td>\n",
       "      <td>...</td>\n",
       "      <td>...</td>\n",
       "      <td>...</td>\n",
       "      <td>...</td>\n",
       "      <td>...</td>\n",
       "    </tr>\n",
       "    <tr>\n",
       "      <th>3262</th>\n",
       "      <td>99</td>\n",
       "      <td>Vichada</td>\n",
       "      <td>2049</td>\n",
       "      <td>Centros Poblados y Rural Disperso</td>\n",
       "      <td>1251</td>\n",
       "      <td>1240</td>\n",
       "      <td>1233</td>\n",
       "      <td>1227</td>\n",
       "      <td>1225</td>\n",
       "      <td>1218</td>\n",
       "      <td>...</td>\n",
       "      <td>18</td>\n",
       "      <td>16</td>\n",
       "      <td>10</td>\n",
       "      <td>9</td>\n",
       "      <td>5</td>\n",
       "      <td>4</td>\n",
       "      <td>5</td>\n",
       "      <td>67013</td>\n",
       "      <td>61660</td>\n",
       "      <td>128673</td>\n",
       "    </tr>\n",
       "    <tr>\n",
       "      <th>3263</th>\n",
       "      <td>99</td>\n",
       "      <td>Vichada</td>\n",
       "      <td>2049</td>\n",
       "      <td>Total</td>\n",
       "      <td>1407</td>\n",
       "      <td>1402</td>\n",
       "      <td>1397</td>\n",
       "      <td>1397</td>\n",
       "      <td>1397</td>\n",
       "      <td>1394</td>\n",
       "      <td>...</td>\n",
       "      <td>27</td>\n",
       "      <td>21</td>\n",
       "      <td>15</td>\n",
       "      <td>10</td>\n",
       "      <td>9</td>\n",
       "      <td>8</td>\n",
       "      <td>5</td>\n",
       "      <td>81420</td>\n",
       "      <td>75604</td>\n",
       "      <td>157024</td>\n",
       "    </tr>\n",
       "    <tr>\n",
       "      <th>3264</th>\n",
       "      <td>99</td>\n",
       "      <td>Vichada</td>\n",
       "      <td>2050</td>\n",
       "      <td>Cabecera Municipal</td>\n",
       "      <td>154</td>\n",
       "      <td>159</td>\n",
       "      <td>164</td>\n",
       "      <td>166</td>\n",
       "      <td>173</td>\n",
       "      <td>174</td>\n",
       "      <td>...</td>\n",
       "      <td>8</td>\n",
       "      <td>8</td>\n",
       "      <td>4</td>\n",
       "      <td>4</td>\n",
       "      <td>1</td>\n",
       "      <td>4</td>\n",
       "      <td>2</td>\n",
       "      <td>14384</td>\n",
       "      <td>13898</td>\n",
       "      <td>28282</td>\n",
       "    </tr>\n",
       "    <tr>\n",
       "      <th>3265</th>\n",
       "      <td>99</td>\n",
       "      <td>Vichada</td>\n",
       "      <td>2050</td>\n",
       "      <td>Centros Poblados y Rural Disperso</td>\n",
       "      <td>1252</td>\n",
       "      <td>1242</td>\n",
       "      <td>1234</td>\n",
       "      <td>1229</td>\n",
       "      <td>1223</td>\n",
       "      <td>1224</td>\n",
       "      <td>...</td>\n",
       "      <td>22</td>\n",
       "      <td>15</td>\n",
       "      <td>12</td>\n",
       "      <td>8</td>\n",
       "      <td>6</td>\n",
       "      <td>5</td>\n",
       "      <td>6</td>\n",
       "      <td>67745</td>\n",
       "      <td>62357</td>\n",
       "      <td>130102</td>\n",
       "    </tr>\n",
       "    <tr>\n",
       "      <th>3266</th>\n",
       "      <td>99</td>\n",
       "      <td>Vichada</td>\n",
       "      <td>2050</td>\n",
       "      <td>Total</td>\n",
       "      <td>1406</td>\n",
       "      <td>1401</td>\n",
       "      <td>1398</td>\n",
       "      <td>1395</td>\n",
       "      <td>1396</td>\n",
       "      <td>1398</td>\n",
       "      <td>...</td>\n",
       "      <td>30</td>\n",
       "      <td>23</td>\n",
       "      <td>16</td>\n",
       "      <td>12</td>\n",
       "      <td>7</td>\n",
       "      <td>9</td>\n",
       "      <td>8</td>\n",
       "      <td>82129</td>\n",
       "      <td>76255</td>\n",
       "      <td>158384</td>\n",
       "    </tr>\n",
       "  </tbody>\n",
       "</table>\n",
       "<p>3267 rows × 310 columns</p>\n",
       "</div>"
      ],
      "text/plain": [
       "      DP      DPNOM   AÑO                    ÁREA GEOGRÁFICA  Hombres_0  \\\n",
       "0      5  Antioquia  2018                 Cabecera Municipal      31398   \n",
       "1      5  Antioquia  2018  Centros Poblados y Rural Disperso      14488   \n",
       "2      5  Antioquia  2018                              Total      45886   \n",
       "3      5  Antioquia  2019                 Cabecera Municipal      32581   \n",
       "4      5  Antioquia  2019  Centros Poblados y Rural Disperso      14220   \n",
       "...   ..        ...   ...                                ...        ...   \n",
       "3262  99    Vichada  2049  Centros Poblados y Rural Disperso       1251   \n",
       "3263  99    Vichada  2049                              Total       1407   \n",
       "3264  99    Vichada  2050                 Cabecera Municipal        154   \n",
       "3265  99    Vichada  2050  Centros Poblados y Rural Disperso       1252   \n",
       "3266  99    Vichada  2050                              Total       1406   \n",
       "\n",
       "      Hombres_1  Hombres_2  Hombres_3  Hombres_4  Hombres_5  ...  Total_94  \\\n",
       "0         31674      31916      32172      32460      32748  ...      1766   \n",
       "1         14314      14164      14027      13878      13742  ...       477   \n",
       "2         45988      46080      46199      46338      46490  ...      2243   \n",
       "3         32652      32860      33074      33261      33471  ...      1881   \n",
       "4         14033      13938      13829      13711      13603  ...       449   \n",
       "...         ...        ...        ...        ...        ...  ...       ...   \n",
       "3262       1240       1233       1227       1225       1218  ...        18   \n",
       "3263       1402       1397       1397       1397       1394  ...        27   \n",
       "3264        159        164        166        173        174  ...         8   \n",
       "3265       1242       1234       1229       1223       1224  ...        22   \n",
       "3266       1401       1398       1395       1396       1398  ...        30   \n",
       "\n",
       "      Total_95  Total_96  Total_97  Total_98  Total_99  Total_100 y más  \\\n",
       "0         1456      1168      1075       998      1103             2734   \n",
       "1          360       308       273       217       276              524   \n",
       "2         1816      1476      1348      1215      1379             3258   \n",
       "3         1571      1279      1028       987       949             2905   \n",
       "4          380       288       260       188       258              472   \n",
       "...        ...       ...       ...       ...       ...              ...   \n",
       "3262        16        10         9         5         4                5   \n",
       "3263        21        15        10         9         8                5   \n",
       "3264         8         4         4         1         4                2   \n",
       "3265        15        12         8         6         5                6   \n",
       "3266        23        16        12         7         9                8   \n",
       "\n",
       "      Total Hombres  Total Mujeres    Total  \n",
       "0           2351655        2621286  4972941  \n",
       "1            742504         691657  1434161  \n",
       "2           3094159        3312943  6407102  \n",
       "3           2430652        2703086  5133738  \n",
       "4            734351         682117  1416468  \n",
       "...             ...            ...      ...  \n",
       "3262          67013          61660   128673  \n",
       "3263          81420          75604   157024  \n",
       "3264          14384          13898    28282  \n",
       "3265          67745          62357   130102  \n",
       "3266          82129          76255   158384  \n",
       "\n",
       "[3267 rows x 310 columns]"
      ]
     },
     "execution_count": 15,
     "metadata": {},
     "output_type": "execute_result"
    }
   ],
   "source": [
    "dfdem2=dfdem[['Total Hombres','Total Mujeres','Total']]\n",
    "dfdem"
   ]
  },
  {
   "cell_type": "code",
   "execution_count": 16,
   "metadata": {
    "execution": {
     "iopub.execute_input": "2020-12-12T23:31:11.319385Z",
     "iopub.status.busy": "2020-12-12T23:31:11.319190Z",
     "iopub.status.idle": "2020-12-12T23:31:11.322622Z",
     "shell.execute_reply": "2020-12-12T23:31:11.321851Z",
     "shell.execute_reply.started": "2020-12-12T23:31:11.319364Z"
    }
   },
   "outputs": [],
   "source": [
    "# n18=pd.read_csv(\"Data/nac2018/nac2018.csv\", sep=\";\")"
   ]
  },
  {
   "cell_type": "code",
   "execution_count": 17,
   "metadata": {
    "execution": {
     "iopub.execute_input": "2020-12-12T23:31:11.323344Z",
     "iopub.status.busy": "2020-12-12T23:31:11.323223Z",
     "iopub.status.idle": "2020-12-12T23:31:11.333987Z",
     "shell.execute_reply": "2020-12-12T23:31:11.333364Z",
     "shell.execute_reply.started": "2020-12-12T23:31:11.323328Z"
    }
   },
   "outputs": [],
   "source": [
    "# Deptos={ 5:' Antioquia', 8: ' Atlántico', 11: ' Bogotá', 13: ' Bolivar', 15: ' Boyaca', 17: 'Caldas', 18: ' Caqueta', 19: 'Cauca', 20: ' Cesar', 23: ' Cordoba', 25: 'Cundinamarca', 27: ' Choco', 41: ' Huila', 44: ' La guajira', 47: ' Magdalena', 50: ' Meta', 52: ' Nariño', 54: ' Norte de Santander', 63: ' Quindio', 66: ' Risaralda', 68: ' Santander', 70: ' Sucre', 73: ' Tolima', 76: ' Valle del Cauca', 81: ' Arauca', 85: ' Casanare', 86: ' Putumayo', 88: ' Archipiélago de San Andrés, Providencia y Santa Catalina', 91: ' Amazonas', 94: ' Guainía', 95: ' Guaviare', 97: ' Vaupés', 99: ' Vichada'}\n",
    "# n18['Dpto']=n18['COD_DPTO'].replace(Deptos)\n",
    "# n18"
   ]
  },
  {
   "cell_type": "code",
   "execution_count": 18,
   "metadata": {
    "execution": {
     "iopub.execute_input": "2020-12-12T23:31:11.334780Z",
     "iopub.status.busy": "2020-12-12T23:31:11.334655Z",
     "iopub.status.idle": "2020-12-12T23:31:11.366078Z",
     "shell.execute_reply": "2020-12-12T23:31:11.365415Z",
     "shell.execute_reply.started": "2020-12-12T23:31:11.334765Z"
    }
   },
   "outputs": [
    {
     "name": "stdout",
     "output_type": "stream",
     "text": [
      "Demog:\n",
      " ['Antioquia' 'Atlántico' 'Bogotá, D.C.' 'Bolívar' 'Boyacá' 'Caldas'\n",
      " 'Caquetá' 'Cauca' 'Cesar' 'Córdoba' 'Cundinamarca' 'Chocó' 'Huila'\n",
      " 'La Guajira' 'Magdalena' 'Meta' 'Nariño' 'Norte de Santander' 'Quindio'\n",
      " 'Quindío' 'Risaralda' 'Santander' 'Sucre' 'Tolima' 'Valle del Cauca'\n",
      " 'Arauca' 'Casanare' 'Putumayo' 'Archipiélago de San Andrés'\n",
      " 'Archipiélago de San Andrés, Providencia y Santa Catalina' 'Amazonas'\n",
      " 'Guainía' 'Guaviare' 'Vaupés' 'Vichada']\n",
      "Nofetal:\n",
      " ['Putumayo' 'Antioquia' 'Cauca' 'Boyaca' 'Nariño' 'Cordoba' 'Cundinamarca'\n",
      " 'Valle del Cauca' 'Caldas' 'Sucre' 'Quindio' 'Bogotá' 'Cesar' 'Tolima'\n",
      " 'Huila' 'Magdalena' 'Bolivar' 'Atlántico' 'Santander' 'Casanare'\n",
      " 'Norte de Santander' 'Risaralda' 'Arauca' 'Meta' 'Caqueta' 'La guajira'\n",
      " 'Choco' 'Guainía' 'Guaviare'\n",
      " 'Archipiélago de San Andrés, Providencia y Santa Catalina' 'Vichada'\n",
      " 'Amazonas' 'Vaupés']\n"
     ]
    }
   ],
   "source": [
    "print('Demog:\\n',dfdem.DPNOM.unique())\n",
    "# print('Nac18:\\n',n18.Dpto.unique())\n",
    "print('Nofetal:\\n',df2.Dpto.unique())"
   ]
  },
  {
   "cell_type": "code",
   "execution_count": 19,
   "metadata": {
    "execution": {
     "iopub.execute_input": "2020-12-12T23:31:11.366852Z",
     "iopub.status.busy": "2020-12-12T23:31:11.366723Z",
     "iopub.status.idle": "2020-12-12T23:31:11.369649Z",
     "shell.execute_reply": "2020-12-12T23:31:11.368999Z",
     "shell.execute_reply.started": "2020-12-12T23:31:11.366836Z"
    }
   },
   "outputs": [],
   "source": [
    "# n18.Dpto=n18.Dpto.str.strip()\n",
    "# n18.Dpto.unique()"
   ]
  },
  {
   "cell_type": "code",
   "execution_count": 20,
   "metadata": {
    "execution": {
     "iopub.execute_input": "2020-12-12T23:31:11.370578Z",
     "iopub.status.busy": "2020-12-12T23:31:11.370377Z",
     "iopub.status.idle": "2020-12-12T23:31:11.381199Z",
     "shell.execute_reply": "2020-12-12T23:31:11.380468Z",
     "shell.execute_reply.started": "2020-12-12T23:31:11.370556Z"
    }
   },
   "outputs": [],
   "source": [
    "# import unicodedata\n",
    "# def strip_accents(s):\n",
    "#    return ''.join(c for c in unicodedata.normalize('NFD', s)\n",
    "#                   if unicodedata.category(c) != 'Mn')"
   ]
  },
  {
   "cell_type": "code",
   "execution_count": 21,
   "metadata": {
    "execution": {
     "iopub.execute_input": "2020-12-12T23:31:11.382098Z",
     "iopub.status.busy": "2020-12-12T23:31:11.381941Z",
     "iopub.status.idle": "2020-12-12T23:31:11.392848Z",
     "shell.execute_reply": "2020-12-12T23:31:11.392247Z",
     "shell.execute_reply.started": "2020-12-12T23:31:11.382081Z"
    }
   },
   "outputs": [],
   "source": [
    "# n18.Dpto=n18.Dpto.apply(strip_accents)\n",
    "# dfdem.DPNOM=dfdem.DPNOM.apply(strip_accents)\n",
    "# df2.Dpto=df2.Dpto.apply(strip_accents)"
   ]
  },
  {
   "cell_type": "code",
   "execution_count": 22,
   "metadata": {
    "execution": {
     "iopub.execute_input": "2020-12-12T23:31:11.393652Z",
     "iopub.status.busy": "2020-12-12T23:31:11.393532Z",
     "iopub.status.idle": "2020-12-12T23:31:11.408616Z",
     "shell.execute_reply": "2020-12-12T23:31:11.408015Z",
     "shell.execute_reply.started": "2020-12-12T23:31:11.393637Z"
    }
   },
   "outputs": [
    {
     "data": {
      "text/plain": [
       "array(['Antioquia', 'Atlántico', 'Bogotá, D.C.', 'Bolívar', 'Boyacá',\n",
       "       'Caldas', 'Caquetá', 'Cauca', 'Cesar', 'Córdoba', 'Cundinamarca',\n",
       "       'Chocó', 'Huila', 'La Guajira', 'Magdalena', 'Meta', 'Nariño',\n",
       "       'Norte de Santander', 'Quindio', 'Quindío', 'Risaralda',\n",
       "       'Santander', 'Sucre', 'Tolima', 'Valle del Cauca', 'Arauca',\n",
       "       'Casanare', 'Putumayo', 'Archipiélago de San Andrés',\n",
       "       'San Andrés y Providencia', 'Amazonas', 'Guainía', 'Guaviare',\n",
       "       'Vaupés', 'Vichada'], dtype=object)"
      ]
     },
     "execution_count": 22,
     "metadata": {},
     "output_type": "execute_result"
    }
   ],
   "source": [
    "dfdem.DPNOM=dfdem.DPNOM.replace({'Archipiélago de San Andrés, Providencia y Santa Catalina':'San Andrés y Providencia'})\n",
    "dfdem.DPNOM.unique()"
   ]
  },
  {
   "cell_type": "code",
   "execution_count": 23,
   "metadata": {
    "execution": {
     "iopub.execute_input": "2020-12-12T23:31:11.409632Z",
     "iopub.status.busy": "2020-12-12T23:31:11.409458Z",
     "iopub.status.idle": "2020-12-12T23:31:11.438029Z",
     "shell.execute_reply": "2020-12-12T23:31:11.437240Z",
     "shell.execute_reply.started": "2020-12-12T23:31:11.409615Z"
    }
   },
   "outputs": [
    {
     "data": {
      "text/plain": [
       "array(['No Infecciosas', 'Enfermedad por el VIH (SIDA) ', 'Respiratorias',\n",
       "       'Septicemia, excepto neonatal ',\n",
       "       'Todas las demás enfermedades infecciosas y parasitarias ',\n",
       "       'Tuberculosis y secuelas ',\n",
       "       'Enfermedades infecciosas intestinales ',\n",
       "       'Todas las demás enfermedades bacterianas ',\n",
       "       'Ciertas enfermedades transmitidas por vectores y rabia',\n",
       "       'Hepatitis viral y secuelas ',\n",
       "       'Sífilis y otras enfermedades venéreas ',\n",
       "       'Ciertas enfermedades inmunoprevenibles '], dtype=object)"
      ]
     },
     "execution_count": 23,
     "metadata": {},
     "output_type": "execute_result"
    }
   ],
   "source": [
    "df2.CAU_HOMOL.unique()"
   ]
  },
  {
   "cell_type": "code",
   "execution_count": 24,
   "metadata": {
    "execution": {
     "iopub.execute_input": "2020-12-12T23:31:11.439202Z",
     "iopub.status.busy": "2020-12-12T23:31:11.439005Z",
     "iopub.status.idle": "2020-12-12T23:31:11.465588Z",
     "shell.execute_reply": "2020-12-12T23:31:11.464554Z",
     "shell.execute_reply.started": "2020-12-12T23:31:11.439181Z"
    }
   },
   "outputs": [
    {
     "data": {
      "text/plain": [
       "array(['De 45 a 64 años', 'De 15 a 44 años', 'De 65 y mas años',\n",
       "       'De 1 a 4 años', 'De 5 a 14 años', 'Edad desconocida',\n",
       "       'Menor de 1 año'], dtype=object)"
      ]
     },
     "execution_count": 24,
     "metadata": {},
     "output_type": "execute_result"
    }
   ],
   "source": [
    "df2.GRU_ED2.unique()"
   ]
  },
  {
   "cell_type": "code",
   "execution_count": 25,
   "metadata": {
    "execution": {
     "iopub.execute_input": "2020-12-12T23:31:11.466531Z",
     "iopub.status.busy": "2020-12-12T23:31:11.466379Z",
     "iopub.status.idle": "2020-12-12T23:31:11.478672Z",
     "shell.execute_reply": "2020-12-12T23:31:11.477907Z",
     "shell.execute_reply.started": "2020-12-12T23:31:11.466496Z"
    }
   },
   "outputs": [],
   "source": [
    "df3=df2[['Dpto','SEXO','GRU_ED1']].reset_index()"
   ]
  },
  {
   "cell_type": "code",
   "execution_count": 26,
   "metadata": {
    "execution": {
     "iopub.execute_input": "2020-12-12T23:31:11.479725Z",
     "iopub.status.busy": "2020-12-12T23:31:11.479592Z",
     "iopub.status.idle": "2020-12-12T23:31:11.543987Z",
     "shell.execute_reply": "2020-12-12T23:31:11.543366Z",
     "shell.execute_reply.started": "2020-12-12T23:31:11.479710Z"
    }
   },
   "outputs": [],
   "source": [
    "g04=['Menor de una hora','Menor de un día', 'De 1 a 6 días','De 7 a 27 días','De 28 a 29 días',\n",
    "   'De 1 a 5 meses','De 6 a 11 meses','De 1 año', 'De 2 a 4 años']\n",
    "df3.loc[ df3.GRU_ED1.isin(g04),'GRU_ED1']='De 0 a 4 años'\n",
    "df3.GRU_ED1.unique()\n",
    "df3.Dpto=df3.Dpto.replace({'Archipiélago de San Andrés, Providencia y Santa Catalina':'San Andrés y Providencia'})"
   ]
  },
  {
   "cell_type": "code",
   "execution_count": 27,
   "metadata": {
    "execution": {
     "iopub.execute_input": "2020-12-12T23:31:11.545587Z",
     "iopub.status.busy": "2020-12-12T23:31:11.545426Z",
     "iopub.status.idle": "2020-12-12T23:31:11.658056Z",
     "shell.execute_reply": "2020-12-12T23:31:11.657435Z",
     "shell.execute_reply.started": "2020-12-12T23:31:11.545567Z"
    }
   },
   "outputs": [],
   "source": [
    "df3.to_parquet('../parquet_datasets/Nofetal_S.parquet')"
   ]
  }
 ],
 "metadata": {
  "kernelspec": {
   "display_name": "Python 3",
   "language": "python",
   "name": "python3"
  },
  "language_info": {
   "codemirror_mode": {
    "name": "ipython",
    "version": 3
   },
   "file_extension": ".py",
   "mimetype": "text/x-python",
   "name": "python",
   "nbconvert_exporter": "python",
   "pygments_lexer": "ipython3",
   "version": "3.8.5"
  }
 },
 "nbformat": 4,
 "nbformat_minor": 4
}
